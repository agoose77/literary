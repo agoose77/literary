{
 "cells": [
  {
   "cell_type": "markdown",
   "metadata": {
    "tags": [
     "docstring"
    ]
   },
   "source": [
    "# Importer\n",
    "There are two different mechanisms for loading Literate notebooks:\n",
    "* Import hooks\n",
    "* Code generation\n",
    "\n",
    "In this notebook, the mechanism by which `.ipynb` Python notebooks are loaded will be explored."
   ]
  },
  {
   "cell_type": "markdown",
   "metadata": {},
   "source": [
    "## Loaded modules"
   ]
  },
  {
   "cell_type": "markdown",
   "metadata": {},
   "source": [
    "### Loading a module"
   ]
  },
  {
   "cell_type": "markdown",
   "metadata": {},
   "source": [
    "Now we can import a notebook as a module:"
   ]
  },
  {
   "cell_type": "code",
   "execution_count": 2,
   "metadata": {
    "tags": []
   },
   "outputs": [],
   "source": [
    "from . import docstring"
   ]
  },
  {
   "cell_type": "markdown",
   "metadata": {},
   "source": [
    "And we can look at their docstrings:"
   ]
  },
  {
   "cell_type": "code",
   "execution_count": 3,
   "metadata": {},
   "outputs": [
    {
     "name": "stdout",
     "output_type": "stream",
     "text": [
      "Help on module package_a.docstring in package_a:\n",
      "\n",
      "NAME\n",
      "    package_a.docstring - # This is a docstring\n",
      "\n",
      "DESCRIPTION\n",
      "    This module is empty, but implements a nice Markdown docstring using the `docstring` cell tag:\n",
      "    \n",
      "    ![image.png](attachment:0f749c1e-a2d1-4260-8fd3-196e5f99c5be.png)\n",
      "\n",
      "FILE\n",
      "    /home/angus/Git/literary/examples/src/package_a/docstring.ipynb\n",
      "\n",
      "\n"
     ]
    }
   ],
   "source": [
    "help(docstring)"
   ]
  },
  {
   "cell_type": "markdown",
   "metadata": {},
   "source": [
    "We can also rich-display the docstring (but images will be omitted):"
   ]
  },
  {
   "cell_type": "code",
   "execution_count": 4,
   "metadata": {
    "tags": []
   },
   "outputs": [
    {
     "data": {
      "text/markdown": [
       "# This is a docstring\n",
       "\n",
       "This module is empty, but implements a nice Markdown docstring using the `docstring` cell tag:\n",
       "\n",
       "![image.png](attachment:0f749c1e-a2d1-4260-8fd3-196e5f99c5be.png)\n"
      ],
      "text/plain": [
       "<IPython.core.display.Markdown object>"
      ]
     },
     "execution_count": 4,
     "metadata": {},
     "output_type": "execute_result"
    }
   ],
   "source": [
    "from IPython.display import Markdown\n",
    "\n",
    "Markdown(docstring.__doc__)"
   ]
  },
  {
   "cell_type": "markdown",
   "metadata": {},
   "source": [
    "The loader sets the `__file__`, `__loader__`, and other module attributes:"
   ]
  },
  {
   "cell_type": "code",
   "execution_count": 5,
   "metadata": {},
   "outputs": [
    {
     "data": {
      "text/plain": [
       "'/home/angus/Git/literary/examples/src/package_a/docstring.ipynb'"
      ]
     },
     "execution_count": 5,
     "metadata": {},
     "output_type": "execute_result"
    }
   ],
   "source": [
    "docstring.__file__"
   ]
  },
  {
   "cell_type": "code",
   "execution_count": 6,
   "metadata": {},
   "outputs": [
    {
     "data": {
      "text/plain": [
       "<literary.notebook.loader.NotebookLoader at 0x7f56f58c8760>"
      ]
     },
     "execution_count": 6,
     "metadata": {},
     "output_type": "execute_result"
    }
   ],
   "source": [
    "docstring.__loader__"
   ]
  },
  {
   "cell_type": "markdown",
   "metadata": {},
   "source": [
    "### Accessing exports"
   ]
  },
  {
   "cell_type": "markdown",
   "metadata": {},
   "source": [
    "We could also import a notebook which defines some exports:"
   ]
  },
  {
   "cell_type": "code",
   "execution_count": 7,
   "metadata": {},
   "outputs": [],
   "source": [
    "from . import exports"
   ]
  },
  {
   "cell_type": "markdown",
   "metadata": {},
   "source": [
    "As a pure-Python module, `docstring` has some useful attributes"
   ]
  },
  {
   "cell_type": "code",
   "execution_count": 8,
   "metadata": {},
   "outputs": [
    {
     "data": {
      "text/plain": [
       "['A_BIG_LONG_STRING',\n",
       " '__builtins__',\n",
       " '__doc__',\n",
       " '__file__',\n",
       " '__loader__',\n",
       " '__name__',\n",
       " '__package__',\n",
       " '__spec__',\n",
       " 'how_long_is_a_piece_of_string']"
      ]
     },
     "execution_count": 8,
     "metadata": {},
     "output_type": "execute_result"
    }
   ],
   "source": [
    "dir(exports)"
   ]
  },
  {
   "cell_type": "code",
   "execution_count": 15,
   "metadata": {},
   "outputs": [
    {
     "data": {
      "text/plain": [
       "nan"
      ]
     },
     "execution_count": 15,
     "metadata": {},
     "output_type": "execute_result"
    }
   ],
   "source": [
    "exports.how_long_is_a_piece_of_string(\"\")"
   ]
  },
  {
   "cell_type": "markdown",
   "metadata": {},
   "source": [
    "### Generated Python code"
   ]
  },
  {
   "cell_type": "code",
   "execution_count": 10,
   "metadata": {},
   "outputs": [],
   "source": [
    "import inspect"
   ]
  },
  {
   "cell_type": "code",
   "execution_count": 11,
   "metadata": {},
   "outputs": [
    {
     "name": "stdout",
     "output_type": "stream",
     "text": [
      "\"\"\"# This is a docstring\n",
      "\n",
      "This module is empty, but implements a nice Markdown docstring using the `docstring` cell tag:\n",
      "\n",
      "![image.png](attachment:0f749c1e-a2d1-4260-8fd3-196e5f99c5be.png)\n",
      "\"\"\"\n"
     ]
    }
   ],
   "source": [
    "print(inspect.getsource(docstring))"
   ]
  },
  {
   "cell_type": "code",
   "execution_count": 12,
   "metadata": {},
   "outputs": [
    {
     "name": "stdout",
     "output_type": "stream",
     "text": [
      "\"\"\"# Exports\n",
      "\n",
      "By default, no cells in a notebook are converted to Python code (and therefore, are not available via imports). To generate Python code, we need to add the `export` cell-tag in the cell toolbar:\n",
      "\n",
      "![image.png](attachment:70fb2ad1-b117-403c-85a7-740e47e9f637.png)\n",
      "\"\"\"\n",
      "A_BIG_LONG_STRING = 'I am a big long string'\n",
      "\n",
      "def how_long_is_a_piece_of_string(piece_of_string):\n",
      "    return float('nan')\n"
     ]
    }
   ],
   "source": [
    "print(inspect.getsource(exports))"
   ]
  },
  {
   "cell_type": "code",
   "execution_count": 13,
   "metadata": {},
   "outputs": [],
   "source": [
    "from . import patching"
   ]
  },
  {
   "cell_type": "code",
   "execution_count": 14,
   "metadata": {
    "tags": []
   },
   "outputs": [
    {
     "name": "stdout",
     "output_type": "stream",
     "text": [
      "\"\"\"# Patching\n",
      "\n",
      "One of the advantages of literate programming is the ability to interleave documentation, examples, and implementation. The nature of Jupyter notebooks means that source code must be split into separate cells in order to add documentation and test routines between different units. This is simple to achieve with free-floating functions in the global namespace, but for classes (child namespaces) it is more difficult, e.g.:\n",
      "\"\"\"\n",
      "\n",
      "class Lemming:\n",
      "\n",
      "    def __init__(self, adjective):\n",
      "        self.adjective = adjective\n",
      "\n",
      "    def speak(self, entitlement: str):\n",
      "        return f'I am a {self.adjective} Lemming, which entitles me to your {entitlement}!'\n",
      "person = Lemming('desparate')\n"
     ]
    }
   ],
   "source": [
    "print(inspect.getsource(patching))"
   ]
  },
  {
   "cell_type": "code",
   "execution_count": null,
   "metadata": {},
   "outputs": [],
   "source": []
  }
 ],
 "metadata": {
  "kernelspec": {
   "display_name": "Python 3 (ipykernel)",
   "language": "python",
   "name": "python3"
  },
  "language_info": {
   "codemirror_mode": {
    "name": "ipython",
    "version": 3
   },
   "file_extension": ".py",
   "mimetype": "text/x-python",
   "name": "python",
   "nbconvert_exporter": "python",
   "pygments_lexer": "ipython3",
   "version": "3.10.4"
  }
 },
 "nbformat": 4,
 "nbformat_minor": 4
}

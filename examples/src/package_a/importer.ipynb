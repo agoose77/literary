{
 "cells": [
  {
   "cell_type": "markdown",
   "metadata": {
    "tags": [
     "docstring"
    ]
   },
   "source": [
    "# Importer\n",
    "There are two different mechanisms for loading Literate notebooks:\n",
    "* Import hooks\n",
    "* Code generation\n",
    "\n",
    "In this notebook, the mechanism by which `.ipynb` Python notebooks are loaded will be explored."
   ]
  },
  {
   "cell_type": "markdown",
   "metadata": {},
   "source": [
    "## Loaded modules"
   ]
  },
  {
   "cell_type": "markdown",
   "metadata": {},
   "source": [
    "### Loading the hook"
   ]
  },
  {
   "cell_type": "markdown",
   "metadata": {},
   "source": [
    "First we need to run the shim that installs the import hook and loads the useful globals:"
   ]
  },
  {
   "cell_type": "code",
   "execution_count": 1,
   "metadata": {
    "execution": {
     "iopub.execute_input": "2021-05-18T21:00:03.927916Z",
     "iopub.status.busy": "2021-05-18T21:00:03.927239Z",
     "iopub.status.idle": "2021-05-18T21:00:04.072514Z",
     "shell.execute_reply": "2021-05-18T21:00:04.073576Z"
    },
    "tags": []
   },
   "outputs": [],
   "source": [
    "%load_ext literary.notebook"
   ]
  },
  {
   "cell_type": "markdown",
   "metadata": {},
   "source": [
    "This is **only needed if we wish to execute this notebook directly**, as the import hook performs this step automatically when importing notebooks. Defining `__package__` enables us to perform relative imports. Let's import a function from [exports.ipynb]():"
   ]
  },
  {
   "cell_type": "markdown",
   "metadata": {},
   "source": [
    "### Loading a module"
   ]
  },
  {
   "cell_type": "markdown",
   "metadata": {},
   "source": [
    "Now we can import a notebook as a module:"
   ]
  },
  {
   "cell_type": "code",
   "execution_count": 2,
   "metadata": {
    "execution": {
     "iopub.execute_input": "2021-05-18T21:00:04.080043Z",
     "iopub.status.busy": "2021-05-18T21:00:04.078629Z",
     "iopub.status.idle": "2021-05-18T21:00:04.128296Z",
     "shell.execute_reply": "2021-05-18T21:00:04.129276Z"
    },
    "tags": []
   },
   "outputs": [],
   "source": [
    "from . import docstring"
   ]
  },
  {
   "cell_type": "markdown",
   "metadata": {},
   "source": [
    "And we can look at their docstrings:"
   ]
  },
  {
   "cell_type": "code",
   "execution_count": 3,
   "metadata": {
    "execution": {
     "iopub.execute_input": "2021-05-18T21:00:04.135149Z",
     "iopub.status.busy": "2021-05-18T21:00:04.133921Z",
     "iopub.status.idle": "2021-05-18T21:00:04.138217Z",
     "shell.execute_reply": "2021-05-18T21:00:04.138731Z"
    }
   },
   "outputs": [
    {
     "name": "stdout",
     "output_type": "stream",
     "text": [
      "Help on module package_a.docstring in package_a:\n",
      "\n",
      "NAME\n",
      "    package_a.docstring - # This is a docstring\n",
      "\n",
      "DESCRIPTION\n",
      "    This module is empty, but implements a nice Markdown docstring using the `docstring` cell tag:\n",
      "    \n",
      "    ![image.png](attachment:0f749c1e-a2d1-4260-8fd3-196e5f99c5be.png)\n",
      "\n",
      "FILE\n",
      "    /home/angus/Git/literary/examples/src/package_a/docstring.ipynb\n",
      "\n",
      "\n"
     ]
    }
   ],
   "source": [
    "help(docstring)"
   ]
  },
  {
   "cell_type": "markdown",
   "metadata": {},
   "source": [
    "We can also rich-display the docstring (but images will be omitted):"
   ]
  },
  {
   "cell_type": "code",
   "execution_count": 4,
   "metadata": {
    "execution": {
     "iopub.execute_input": "2021-05-18T21:00:04.151676Z",
     "iopub.status.busy": "2021-05-18T21:00:04.151060Z",
     "iopub.status.idle": "2021-05-18T21:00:04.153760Z",
     "shell.execute_reply": "2021-05-18T21:00:04.154765Z"
    },
    "tags": []
   },
   "outputs": [
    {
     "data": {
      "text/markdown": [
       "# This is a docstring\n",
       "\n",
       "This module is empty, but implements a nice Markdown docstring using the `docstring` cell tag:\n",
       "\n",
       "![image.png](attachment:0f749c1e-a2d1-4260-8fd3-196e5f99c5be.png)\n"
      ],
      "text/plain": [
       "<IPython.core.display.Markdown object>"
      ]
     },
     "execution_count": 1,
     "metadata": {},
     "output_type": "execute_result"
    }
   ],
   "source": [
    "from IPython.display import Markdown\n",
    "\n",
    "Markdown(docstring.__doc__)"
   ]
  },
  {
   "cell_type": "markdown",
   "metadata": {},
   "source": [
    "The loader sets the `__file__`, `__loader__`, and other module attributes:"
   ]
  },
  {
   "cell_type": "code",
   "execution_count": 5,
   "metadata": {
    "execution": {
     "iopub.execute_input": "2021-05-18T21:00:04.160470Z",
     "iopub.status.busy": "2021-05-18T21:00:04.159225Z",
     "iopub.status.idle": "2021-05-18T21:00:04.162950Z",
     "shell.execute_reply": "2021-05-18T21:00:04.162325Z"
    }
   },
   "outputs": [
    {
     "data": {
      "text/plain": [
       "'/home/angus/Git/literary/examples/src/package_a/docstring.ipynb'"
      ]
     },
     "execution_count": 1,
     "metadata": {},
     "output_type": "execute_result"
    }
   ],
   "source": [
    "docstring.__file__"
   ]
  },
  {
   "cell_type": "code",
   "execution_count": 6,
   "metadata": {
    "execution": {
     "iopub.execute_input": "2021-05-18T21:00:04.169385Z",
     "iopub.status.busy": "2021-05-18T21:00:04.168780Z",
     "iopub.status.idle": "2021-05-18T21:00:04.172759Z",
     "shell.execute_reply": "2021-05-18T21:00:04.173266Z"
    }
   },
   "outputs": [
    {
     "data": {
      "text/plain": [
       "<literary.notebook.loader.NotebookLoader at 0x7f1ddb0d1160>"
      ]
     },
     "execution_count": 1,
     "metadata": {},
     "output_type": "execute_result"
    }
   ],
   "source": [
    "docstring.__loader__"
   ]
  },
  {
   "cell_type": "markdown",
   "metadata": {},
   "source": [
    "### Accessing exports"
   ]
  },
  {
   "cell_type": "markdown",
   "metadata": {},
   "source": [
    "We could also import a notebook which defines some exports:"
   ]
  },
  {
   "cell_type": "code",
   "execution_count": 7,
   "metadata": {
    "execution": {
     "iopub.execute_input": "2021-05-18T21:00:04.178626Z",
     "iopub.status.busy": "2021-05-18T21:00:04.178017Z",
     "iopub.status.idle": "2021-05-18T21:00:04.195493Z",
     "shell.execute_reply": "2021-05-18T21:00:04.195992Z"
    }
   },
   "outputs": [],
   "source": [
    "from . import exports"
   ]
  },
  {
   "cell_type": "markdown",
   "metadata": {},
   "source": [
    "As a pure-Python module, `docstring` has some useful attributes"
   ]
  },
  {
   "cell_type": "code",
   "execution_count": 8,
   "metadata": {
    "execution": {
     "iopub.execute_input": "2021-05-18T21:00:04.200930Z",
     "iopub.status.busy": "2021-05-18T21:00:04.200334Z",
     "iopub.status.idle": "2021-05-18T21:00:04.204534Z",
     "shell.execute_reply": "2021-05-18T21:00:04.203900Z"
    }
   },
   "outputs": [
    {
     "data": {
      "text/plain": [
       "['A_BIG_LONG_STRING',\n",
       " '__builtins__',\n",
       " '__doc__',\n",
       " '__file__',\n",
       " '__loader__',\n",
       " '__name__',\n",
       " '__package__',\n",
       " '__spec__',\n",
       " 'how_long_is_a_piece_of_string']"
      ]
     },
     "execution_count": 1,
     "metadata": {},
     "output_type": "execute_result"
    }
   ],
   "source": [
    "dir(exports)"
   ]
  },
  {
   "cell_type": "code",
   "execution_count": 9,
   "metadata": {
    "execution": {
     "iopub.execute_input": "2021-05-18T21:00:04.208990Z",
     "iopub.status.busy": "2021-05-18T21:00:04.208397Z",
     "iopub.status.idle": "2021-05-18T21:00:04.212516Z",
     "shell.execute_reply": "2021-05-18T21:00:04.211987Z"
    }
   },
   "outputs": [
    {
     "data": {
      "text/plain": [
       "nan"
      ]
     },
     "execution_count": 1,
     "metadata": {},
     "output_type": "execute_result"
    }
   ],
   "source": [
    "exports.how_long_is_a_piece_of_string(\"\")"
   ]
  },
  {
   "cell_type": "markdown",
   "metadata": {},
   "source": [
    "### Generated Python code"
   ]
  },
  {
   "cell_type": "code",
   "execution_count": 10,
   "metadata": {
    "execution": {
     "iopub.execute_input": "2021-05-18T21:00:04.216501Z",
     "iopub.status.busy": "2021-05-18T21:00:04.215914Z",
     "iopub.status.idle": "2021-05-18T21:00:04.219027Z",
     "shell.execute_reply": "2021-05-18T21:00:04.219509Z"
    }
   },
   "outputs": [],
   "source": [
    "import inspect"
   ]
  },
  {
   "cell_type": "code",
   "execution_count": 11,
   "metadata": {
    "execution": {
     "iopub.execute_input": "2021-05-18T21:00:04.225118Z",
     "iopub.status.busy": "2021-05-18T21:00:04.224494Z",
     "iopub.status.idle": "2021-05-18T21:00:04.228833Z",
     "shell.execute_reply": "2021-05-18T21:00:04.228231Z"
    }
   },
   "outputs": [
    {
     "name": "stdout",
     "output_type": "stream",
     "text": [
      "\"\"\"# This is a docstring\n",
      "\n",
      "This module is empty, but implements a nice Markdown docstring using the `docstring` cell tag:\n",
      "\n",
      "![image.png](attachment:0f749c1e-a2d1-4260-8fd3-196e5f99c5be.png)\n",
      "\"\"\"\n"
     ]
    }
   ],
   "source": [
    "print(inspect.getsource(docstring))"
   ]
  },
  {
   "cell_type": "code",
   "execution_count": 12,
   "metadata": {
    "execution": {
     "iopub.execute_input": "2021-05-18T21:00:04.234821Z",
     "iopub.status.busy": "2021-05-18T21:00:04.234225Z",
     "iopub.status.idle": "2021-05-18T21:00:04.237948Z",
     "shell.execute_reply": "2021-05-18T21:00:04.237336Z"
    }
   },
   "outputs": [
    {
     "name": "stdout",
     "output_type": "stream",
     "text": [
      "\"\"\"# Exports\n",
      "\n",
      "By default, no cells in a notebook are converted to Python code (and therefore, are not available via imports). To generate Python code, we need to add the `export` cell-tag in the cell toolbar:\n",
      "\n",
      "![image.png](attachment:70fb2ad1-b117-403c-85a7-740e47e9f637.png)\n",
      "\"\"\"\n",
      "A_BIG_LONG_STRING = 'I am a big long string'\n",
      "\n",
      "def how_long_is_a_piece_of_string(piece_of_string):\n",
      "    return float('nan')\n"
     ]
    }
   ],
   "source": [
    "print(inspect.getsource(exports))"
   ]
  },
  {
   "cell_type": "code",
   "execution_count": 13,
   "metadata": {
    "execution": {
     "iopub.execute_input": "2021-05-18T21:00:04.241732Z",
     "iopub.status.busy": "2021-05-18T21:00:04.241129Z",
     "iopub.status.idle": "2021-05-18T21:00:04.269865Z",
     "shell.execute_reply": "2021-05-18T21:00:04.270358Z"
    }
   },
   "outputs": [],
   "source": [
    "from . import patching"
   ]
  },
  {
   "cell_type": "code",
   "execution_count": 14,
   "metadata": {
    "execution": {
     "iopub.execute_input": "2021-05-18T21:00:04.274454Z",
     "iopub.status.busy": "2021-05-18T21:00:04.273835Z",
     "iopub.status.idle": "2021-05-18T21:00:04.277910Z",
     "shell.execute_reply": "2021-05-18T21:00:04.277298Z"
    },
    "tags": []
   },
   "outputs": [
    {
     "name": "stdout",
     "output_type": "stream",
     "text": [
      "\"\"\"# Patching\n",
      "\n",
      "One of the advantages of literate programming is the ability to interleave documentation, examples, and implementation. The nature of Jupyter notebooks means that source code must be split into separate cells in order to add documentation and test routines between different units. This is simple to achieve with free-floating functions in the global namespace, but for classes (child namespaces) it is more difficult, e.g.:\n",
      "\"\"\"\n",
      "\n",
      "class Lemming:\n",
      "\n",
      "    def __init__(self, adjective):\n",
      "        self.adjective = adjective\n",
      "\n",
      "    def speak(self, entitlement: str):\n",
      "        return f'I am a {self.adjective} Lemming, which entitles me to your {entitlement}!'\n",
      "person = Lemming('desparate')\n"
     ]
    }
   ],
   "source": [
    "print(inspect.getsource(patching))"
   ]
  },
  {
   "cell_type": "code",
   "execution_count": null,
   "metadata": {},
   "outputs": [],
   "source": []
  }
 ],
 "metadata": {
  "kernelspec": {
   "display_name": "Python 3",
   "language": "python",
   "name": "python3"
  },
  "language_info": {
   "codemirror_mode": {
    "name": "ipython",
    "version": 3
   },
   "file_extension": ".py",
   "mimetype": "text/x-python",
   "name": "python",
   "nbconvert_exporter": "python",
   "pygments_lexer": "ipython3",
   "version": "3.9.0"
  }
 },
 "nbformat": 4,
 "nbformat_minor": 4
}

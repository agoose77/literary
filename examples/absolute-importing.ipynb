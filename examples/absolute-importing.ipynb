{
 "cells": [
  {
   "cell_type": "markdown",
   "id": "under-general",
   "metadata": {},
   "source": [
    "# Absolute Importing\n",
    "This notebook is a pure Jupyter notebook (doesn't use any special cell tags) that imports from `package_a`, to demonstrate absolute imports."
   ]
  },
  {
   "cell_type": "markdown",
   "id": "trying-passage",
   "metadata": {},
   "source": [
    "### Install notebook hook\n",
    "This is only required once, if this notebook wishes to import from .ipynb\n",
    "Once Literary packages have been built into pure-Python equivalents, this is not required."
   ]
  },
  {
   "cell_type": "code",
   "execution_count": 1,
   "id": "satisfactory-discretion",
   "metadata": {},
   "outputs": [],
   "source": [
    "%run -m literary.notebook"
   ]
  },
  {
   "cell_type": "markdown",
   "id": "favorite-questionnaire",
   "metadata": {},
   "source": [
    "### Import test package"
   ]
  },
  {
   "cell_type": "code",
   "execution_count": 2,
   "id": "interior-start",
   "metadata": {},
   "outputs": [],
   "source": [
    "import package_a"
   ]
  },
  {
   "cell_type": "code",
   "execution_count": 3,
   "id": "handled-picture",
   "metadata": {},
   "outputs": [
    {
     "data": {
      "text/plain": [
       "['__doc__',\n",
       " '__file__',\n",
       " '__loader__',\n",
       " '__name__',\n",
       " '__package__',\n",
       " '__path__',\n",
       " '__spec__']"
      ]
     },
     "execution_count": 3,
     "metadata": {},
     "output_type": "execute_result"
    }
   ],
   "source": [
    "dir(package_a)"
   ]
  },
  {
   "cell_type": "markdown",
   "id": "stretch-suggestion",
   "metadata": {},
   "source": [
    "### Investigate a submodule"
   ]
  },
  {
   "cell_type": "code",
   "execution_count": 4,
   "id": "chicken-grill",
   "metadata": {},
   "outputs": [],
   "source": [
    "import package_a.exports as exports"
   ]
  },
  {
   "cell_type": "code",
   "execution_count": 5,
   "id": "desirable-promotion",
   "metadata": {},
   "outputs": [
    {
     "data": {
      "text/plain": [
       "['A_BIG_LONG_STRING',\n",
       " '__builtins__',\n",
       " '__doc__',\n",
       " '__file__',\n",
       " '__loader__',\n",
       " '__name__',\n",
       " '__package__',\n",
       " '__spec__',\n",
       " 'how_long_is_a_piece_of_string']"
      ]
     },
     "execution_count": 5,
     "metadata": {},
     "output_type": "execute_result"
    }
   ],
   "source": [
    "dir(exports)"
   ]
  },
  {
   "cell_type": "code",
   "execution_count": 6,
   "id": "disabled-contrary",
   "metadata": {},
   "outputs": [],
   "source": [
    "import pathlib"
   ]
  },
  {
   "cell_type": "code",
   "execution_count": 7,
   "id": "accepted-arbor",
   "metadata": {},
   "outputs": [
    {
     "data": {
      "text/plain": [
       "PosixPath('.')"
      ]
     },
     "execution_count": 7,
     "metadata": {},
     "output_type": "execute_result"
    }
   ],
   "source": [
    "path = pathlib.Path()\n",
    "path.parent"
   ]
  }
 ],
 "metadata": {
  "kernelspec": {
   "display_name": "Python 3",
   "language": "python",
   "name": "python3"
  },
  "language_info": {
   "codemirror_mode": {
    "name": "ipython",
    "version": 3
   },
   "file_extension": ".py",
   "mimetype": "text/x-python",
   "name": "python",
   "nbconvert_exporter": "python",
   "pygments_lexer": "ipython3",
   "version": "3.9.0"
  }
 },
 "nbformat": 4,
 "nbformat_minor": 5
}

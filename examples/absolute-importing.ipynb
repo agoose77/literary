{
 "cells": [
  {
   "cell_type": "markdown",
   "id": "under-general",
   "metadata": {},
   "source": [
    "# Absolute Importing\n",
    "This notebook is a pure Jupyter notebook (doesn't use any special cell tags) that imports from `package_a`, to demonstrate absolute imports."
   ]
  },
  {
   "cell_type": "markdown",
   "id": "trying-passage",
   "metadata": {},
   "source": [
    "### Install notebook hook\n",
    "This is only required once, if this notebook wishes to import from .ipynb\n",
    "Once Literary packages have been built into pure-Python equivalents, this is not required."
   ]
  },
  {
   "cell_type": "code",
   "execution_count": 1,
   "id": "satisfactory-discretion",
   "metadata": {
    "execution": {
     "iopub.execute_input": "2021-05-17T16:23:42.890341Z",
     "iopub.status.busy": "2021-05-17T16:23:42.888893Z",
     "iopub.status.idle": "2021-05-17T16:23:43.023832Z",
     "shell.execute_reply": "2021-05-17T16:23:43.023154Z"
    }
   },
   "outputs": [],
   "source": [
    "%load_ext literary.notebook"
   ]
  },
  {
   "cell_type": "markdown",
   "id": "favorite-questionnaire",
   "metadata": {},
   "source": [
    "### Import test package"
   ]
  },
  {
   "cell_type": "code",
   "execution_count": 2,
   "id": "interior-start",
   "metadata": {
    "execution": {
     "iopub.execute_input": "2021-05-17T16:23:43.029661Z",
     "iopub.status.busy": "2021-05-17T16:23:43.028319Z",
     "iopub.status.idle": "2021-05-17T16:23:43.075196Z",
     "shell.execute_reply": "2021-05-17T16:23:43.074127Z"
    }
   },
   "outputs": [],
   "source": [
    "import package_a"
   ]
  },
  {
   "cell_type": "code",
   "execution_count": 3,
   "id": "handled-picture",
   "metadata": {
    "execution": {
     "iopub.execute_input": "2021-05-17T16:23:43.088805Z",
     "iopub.status.busy": "2021-05-17T16:23:43.087472Z",
     "iopub.status.idle": "2021-05-17T16:23:43.092410Z",
     "shell.execute_reply": "2021-05-17T16:23:43.093505Z"
    }
   },
   "outputs": [
    {
     "data": {
      "text/plain": [
       "['__builtins__',\n",
       " '__doc__',\n",
       " '__file__',\n",
       " '__loader__',\n",
       " '__name__',\n",
       " '__package__',\n",
       " '__path__',\n",
       " '__spec__']"
      ]
     },
     "execution_count": 1,
     "metadata": {},
     "output_type": "execute_result"
    }
   ],
   "source": [
    "dir(package_a)"
   ]
  },
  {
   "cell_type": "markdown",
   "id": "stretch-suggestion",
   "metadata": {},
   "source": [
    "### Investigate a submodule"
   ]
  },
  {
   "cell_type": "code",
   "execution_count": 4,
   "id": "chicken-grill",
   "metadata": {
    "execution": {
     "iopub.execute_input": "2021-05-17T16:23:43.099707Z",
     "iopub.status.busy": "2021-05-17T16:23:43.098380Z",
     "iopub.status.idle": "2021-05-17T16:23:43.153933Z",
     "shell.execute_reply": "2021-05-17T16:23:43.154926Z"
    }
   },
   "outputs": [],
   "source": [
    "import package_a.exports as exports"
   ]
  },
  {
   "cell_type": "code",
   "execution_count": 5,
   "id": "desirable-promotion",
   "metadata": {
    "execution": {
     "iopub.execute_input": "2021-05-17T16:23:43.161875Z",
     "iopub.status.busy": "2021-05-17T16:23:43.160503Z",
     "iopub.status.idle": "2021-05-17T16:23:43.164628Z",
     "shell.execute_reply": "2021-05-17T16:23:43.165137Z"
    }
   },
   "outputs": [
    {
     "data": {
      "text/plain": [
       "['A_BIG_LONG_STRING',\n",
       " '__builtins__',\n",
       " '__doc__',\n",
       " '__file__',\n",
       " '__loader__',\n",
       " '__name__',\n",
       " '__package__',\n",
       " '__spec__',\n",
       " 'how_long_is_a_piece_of_string']"
      ]
     },
     "execution_count": 1,
     "metadata": {},
     "output_type": "execute_result"
    }
   ],
   "source": [
    "dir(exports)"
   ]
  },
  {
   "cell_type": "code",
   "execution_count": 6,
   "id": "disabled-contrary",
   "metadata": {
    "execution": {
     "iopub.execute_input": "2021-05-17T16:23:43.168958Z",
     "iopub.status.busy": "2021-05-17T16:23:43.168354Z",
     "iopub.status.idle": "2021-05-17T16:23:43.171504Z",
     "shell.execute_reply": "2021-05-17T16:23:43.170855Z"
    }
   },
   "outputs": [],
   "source": [
    "import pathlib"
   ]
  },
  {
   "cell_type": "code",
   "execution_count": 7,
   "id": "accepted-arbor",
   "metadata": {
    "execution": {
     "iopub.execute_input": "2021-05-17T16:23:43.176262Z",
     "iopub.status.busy": "2021-05-17T16:23:43.175641Z",
     "iopub.status.idle": "2021-05-17T16:23:43.179640Z",
     "shell.execute_reply": "2021-05-17T16:23:43.178977Z"
    }
   },
   "outputs": [
    {
     "data": {
      "text/plain": [
       "PosixPath('.')"
      ]
     },
     "execution_count": 1,
     "metadata": {},
     "output_type": "execute_result"
    }
   ],
   "source": [
    "path = pathlib.Path()\n",
    "path.parent"
   ]
  }
 ],
 "metadata": {
  "kernelspec": {
   "display_name": "Python 3",
   "language": "python",
   "name": "python3"
  },
  "language_info": {
   "codemirror_mode": {
    "name": "ipython",
    "version": 3
   },
   "file_extension": ".py",
   "mimetype": "text/x-python",
   "name": "python",
   "nbconvert_exporter": "python",
   "pygments_lexer": "ipython3",
   "version": "3.9.0"
  }
 },
 "nbformat": 4,
 "nbformat_minor": 5
}

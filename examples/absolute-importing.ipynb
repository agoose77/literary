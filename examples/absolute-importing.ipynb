{
 "cells": [
  {
   "cell_type": "markdown",
   "id": "under-general",
   "metadata": {
    "editable": true,
    "slideshow": {
     "slide_type": ""
    },
    "tags": []
   },
   "source": [
    "# Absolute Importing\n",
    "This notebook is a pure Jupyter notebook (doesn't use any special cell tags) that imports from `package_a`, to demonstrate absolute imports."
   ]
  },
  {
   "cell_type": "markdown",
   "id": "favorite-questionnaire",
   "metadata": {},
   "source": [
    "### Import test package"
   ]
  },
  {
   "cell_type": "code",
   "execution_count": 1,
   "id": "interior-start",
   "metadata": {
    "editable": true,
    "slideshow": {
     "slide_type": ""
    },
    "tags": []
   },
   "outputs": [],
   "source": [
    "import package_a"
   ]
  },
  {
   "cell_type": "code",
   "execution_count": 2,
   "id": "handled-picture",
   "metadata": {
    "tags": []
   },
   "outputs": [
    {
     "data": {
      "text/plain": [
       "['__builtins__',\n",
       " '__doc__',\n",
       " '__file__',\n",
       " '__loader__',\n",
       " '__name__',\n",
       " '__package__',\n",
       " '__path__',\n",
       " '__spec__']"
      ]
     },
     "execution_count": 2,
     "metadata": {},
     "output_type": "execute_result"
    }
   ],
   "source": [
    "dir(package_a)"
   ]
  },
  {
   "cell_type": "markdown",
   "id": "stretch-suggestion",
   "metadata": {},
   "source": [
    "### Investigate a submodule"
   ]
  },
  {
   "cell_type": "code",
   "execution_count": 3,
   "id": "chicken-grill",
   "metadata": {
    "tags": []
   },
   "outputs": [],
   "source": [
    "import package_a.exports as exports"
   ]
  },
  {
   "cell_type": "code",
   "execution_count": 4,
   "id": "desirable-promotion",
   "metadata": {
    "tags": []
   },
   "outputs": [
    {
     "data": {
      "text/plain": [
       "['A_BIG_LONG_STRING',\n",
       " '__builtins__',\n",
       " '__doc__',\n",
       " '__file__',\n",
       " '__loader__',\n",
       " '__name__',\n",
       " '__package__',\n",
       " '__spec__',\n",
       " 'how_long_is_a_piece_of_string']"
      ]
     },
     "execution_count": 4,
     "metadata": {},
     "output_type": "execute_result"
    }
   ],
   "source": [
    "dir(exports)"
   ]
  }
 ],
 "metadata": {
  "kernelspec": {
   "display_name": "Python 3 (ipykernel)",
   "language": "python",
   "name": "python3"
  },
  "language_info": {
   "codemirror_mode": {
    "name": "ipython",
    "version": 3
   },
   "file_extension": ".py",
   "mimetype": "text/x-python",
   "name": "python",
   "nbconvert_exporter": "python",
   "pygments_lexer": "ipython3",
   "version": "3.13.5"
  }
 },
 "nbformat": 4,
 "nbformat_minor": 5
}

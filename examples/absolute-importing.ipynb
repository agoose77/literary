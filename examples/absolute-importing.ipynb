{
 "cells": [
  {
   "cell_type": "markdown",
   "id": "three-acrylic",
   "metadata": {},
   "source": [
    "# Absolute Importing\n",
    "This notebook is a pure Jupyter notebook (doesn't use any special cell tags) that imports from `package_a`, to demonstrate absolute imports."
   ]
  },
  {
   "cell_type": "markdown",
   "id": "grateful-junction",
   "metadata": {},
   "source": [
    "### Install notebook hook\n",
    "This is only required once, if this notebook wishes to import from .ipynb\n",
    "Once Literary packages have been built into pure-Python equivalents, this is not required."
   ]
  },
  {
   "cell_type": "code",
   "execution_count": 1,
   "id": "progressive-wound",
   "metadata": {},
   "outputs": [],
   "source": [
    "%run -m literary.notebook"
   ]
  },
  {
   "cell_type": "markdown",
   "id": "scheduled-dubai",
   "metadata": {},
   "source": [
    "### Import test package"
   ]
  },
  {
   "cell_type": "code",
   "execution_count": 2,
   "id": "signal-decimal",
   "metadata": {},
   "outputs": [
    {
     "name": "stdout",
     "output_type": "stream",
     "text": [
      "package_a is being imported, hello from /home/angus/Git/literary/examples/package_a/__init__.ipynb\n"
     ]
    }
   ],
   "source": [
    "import package_a"
   ]
  },
  {
   "cell_type": "code",
   "execution_count": 3,
   "id": "ready-panama",
   "metadata": {},
   "outputs": [
    {
     "data": {
      "text/plain": [
       "['__builtins__',\n",
       " '__doc__',\n",
       " '__file__',\n",
       " '__loader__',\n",
       " '__name__',\n",
       " '__package__',\n",
       " '__path__',\n",
       " '__spec__']"
      ]
     },
     "execution_count": 3,
     "metadata": {},
     "output_type": "execute_result"
    }
   ],
   "source": [
    "dir(package_a)"
   ]
  },
  {
   "cell_type": "markdown",
   "id": "extreme-springfield",
   "metadata": {},
   "source": [
    "### Investigate a submodule"
   ]
  },
  {
   "cell_type": "code",
   "execution_count": 4,
   "id": "active-firewall",
   "metadata": {},
   "outputs": [],
   "source": [
    "import package_a.exports as exports"
   ]
  },
  {
   "cell_type": "code",
   "execution_count": 5,
   "id": "direct-sunglasses",
   "metadata": {},
   "outputs": [
    {
     "data": {
      "text/plain": [
       "['A_BIG_LONG_STRING',\n",
       " '__builtins__',\n",
       " '__doc__',\n",
       " '__file__',\n",
       " '__loader__',\n",
       " '__name__',\n",
       " '__package__',\n",
       " '__spec__',\n",
       " 'how_long_is_a_piece_of_string']"
      ]
     },
     "execution_count": 5,
     "metadata": {},
     "output_type": "execute_result"
    }
   ],
   "source": [
    "dir(exports)"
   ]
  },
  {
   "cell_type": "code",
   "execution_count": null,
   "id": "intermediate-circumstances",
   "metadata": {},
   "outputs": [],
   "source": []
  }
 ],
 "metadata": {
  "kernelspec": {
   "display_name": "Python 3",
   "language": "python",
   "name": "python3"
  },
  "language_info": {
   "codemirror_mode": {
    "name": "ipython",
    "version": 3
   },
   "file_extension": ".py",
   "mimetype": "text/x-python",
   "name": "python",
   "nbconvert_exporter": "python",
   "pygments_lexer": "ipython3",
   "version": "3.9.0"
  }
 },
 "nbformat": 4,
 "nbformat_minor": 5
}

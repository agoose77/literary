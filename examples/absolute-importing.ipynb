{
 "cells": [
  {
   "cell_type": "markdown",
   "id": "under-general",
   "metadata": {},
   "source": [
    "# Absolute Importing\n",
    "This notebook is a pure Jupyter notebook (doesn't use any special cell tags) that imports from `package_a`, to demonstrate absolute imports."
   ]
  },
  {
   "cell_type": "markdown",
   "id": "trying-passage",
   "metadata": {},
   "source": [
    "### Install notebook hook\n",
    "This is only required once, if this notebook wishes to import from .ipynb\n",
    "Once Literary packages have been built into pure-Python equivalents, this is not required."
   ]
  },
  {
   "cell_type": "code",
   "execution_count": 1,
   "id": "satisfactory-discretion",
   "metadata": {
    "execution": {
     "iopub.execute_input": "2021-05-18T21:00:00.533726Z",
     "iopub.status.busy": "2021-05-18T21:00:00.532056Z",
     "iopub.status.idle": "2021-05-18T21:00:00.672791Z",
     "shell.execute_reply": "2021-05-18T21:00:00.671456Z"
    },
    "tags": []
   },
   "outputs": [],
   "source": [
    "%load_ext literary.notebook"
   ]
  },
  {
   "cell_type": "markdown",
   "id": "favorite-questionnaire",
   "metadata": {},
   "source": [
    "### Import test package"
   ]
  },
  {
   "cell_type": "code",
   "execution_count": 2,
   "id": "interior-start",
   "metadata": {
    "execution": {
     "iopub.execute_input": "2021-05-18T21:00:00.677319Z",
     "iopub.status.busy": "2021-05-18T21:00:00.676617Z",
     "iopub.status.idle": "2021-05-18T21:00:00.723560Z",
     "shell.execute_reply": "2021-05-18T21:00:00.723009Z"
    }
   },
   "outputs": [],
   "source": [
    "import package_a"
   ]
  },
  {
   "cell_type": "code",
   "execution_count": 3,
   "id": "handled-picture",
   "metadata": {
    "execution": {
     "iopub.execute_input": "2021-05-18T21:00:00.735885Z",
     "iopub.status.busy": "2021-05-18T21:00:00.735166Z",
     "iopub.status.idle": "2021-05-18T21:00:00.739095Z",
     "shell.execute_reply": "2021-05-18T21:00:00.740159Z"
    }
   },
   "outputs": [
    {
     "data": {
      "text/plain": [
       "['__builtins__',\n",
       " '__doc__',\n",
       " '__file__',\n",
       " '__loader__',\n",
       " '__name__',\n",
       " '__package__',\n",
       " '__path__',\n",
       " '__spec__']"
      ]
     },
     "execution_count": 1,
     "metadata": {},
     "output_type": "execute_result"
    }
   ],
   "source": [
    "dir(package_a)"
   ]
  },
  {
   "cell_type": "markdown",
   "id": "stretch-suggestion",
   "metadata": {},
   "source": [
    "### Investigate a submodule"
   ]
  },
  {
   "cell_type": "code",
   "execution_count": 4,
   "id": "chicken-grill",
   "metadata": {
    "execution": {
     "iopub.execute_input": "2021-05-18T21:00:00.745300Z",
     "iopub.status.busy": "2021-05-18T21:00:00.744581Z",
     "iopub.status.idle": "2021-05-18T21:00:00.765017Z",
     "shell.execute_reply": "2021-05-18T21:00:00.764388Z"
    }
   },
   "outputs": [],
   "source": [
    "import package_a.exports as exports"
   ]
  },
  {
   "cell_type": "code",
   "execution_count": 5,
   "id": "desirable-promotion",
   "metadata": {
    "execution": {
     "iopub.execute_input": "2021-05-18T21:00:00.769694Z",
     "iopub.status.busy": "2021-05-18T21:00:00.768946Z",
     "iopub.status.idle": "2021-05-18T21:00:00.772354Z",
     "shell.execute_reply": "2021-05-18T21:00:00.771821Z"
    }
   },
   "outputs": [
    {
     "data": {
      "text/plain": [
       "['A_BIG_LONG_STRING',\n",
       " '__builtins__',\n",
       " '__doc__',\n",
       " '__file__',\n",
       " '__loader__',\n",
       " '__name__',\n",
       " '__package__',\n",
       " '__spec__',\n",
       " 'how_long_is_a_piece_of_string']"
      ]
     },
     "execution_count": 1,
     "metadata": {},
     "output_type": "execute_result"
    }
   ],
   "source": [
    "dir(exports)"
   ]
  },
  {
   "cell_type": "code",
   "execution_count": 6,
   "id": "disabled-contrary",
   "metadata": {
    "execution": {
     "iopub.execute_input": "2021-05-18T21:00:00.776248Z",
     "iopub.status.busy": "2021-05-18T21:00:00.775531Z",
     "iopub.status.idle": "2021-05-18T21:00:00.778136Z",
     "shell.execute_reply": "2021-05-18T21:00:00.777527Z"
    }
   },
   "outputs": [],
   "source": [
    "import pathlib"
   ]
  },
  {
   "cell_type": "code",
   "execution_count": 7,
   "id": "accepted-arbor",
   "metadata": {
    "execution": {
     "iopub.execute_input": "2021-05-18T21:00:00.783010Z",
     "iopub.status.busy": "2021-05-18T21:00:00.782340Z",
     "iopub.status.idle": "2021-05-18T21:00:00.785394Z",
     "shell.execute_reply": "2021-05-18T21:00:00.784844Z"
    },
    "tags": []
   },
   "outputs": [
    {
     "data": {
      "text/plain": [
       "PosixPath('.')"
      ]
     },
     "execution_count": 1,
     "metadata": {},
     "output_type": "execute_result"
    }
   ],
   "source": [
    "path = pathlib.Path()\n",
    "path.parent"
   ]
  }
 ],
 "metadata": {
  "kernelspec": {
   "display_name": "Python 3",
   "language": "python",
   "name": "python3"
  },
  "language_info": {
   "codemirror_mode": {
    "name": "ipython",
    "version": 3
   },
   "file_extension": ".py",
   "mimetype": "text/x-python",
   "name": "python",
   "nbconvert_exporter": "python",
   "pygments_lexer": "ipython3",
   "version": "3.9.0"
  }
 },
 "nbformat": 4,
 "nbformat_minor": 5
}

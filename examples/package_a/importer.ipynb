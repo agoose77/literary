{
 "cells": [
  {
   "cell_type": "markdown",
   "metadata": {
    "tags": [
     "docstring"
    ]
   },
   "source": [
    "# Importer\n",
    "There are two different mechanisms for loading Literate notebooks:\n",
    "* Import hooks\n",
    "* Code generation\n",
    "\n",
    "In this notebook, the mechanism by which `.ipynb` Python notebooks are loaded will be explored."
   ]
  },
  {
   "cell_type": "markdown",
   "metadata": {},
   "source": [
    "## Loaded modules"
   ]
  },
  {
   "cell_type": "markdown",
   "metadata": {},
   "source": [
    "### Loading the hook"
   ]
  },
  {
   "cell_type": "markdown",
   "metadata": {},
   "source": [
    "First we need to run the shim that installs the import hook and loads the useful globals:"
   ]
  },
  {
   "cell_type": "code",
   "execution_count": 1,
   "metadata": {
    "execution": {
     "iopub.execute_input": "2021-05-17T16:23:46.338973Z",
     "iopub.status.busy": "2021-05-17T16:23:46.337360Z",
     "iopub.status.idle": "2021-05-17T16:23:46.477436Z",
     "shell.execute_reply": "2021-05-17T16:23:46.476275Z"
    }
   },
   "outputs": [],
   "source": [
    "%load_ext literary.notebook"
   ]
  },
  {
   "cell_type": "markdown",
   "metadata": {},
   "source": [
    "This is **only needed if we wish to execute this notebook directly**, as the import hook performs this step automatically when importing notebooks. Defining `__package__` enables us to perform relative imports. Let's import a function from [exports.ipynb]():"
   ]
  },
  {
   "cell_type": "markdown",
   "metadata": {},
   "source": [
    "### Loading a module"
   ]
  },
  {
   "cell_type": "markdown",
   "metadata": {},
   "source": [
    "Now we can import a notebook as a module:"
   ]
  },
  {
   "cell_type": "code",
   "execution_count": 2,
   "metadata": {
    "execution": {
     "iopub.execute_input": "2021-05-17T16:23:46.482477Z",
     "iopub.status.busy": "2021-05-17T16:23:46.481840Z",
     "iopub.status.idle": "2021-05-17T16:23:46.571963Z",
     "shell.execute_reply": "2021-05-17T16:23:46.572905Z"
    }
   },
   "outputs": [],
   "source": [
    "from . import docstring"
   ]
  },
  {
   "cell_type": "markdown",
   "metadata": {},
   "source": [
    "And we can look at their docstrings:"
   ]
  },
  {
   "cell_type": "code",
   "execution_count": 3,
   "metadata": {
    "execution": {
     "iopub.execute_input": "2021-05-17T16:23:46.579602Z",
     "iopub.status.busy": "2021-05-17T16:23:46.578228Z",
     "iopub.status.idle": "2021-05-17T16:23:46.581720Z",
     "shell.execute_reply": "2021-05-17T16:23:46.582228Z"
    }
   },
   "outputs": [
    {
     "name": "stdout",
     "output_type": "stream",
     "text": [
      "Help on module package_a.docstring in package_a:\n",
      "\n",
      "NAME\n",
      "    package_a.docstring - # This is a docstring\n",
      "\n",
      "DESCRIPTION\n",
      "    This module is empty, but implements a nice Markdown docstring using the `docstring` cell tag:\n",
      "    \n",
      "    ![image.png](attachment:0f749c1e-a2d1-4260-8fd3-196e5f99c5be.png)\n",
      "\n",
      "FILE\n",
      "    /home/angus/Git/literary/examples/package_a/docstring.ipynb\n",
      "\n",
      "\n"
     ]
    }
   ],
   "source": [
    "help(docstring)"
   ]
  },
  {
   "cell_type": "markdown",
   "metadata": {},
   "source": [
    "We can also rich-display the docstring (but images will be omitted):"
   ]
  },
  {
   "cell_type": "code",
   "execution_count": 4,
   "metadata": {
    "execution": {
     "iopub.execute_input": "2021-05-17T16:23:46.599271Z",
     "iopub.status.busy": "2021-05-17T16:23:46.598647Z",
     "iopub.status.idle": "2021-05-17T16:23:46.604370Z",
     "shell.execute_reply": "2021-05-17T16:23:46.603165Z"
    },
    "tags": []
   },
   "outputs": [
    {
     "data": {
      "text/markdown": [
       "# This is a docstring\n",
       "\n",
       "This module is empty, but implements a nice Markdown docstring using the `docstring` cell tag:\n",
       "\n",
       "![image.png](attachment:0f749c1e-a2d1-4260-8fd3-196e5f99c5be.png)\n"
      ],
      "text/plain": [
       "<IPython.core.display.Markdown object>"
      ]
     },
     "execution_count": 1,
     "metadata": {},
     "output_type": "execute_result"
    }
   ],
   "source": [
    "from IPython.display import Markdown\n",
    "\n",
    "Markdown(docstring.__doc__)"
   ]
  },
  {
   "cell_type": "markdown",
   "metadata": {},
   "source": [
    "The loader sets the `__file__`, `__loader__`, and other module attributes:"
   ]
  },
  {
   "cell_type": "code",
   "execution_count": 5,
   "metadata": {
    "execution": {
     "iopub.execute_input": "2021-05-17T16:23:46.610839Z",
     "iopub.status.busy": "2021-05-17T16:23:46.609541Z",
     "iopub.status.idle": "2021-05-17T16:23:46.613238Z",
     "shell.execute_reply": "2021-05-17T16:23:46.613735Z"
    }
   },
   "outputs": [
    {
     "data": {
      "text/plain": [
       "'/home/angus/Git/literary/examples/package_a/docstring.ipynb'"
      ]
     },
     "execution_count": 1,
     "metadata": {},
     "output_type": "execute_result"
    }
   ],
   "source": [
    "docstring.__file__"
   ]
  },
  {
   "cell_type": "code",
   "execution_count": 6,
   "metadata": {
    "execution": {
     "iopub.execute_input": "2021-05-17T16:23:46.618399Z",
     "iopub.status.busy": "2021-05-17T16:23:46.617807Z",
     "iopub.status.idle": "2021-05-17T16:23:46.621855Z",
     "shell.execute_reply": "2021-05-17T16:23:46.621325Z"
    }
   },
   "outputs": [
    {
     "data": {
      "text/plain": [
       "<literary.notebook.importer.NotebookLoader at 0x7f84bc011070>"
      ]
     },
     "execution_count": 1,
     "metadata": {},
     "output_type": "execute_result"
    }
   ],
   "source": [
    "docstring.__loader__"
   ]
  },
  {
   "cell_type": "markdown",
   "metadata": {},
   "source": [
    "### Accessing exports"
   ]
  },
  {
   "cell_type": "markdown",
   "metadata": {},
   "source": [
    "We could also import a notebook which defines some exports:"
   ]
  },
  {
   "cell_type": "code",
   "execution_count": 7,
   "metadata": {
    "execution": {
     "iopub.execute_input": "2021-05-17T16:23:46.625971Z",
     "iopub.status.busy": "2021-05-17T16:23:46.625365Z",
     "iopub.status.idle": "2021-05-17T16:23:46.677561Z",
     "shell.execute_reply": "2021-05-17T16:23:46.676950Z"
    }
   },
   "outputs": [],
   "source": [
    "from . import exports"
   ]
  },
  {
   "cell_type": "markdown",
   "metadata": {},
   "source": [
    "As a pure-Python module, `docstring` has some useful attributes"
   ]
  },
  {
   "cell_type": "code",
   "execution_count": 8,
   "metadata": {
    "execution": {
     "iopub.execute_input": "2021-05-17T16:23:46.684036Z",
     "iopub.status.busy": "2021-05-17T16:23:46.682814Z",
     "iopub.status.idle": "2021-05-17T16:23:46.687128Z",
     "shell.execute_reply": "2021-05-17T16:23:46.688236Z"
    }
   },
   "outputs": [
    {
     "data": {
      "text/plain": [
       "['A_BIG_LONG_STRING',\n",
       " '__builtins__',\n",
       " '__doc__',\n",
       " '__file__',\n",
       " '__loader__',\n",
       " '__name__',\n",
       " '__package__',\n",
       " '__spec__',\n",
       " 'how_long_is_a_piece_of_string']"
      ]
     },
     "execution_count": 1,
     "metadata": {},
     "output_type": "execute_result"
    }
   ],
   "source": [
    "dir(exports)"
   ]
  },
  {
   "cell_type": "code",
   "execution_count": 9,
   "metadata": {
    "execution": {
     "iopub.execute_input": "2021-05-17T16:23:46.693127Z",
     "iopub.status.busy": "2021-05-17T16:23:46.692530Z",
     "iopub.status.idle": "2021-05-17T16:23:46.697104Z",
     "shell.execute_reply": "2021-05-17T16:23:46.697583Z"
    }
   },
   "outputs": [
    {
     "data": {
      "text/plain": [
       "nan"
      ]
     },
     "execution_count": 1,
     "metadata": {},
     "output_type": "execute_result"
    }
   ],
   "source": [
    "exports.how_long_is_a_piece_of_string(\"\")"
   ]
  },
  {
   "cell_type": "markdown",
   "metadata": {},
   "source": [
    "### Generated Python code"
   ]
  },
  {
   "cell_type": "code",
   "execution_count": 10,
   "metadata": {
    "execution": {
     "iopub.execute_input": "2021-05-17T16:23:46.703462Z",
     "iopub.status.busy": "2021-05-17T16:23:46.702844Z",
     "iopub.status.idle": "2021-05-17T16:23:46.705931Z",
     "shell.execute_reply": "2021-05-17T16:23:46.705307Z"
    }
   },
   "outputs": [],
   "source": [
    "import inspect"
   ]
  },
  {
   "cell_type": "code",
   "execution_count": 11,
   "metadata": {
    "execution": {
     "iopub.execute_input": "2021-05-17T16:23:46.710182Z",
     "iopub.status.busy": "2021-05-17T16:23:46.709594Z",
     "iopub.status.idle": "2021-05-17T16:23:46.713142Z",
     "shell.execute_reply": "2021-05-17T16:23:46.713624Z"
    }
   },
   "outputs": [
    {
     "name": "stdout",
     "output_type": "stream",
     "text": [
      "\"\"\"# This is a docstring\n",
      "\n",
      "This module is empty, but implements a nice Markdown docstring using the `docstring` cell tag:\n",
      "\n",
      "![image.png](attachment:0f749c1e-a2d1-4260-8fd3-196e5f99c5be.png)\n",
      "\"\"\"\n"
     ]
    }
   ],
   "source": [
    "print(inspect.getsource(docstring))"
   ]
  },
  {
   "cell_type": "code",
   "execution_count": 12,
   "metadata": {
    "execution": {
     "iopub.execute_input": "2021-05-17T16:23:46.717837Z",
     "iopub.status.busy": "2021-05-17T16:23:46.717241Z",
     "iopub.status.idle": "2021-05-17T16:23:46.721203Z",
     "shell.execute_reply": "2021-05-17T16:23:46.720664Z"
    }
   },
   "outputs": [
    {
     "name": "stdout",
     "output_type": "stream",
     "text": [
      "\"\"\"# Exports\n",
      "\n",
      "By default, no cells in a notebook are converted to Python code (and therefore, are not available via imports). To generate Python code, we need to add the `export` cell-tag in the cell toolbar:\n",
      "\n",
      "![image.png](attachment:70fb2ad1-b117-403c-85a7-740e47e9f637.png)\n",
      "\"\"\"\n",
      "A_BIG_LONG_STRING = 'I am a big long string'\n",
      "\n",
      "def how_long_is_a_piece_of_string(piece_of_string):\n",
      "    return float('nan')\n"
     ]
    }
   ],
   "source": [
    "print(inspect.getsource(exports))"
   ]
  },
  {
   "cell_type": "code",
   "execution_count": 13,
   "metadata": {
    "execution": {
     "iopub.execute_input": "2021-05-17T16:23:46.725100Z",
     "iopub.status.busy": "2021-05-17T16:23:46.724498Z",
     "iopub.status.idle": "2021-05-17T16:23:46.790185Z",
     "shell.execute_reply": "2021-05-17T16:23:46.788917Z"
    }
   },
   "outputs": [],
   "source": [
    "from . import patching"
   ]
  },
  {
   "cell_type": "code",
   "execution_count": 14,
   "metadata": {
    "execution": {
     "iopub.execute_input": "2021-05-17T16:23:46.796537Z",
     "iopub.status.busy": "2021-05-17T16:23:46.795220Z",
     "iopub.status.idle": "2021-05-17T16:23:46.799664Z",
     "shell.execute_reply": "2021-05-17T16:23:46.800303Z"
    }
   },
   "outputs": [
    {
     "name": "stdout",
     "output_type": "stream",
     "text": [
      "\"\"\"# Patching\n",
      "\n",
      "One of the advantages of literate programming is the ability to interleave documentation, examples, and implementation. The nature of Jupyter notebooks means that source code must be split into separate cells in order to add documentation and test routines between different units. This is simple to achieve with free-floating functions in the global namespace, but for classes (child namespaces) it is more difficult, e.g.:\n",
      "\"\"\"\n",
      "\n",
      "class Lemming:\n",
      "\n",
      "    def __init__(self, adjective):\n",
      "        self.adjective = adjective\n",
      "\n",
      "    def speak(self, entitlement: str):\n",
      "        return f'I am a {self.adjective} Lemming, which entitles me to your {entitlement}!'\n",
      "person = Lemming('desparate')\n"
     ]
    }
   ],
   "source": [
    "print(inspect.getsource(patching))"
   ]
  }
 ],
 "metadata": {
  "kernelspec": {
   "display_name": "Python 3",
   "language": "python",
   "name": "python3"
  },
  "language_info": {
   "codemirror_mode": {
    "name": "ipython",
    "version": 3
   },
   "file_extension": ".py",
   "mimetype": "text/x-python",
   "name": "python",
   "nbconvert_exporter": "python",
   "pygments_lexer": "ipython3",
   "version": "3.9.0"
  }
 },
 "nbformat": 4,
 "nbformat_minor": 4
}

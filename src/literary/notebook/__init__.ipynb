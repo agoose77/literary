{
 "cells": [
  {
   "cell_type": "code",
   "execution_count": 1,
   "id": "spontaneous-llama",
   "metadata": {
    "editable": true,
    "slideshow": {
     "slide_type": ""
    },
    "tags": []
   },
   "outputs": [],
   "source": [
    "%load_ext literary.module"
   ]
  },
  {
   "cell_type": "markdown",
   "id": "silent-establishment",
   "metadata": {
    "editable": true,
    "slideshow": {
     "slide_type": ""
    },
    "tags": [
     "docstring"
    ]
   },
   "source": [
    "# Notebook Modules\n",
    "\n",
    "Just providing importable notebook modules does not address the full scope of package development. When developing a package, we often want to perform relative imports `from . import x`. This requires that a `__package__` global is set to the name of the current package. Additionally, literary provides tools to make it easier to write literate documents e.g. `patch` which need to be exposed to the end user."
   ]
  },
  {
   "cell_type": "code",
   "execution_count": 2,
   "id": "grave-finding",
   "metadata": {
    "editable": true,
    "slideshow": {
     "slide_type": ""
    },
    "tags": [
     "export"
    ]
   },
   "outputs": [],
   "source": [
    "import sys\n",
    "from pathlib import Path\n",
    "\n",
    "from ..config import find_literary_config, load_literary_config\n",
    "from ..transpile.patch import patch"
   ]
  },
  {
   "cell_type": "markdown",
   "id": "94251b5f-5fc3-412c-b028-14c39d6f01ed",
   "metadata": {
    "editable": true,
    "slideshow": {
     "slide_type": ""
    },
    "tags": []
   },
   "source": [
    "Now let's plumb this feature in to the IPython extension."
   ]
  },
  {
   "cell_type": "code",
   "execution_count": 3,
   "id": "classical-shoulder",
   "metadata": {
    "editable": true,
    "slideshow": {
     "slide_type": ""
    },
    "tags": [
     "export"
    ]
   },
   "outputs": [],
   "source": [
    "def load_ipython_extension(ipython):\n",
    "    \"\"\"Build the namespace for the IPython kernel. \n",
    "\n",
    "    Exposes helper utilities like `patc.h`.\n",
    "\n",
    "    :param ipython: IPython shell instance\n",
    "    \"\"\"\n",
    "    cwd = Path.cwd()\n",
    "\n",
    "    # This function is the IPython entry-point for loading a literary application\n",
    "    # inside a notebook, so even though we don't need to use the config, we load it anyway\n",
    "    config = load_literary_config(find_literary_config(cwd))\n",
    "\n",
    "    # Allow local absolute imports\n",
    "    sys.path.append(str(cwd))\n",
    "\n",
    "    ipython.user_ns.update(\n",
    "        {\n",
    "            \"patch\": patch,\n",
    "        }\n",
    "    )"
   ]
  }
 ],
 "metadata": {
  "jupytext": {
   "cell_metadata_filter": "-all",
   "main_language": "python",
   "notebook_metadata_filter": "-all"
  },
  "kernelspec": {
   "display_name": "Python 3 (ipykernel)",
   "language": "python",
   "name": "python3"
  },
  "language_info": {
   "codemirror_mode": {
    "name": "ipython",
    "version": 3
   },
   "file_extension": ".py",
   "mimetype": "text/x-python",
   "name": "python",
   "nbconvert_exporter": "python",
   "pygments_lexer": "ipython3",
   "version": "3.13.5"
  }
 },
 "nbformat": 4,
 "nbformat_minor": 5
}

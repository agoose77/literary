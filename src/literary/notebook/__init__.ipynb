{
 "cells": [
  {
   "cell_type": "markdown",
   "id": "silent-establishment",
   "metadata": {
    "tags": [
     "docstring"
    ]
   },
   "source": [
    "# Notebook Scripts"
   ]
  },
  {
   "cell_type": "code",
   "execution_count": 1,
   "id": "grave-racing",
   "metadata": {
    "execution": {
     "iopub.execute_input": "2021-05-18T21:00:42.279792Z",
     "iopub.status.busy": "2021-05-18T21:00:42.278794Z",
     "iopub.status.idle": "2021-05-18T21:00:42.421234Z",
     "shell.execute_reply": "2021-05-18T21:00:42.422196Z"
    },
    "tags": []
   },
   "outputs": [],
   "source": [
    "%load_ext literary.module"
   ]
  },
  {
   "cell_type": "code",
   "execution_count": 2,
   "id": "grave-finding",
   "metadata": {
    "execution": {
     "iopub.execute_input": "2021-05-18T21:00:42.429509Z",
     "iopub.status.busy": "2021-05-18T21:00:42.428281Z",
     "iopub.status.idle": "2021-05-18T21:00:42.431224Z",
     "shell.execute_reply": "2021-05-18T21:00:42.432229Z"
    },
    "tags": [
     "export"
    ]
   },
   "outputs": [],
   "source": [
    "from ..hook import install_import_hook\n",
    "from ..transpile.patch import patch"
   ]
  },
  {
   "cell_type": "code",
   "execution_count": 3,
   "id": "classical-shoulder",
   "metadata": {
    "execution": {
     "iopub.execute_input": "2021-05-18T21:00:42.437797Z",
     "iopub.status.busy": "2021-05-18T21:00:42.436839Z",
     "iopub.status.idle": "2021-05-18T21:00:42.439775Z",
     "shell.execute_reply": "2021-05-18T21:00:42.439132Z"
    },
    "tags": [
     "export"
    ]
   },
   "outputs": [],
   "source": [
    "def load_ipython_extension(ipython):\n",
    "    \"\"\"Load the import hook and setup the global state for the Literary extension.\n",
    "    When IPython invokes this function, the determined package root path will be\n",
    "    added to `sys.path`.\n",
    "\n",
    "    :param ipython: IPython shell instance\n",
    "    \"\"\"\n",
    "    # Ensure that notebook hook is installed\n",
    "    install_import_hook()\n",
    "\n",
    "    # Set `__package__` for consumer notebook\n",
    "    ipython.user_ns.update(\n",
    "        {\n",
    "            \"patch\": patch,\n",
    "        }\n",
    "    )"
   ]
  }
 ],
 "metadata": {
  "jupytext": {
   "cell_metadata_filter": "-all",
   "main_language": "python",
   "notebook_metadata_filter": "-all"
  },
  "kernelspec": {
   "display_name": "Python 3 (ipykernel)",
   "language": "python",
   "name": "python3"
  },
  "language_info": {
   "codemirror_mode": {
    "name": "ipython",
    "version": 3
   },
   "file_extension": ".py",
   "mimetype": "text/x-python",
   "name": "python",
   "nbconvert_exporter": "python",
   "pygments_lexer": "ipython3",
   "version": "3.10.4"
  }
 },
 "nbformat": 4,
 "nbformat_minor": 5
}

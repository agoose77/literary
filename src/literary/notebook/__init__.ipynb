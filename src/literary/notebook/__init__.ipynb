{
 "cells": [
  {
   "cell_type": "markdown",
   "id": "silent-establishment",
   "metadata": {
    "tags": [
     "docstring"
    ]
   },
   "source": [
    "# Notebook helper namespace"
   ]
  },
  {
   "cell_type": "code",
   "execution_count": 1,
   "id": "grave-racing",
   "metadata": {
    "execution": {
     "iopub.execute_input": "2021-05-17T16:24:12.367887Z",
     "iopub.status.busy": "2021-05-17T16:24:12.367263Z",
     "iopub.status.idle": "2021-05-17T16:24:12.505483Z",
     "shell.execute_reply": "2021-05-17T16:24:12.504448Z"
    },
    "tags": []
   },
   "outputs": [],
   "source": [
    "%load_ext literary.notebook"
   ]
  },
  {
   "cell_type": "code",
   "execution_count": 2,
   "id": "grave-finding",
   "metadata": {
    "execution": {
     "iopub.execute_input": "2021-05-17T16:24:12.511428Z",
     "iopub.status.busy": "2021-05-17T16:24:12.510163Z",
     "iopub.status.idle": "2021-05-17T16:24:12.940542Z",
     "shell.execute_reply": "2021-05-17T16:24:12.939488Z"
    },
    "tags": [
     "export"
    ]
   },
   "outputs": [],
   "source": [
    "import pathlib\n",
    "import sys\n",
    "\n",
    "from ..core import config\n",
    "from . import importer\n",
    "from .patch import patch"
   ]
  },
  {
   "cell_type": "code",
   "execution_count": 3,
   "id": "parallel-wrapping",
   "metadata": {
    "execution": {
     "iopub.execute_input": "2021-05-17T16:24:12.946125Z",
     "iopub.status.busy": "2021-05-17T16:24:12.944925Z",
     "iopub.status.idle": "2021-05-17T16:24:12.948130Z",
     "shell.execute_reply": "2021-05-17T16:24:12.948814Z"
    },
    "tags": [
     "export"
    ]
   },
   "outputs": [],
   "source": [
    "_PACKAGE_ROOT_PATH = config.find_project_path()"
   ]
  },
  {
   "cell_type": "code",
   "execution_count": 4,
   "id": "structured-format",
   "metadata": {
    "execution": {
     "iopub.execute_input": "2021-05-17T16:24:12.955307Z",
     "iopub.status.busy": "2021-05-17T16:24:12.954689Z",
     "iopub.status.idle": "2021-05-17T16:24:12.957279Z",
     "shell.execute_reply": "2021-05-17T16:24:12.956722Z"
    },
    "tags": [
     "export"
    ]
   },
   "outputs": [],
   "source": [
    "def _update_namespace(namespace):\n",
    "    \"\"\"Update a namespace with the missing metadata required to support runtime\n",
    "    imports of notebooks\n",
    "\n",
    "    :param namespace: namespace object\n",
    "    :return:\n",
    "    \"\"\"\n",
    "    # In order for relative imports to work, we need to know the __package__ name of the\n",
    "    # notebook.\n",
    "    namespace[\"__package__\"] = importer.determine_package_name(\n",
    "        pathlib.Path.cwd(), _PACKAGE_ROOT_PATH\n",
    "    )\n",
    "    # Expose patch function\n",
    "    namespace[\"patch\"] = patch"
   ]
  },
  {
   "cell_type": "code",
   "execution_count": 5,
   "id": "classical-shoulder",
   "metadata": {
    "execution": {
     "iopub.execute_input": "2021-05-17T16:24:12.961936Z",
     "iopub.status.busy": "2021-05-17T16:24:12.961330Z",
     "iopub.status.idle": "2021-05-17T16:24:12.963032Z",
     "shell.execute_reply": "2021-05-17T16:24:12.963554Z"
    },
    "tags": [
     "export"
    ]
   },
   "outputs": [],
   "source": [
    "def load_ipython_extension(ipython):\n",
    "    \"\"\"Load the import hook and setup the global state for the Literary extension.\n",
    "    When IPython invokes this function, the determined package root path will be\n",
    "    added to `sys.path`.\n",
    "\n",
    "    :param ipython: IPython shell instance\n",
    "    \"\"\"\n",
    "    _update_namespace(ipython.user_ns)\n",
    "    importer.install_hook(_PACKAGE_ROOT_PATH)"
   ]
  }
 ],
 "metadata": {
  "jupytext": {
   "cell_metadata_filter": "-all",
   "main_language": "python",
   "notebook_metadata_filter": "-all"
  },
  "kernelspec": {
   "display_name": "Python 3",
   "language": "python",
   "name": "python3"
  },
  "language_info": {
   "codemirror_mode": {
    "name": "ipython",
    "version": 3
   },
   "file_extension": ".py",
   "mimetype": "text/x-python",
   "name": "python",
   "nbconvert_exporter": "python",
   "pygments_lexer": "ipython3",
   "version": "3.9.0"
  }
 },
 "nbformat": 4,
 "nbformat_minor": 5
}

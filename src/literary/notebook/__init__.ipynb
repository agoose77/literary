{
 "cells": [
  {
   "cell_type": "markdown",
   "id": "front-controversy",
   "metadata": {
    "tags": [
     "docstring"
    ]
   },
   "source": [
    "# Notebook helper namespace"
   ]
  },
  {
   "cell_type": "code",
   "execution_count": 3,
   "id": "streaming-invention",
   "metadata": {},
   "outputs": [],
   "source": [
    "%load_ext literary.notebook"
   ]
  },
  {
   "cell_type": "code",
   "execution_count": null,
   "id": "available-technique",
   "metadata": {
    "tags": [
     "export"
    ]
   },
   "outputs": [],
   "source": [
    "__all__ = [\"patch\", \"update_namespace\"]"
   ]
  },
  {
   "cell_type": "code",
   "execution_count": null,
   "id": "organic-cache",
   "metadata": {
    "tags": [
     "export"
    ]
   },
   "outputs": [],
   "source": [
    "import pathlib\n",
    "import sys\n",
    "\n",
    "from .. import config\n",
    "from . import importer\n",
    "from .patch import patch"
   ]
  },
  {
   "cell_type": "code",
   "execution_count": null,
   "id": "expanded-jumping",
   "metadata": {
    "tags": [
     "export"
    ]
   },
   "outputs": [],
   "source": [
    "_PACKAGE_ROOT_PATH = config.find_project_path()"
   ]
  },
  {
   "cell_type": "code",
   "execution_count": null,
   "id": "chemical-poker",
   "metadata": {
    "tags": [
     "export"
    ]
   },
   "outputs": [],
   "source": [
    "def update_namespace(namespace):\n",
    "    \"\"\"Update a namespace with the missing metadata required to support runtime\n",
    "    imports of notebooks\n",
    "\n",
    "    :param namespace: namespace object\n",
    "    :return:\n",
    "    \"\"\"\n",
    "    # In order for relative imports to work, we need to know the __package__ name of the\n",
    "    # notebook.\n",
    "    namespace[\"__package__\"] = importer.determine_package_name(\n",
    "        pathlib.Path.cwd(), _PACKAGE_ROOT_PATH\n",
    "    )"
   ]
  },
  {
   "cell_type": "code",
   "execution_count": null,
   "id": "binary-purse",
   "metadata": {
    "tags": [
     "export"
    ]
   },
   "outputs": [],
   "source": [
    "def load_ipython_extension(ipython):\n",
    "    \"\"\"Load the import hook and setup the global state for the Literary extension.\n",
    "    When IPython invokes this function, the determined package root path will be\n",
    "    added to `sys.path`.\n",
    "    \n",
    "    :param ipython: IPython shell instance\n",
    "    \"\"\"\n",
    "    update_namespace(ipython.user_ns)\n",
    "    importer.install_hook(_PACKAGE_ROOT_PATH)"
   ]
  }
 ],
 "metadata": {
  "jupytext": {
   "cell_metadata_filter": "-all",
   "main_language": "python",
   "notebook_metadata_filter": "-all"
  },
  "kernelspec": {
   "display_name": "Python 3",
   "language": "python",
   "name": "python3"
  },
  "language_info": {
   "codemirror_mode": {
    "name": "ipython",
    "version": 3
   },
   "file_extension": ".py",
   "mimetype": "text/x-python",
   "name": "python",
   "nbconvert_exporter": "python",
   "pygments_lexer": "ipython3",
   "version": "3.9.0"
  }
 },
 "nbformat": 4,
 "nbformat_minor": 5
}

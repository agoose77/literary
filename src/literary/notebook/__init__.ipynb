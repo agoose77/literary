{
 "cells": [
  {
   "cell_type": "markdown",
   "id": "suspected-retention",
   "metadata": {
    "tags": [
     "docstring"
    ]
   },
   "source": [
    "# Notebook helper namespace"
   ]
  },
  {
   "cell_type": "code",
   "execution_count": 3,
   "id": "remarkable-reality",
   "metadata": {},
   "outputs": [],
   "source": [
    "%run -m literary.notebook"
   ]
  },
  {
   "cell_type": "code",
   "execution_count": null,
   "id": "broadband-pension",
   "metadata": {
    "tags": [
     "export"
    ]
   },
   "outputs": [],
   "source": [
    "__all__ = [\"patch\", \"update_namespace\"]"
   ]
  },
  {
   "cell_type": "code",
   "execution_count": null,
   "id": "prerequisite-bench",
   "metadata": {
    "tags": [
     "export"
    ]
   },
   "outputs": [],
   "source": [
    "import pathlib as _pathlib\n",
    "\n",
    "from .. import config as _config\n",
    "from . import importer as _importer\n",
    "from .patch import patch"
   ]
  },
  {
   "cell_type": "code",
   "execution_count": null,
   "id": "skilled-summary",
   "metadata": {
    "tags": [
     "export"
    ]
   },
   "outputs": [],
   "source": [
    "_PACKAGE_ROOT_PATH = _config.find_project_path()"
   ]
  },
  {
   "cell_type": "code",
   "execution_count": null,
   "id": "monthly-hawaiian",
   "metadata": {
    "tags": [
     "export"
    ]
   },
   "outputs": [],
   "source": [
    "# Add root package to sys path & install import hook\n",
    "_importer.install_hook(_PACKAGE_ROOT_PATH)"
   ]
  },
  {
   "cell_type": "code",
   "execution_count": null,
   "id": "desirable-edgar",
   "metadata": {
    "tags": [
     "export"
    ]
   },
   "outputs": [],
   "source": [
    "def update_namespace(namespace):\n",
    "    \"\"\"Update a namespace with the missing metadata required to support runtime\n",
    "    imports of notebooks\n",
    "\n",
    "    :param namespace: namespace object\n",
    "    :return:\n",
    "    \"\"\"\n",
    "    # In order for relative imports to work, we need to know the __package__ name of the\n",
    "    # notebook.\n",
    "    namespace[\"__package__\"] = _importer.determine_package_name(\n",
    "        _pathlib.Path.cwd(), _PACKAGE_ROOT_PATH\n",
    "    )"
   ]
  }
 ],
 "metadata": {
  "jupytext": {
   "cell_metadata_filter": "-all",
   "main_language": "python",
   "notebook_metadata_filter": "-all"
  },
  "kernelspec": {
   "display_name": "Python 3",
   "language": "python",
   "name": "python3"
  },
  "language_info": {
   "codemirror_mode": {
    "name": "ipython",
    "version": 3
   },
   "file_extension": ".py",
   "mimetype": "text/x-python",
   "name": "python",
   "nbconvert_exporter": "python",
   "pygments_lexer": "ipython3",
   "version": "3.9.0"
  }
 },
 "nbformat": 4,
 "nbformat_minor": 5
}

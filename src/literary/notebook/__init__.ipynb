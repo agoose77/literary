{
 "cells": [
  {
   "cell_type": "markdown",
   "id": "silent-establishment",
   "metadata": {
    "tags": [
     "docstring"
    ]
   },
   "source": [
    "# Notebook helper namespace"
   ]
  },
  {
   "cell_type": "code",
   "execution_count": 1,
   "id": "grave-racing",
   "metadata": {},
   "outputs": [],
   "source": [
    "%load_ext literary.notebook"
   ]
  },
  {
   "cell_type": "code",
   "execution_count": null,
   "id": "eastern-outreach",
   "metadata": {
    "tags": [
     "export"
    ]
   },
   "outputs": [],
   "source": [
    "__all__ = [\"patch\", \"update_namespace\"]"
   ]
  },
  {
   "cell_type": "code",
   "execution_count": 8,
   "id": "sensitive-scratch",
   "metadata": {},
   "outputs": [
    {
     "data": {
      "text/plain": [
       "{'literary': <module 'literary' (namespace)>,\n",
       " 'literary.core': <module 'literary.core' (namespace)>,\n",
       " 'literary.core.config': <module 'literary.core.config' from '/home/angus/.pyenv/versions/3.9.0/envs/literary/lib/python3.9/site-packages/literary/core/config.py'>,\n",
       " 'literary.core.preprocessor': <module 'literary.core.preprocessor' from '/home/angus/.pyenv/versions/3.9.0/envs/literary/lib/python3.9/site-packages/literary/core/preprocessor.py'>,\n",
       " 'literary.core.utils': <module 'literary.core.utils' from '/home/angus/.pyenv/versions/3.9.0/envs/literary/lib/python3.9/site-packages/literary/core/utils.py'>,\n",
       " 'literary.core.exporter': <module 'literary.core.exporter' from '/home/angus/.pyenv/versions/3.9.0/envs/literary/lib/python3.9/site-packages/literary/core/exporter.py'>,\n",
       " 'literary.notebook.importer': <module 'literary.notebook.importer' from '/home/angus/.pyenv/versions/3.9.0/envs/literary/lib/python3.9/site-packages/literary/notebook/importer.py'>,\n",
       " 'literary.notebook.patch': <module 'literary.notebook.patch' from '/home/angus/.pyenv/versions/3.9.0/envs/literary/lib/python3.9/site-packages/literary/notebook/patch.py'>,\n",
       " 'literary.notebook': <module 'literary.notebook' from '/home/angus/.pyenv/versions/3.9.0/envs/literary/lib/python3.9/site-packages/literary/notebook/__init__.py'>,\n",
       " 'src': <module 'src' (namespace)>,\n",
       " 'src.literary': <module 'src.literary' (namespace)>,\n",
       " 'literary.transformers': <module 'literary.transformers' from '/home/angus/.pyenv/versions/3.9.0/envs/literary/lib/python3.9/site-packages/literary/transformers.py'>,\n",
       " 'src.literary.core': <module 'src.literary.core' (namespace)>,\n",
       " 'src.literary.core.config': <module 'src.literary.core.config' from '/home/angus/Git/literary/src/literary/core/config.ipynb'>}"
      ]
     },
     "execution_count": 8,
     "metadata": {},
     "output_type": "execute_result"
    }
   ],
   "source": [
    "import sys\n",
    "{k:v for k,v in sys.modules.items() if k.startswith(\"literary\") or k.startswith(\"src\")}"
   ]
  },
  {
   "cell_type": "code",
   "execution_count": null,
   "id": "grave-finding",
   "metadata": {
    "tags": [
     "export"
    ]
   },
   "outputs": [],
   "source": [
    "import pathlib\n",
    "import sys\n",
    "\n",
    "from ..core import config\n",
    "from . import importer\n",
    "from .patch import patch"
   ]
  },
  {
   "cell_type": "code",
   "execution_count": null,
   "id": "parallel-wrapping",
   "metadata": {
    "tags": [
     "export"
    ]
   },
   "outputs": [],
   "source": [
    "_PACKAGE_ROOT_PATH = config.find_project_path()"
   ]
  },
  {
   "cell_type": "code",
   "execution_count": null,
   "id": "structured-format",
   "metadata": {
    "tags": [
     "export"
    ]
   },
   "outputs": [],
   "source": [
    "def _update_namespace(namespace):\n",
    "    \"\"\"Update a namespace with the missing metadata required to support runtime\n",
    "    imports of notebooks\n",
    "\n",
    "    :param namespace: namespace object\n",
    "    :return:\n",
    "    \"\"\"\n",
    "    # In order for relative imports to work, we need to know the __package__ name of the\n",
    "    # notebook.\n",
    "    namespace[\"__package__\"] = importer.determine_package_name(\n",
    "        pathlib.Path.cwd(), _PACKAGE_ROOT_PATH\n",
    "    )"
   ]
  },
  {
   "cell_type": "code",
   "execution_count": null,
   "id": "classical-shoulder",
   "metadata": {
    "tags": [
     "export"
    ]
   },
   "outputs": [],
   "source": [
    "def load_ipython_extension(ipython):\n",
    "    \"\"\"Load the import hook and setup the global state for the Literary extension.\n",
    "    When IPython invokes this function, the determined package root path will be\n",
    "    added to `sys.path`.\n",
    "\n",
    "    :param ipython: IPython shell instance\n",
    "    \"\"\"\n",
    "    _update_namespace(ipython.user_ns)\n",
    "    importer.install_hook(_PACKAGE_ROOT_PATH)"
   ]
  }
 ],
 "metadata": {
  "jupytext": {
   "cell_metadata_filter": "-all",
   "main_language": "python",
   "notebook_metadata_filter": "-all"
  },
  "kernelspec": {
   "display_name": "Python 3",
   "language": "python",
   "name": "python3"
  },
  "language_info": {
   "codemirror_mode": {
    "name": "ipython",
    "version": 3
   },
   "file_extension": ".py",
   "mimetype": "text/x-python",
   "name": "python",
   "nbconvert_exporter": "python",
   "pygments_lexer": "ipython3",
   "version": "3.9.0"
  }
 },
 "nbformat": 4,
 "nbformat_minor": 5
}

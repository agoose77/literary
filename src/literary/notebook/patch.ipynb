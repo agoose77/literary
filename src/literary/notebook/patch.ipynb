{
 "cells": [
  {
   "cell_type": "markdown",
   "id": "lasting-luxury",
   "metadata": {},
   "source": [
    "# Patch\n",
    "\n",
    "Literate notebooks benefit from splitting their code and documentation across several cells. Unfortunately, the nature of the notebook-kernel execution model introduces some constraints upon this, as it is impossible to extend Python local namespaces across different cells. To facilitate this, we introduce the `patch` decorator which operates at runtime and build time to unify separate definitions."
   ]
  },
  {
   "cell_type": "code",
   "execution_count": 1,
   "id": "proof-meditation",
   "metadata": {
    "execution": {
     "iopub.execute_input": "2021-05-18T15:07:34.274185Z",
     "iopub.status.busy": "2021-05-18T15:07:34.272982Z",
     "iopub.status.idle": "2021-05-18T15:07:34.407612Z",
     "shell.execute_reply": "2021-05-18T15:07:34.406446Z"
    }
   },
   "outputs": [],
   "source": [
    "%load_ext literary.notebook"
   ]
  },
  {
   "cell_type": "code",
   "execution_count": 2,
   "id": "arabic-words",
   "metadata": {
    "execution": {
     "iopub.execute_input": "2021-05-18T15:07:34.413724Z",
     "iopub.status.busy": "2021-05-18T15:07:34.412193Z",
     "iopub.status.idle": "2021-05-18T15:07:34.415986Z",
     "shell.execute_reply": "2021-05-18T15:07:34.415244Z"
    },
    "tags": [
     "export"
    ]
   },
   "outputs": [],
   "source": [
    "from typing import Callable, Type, TypeVar"
   ]
  },
  {
   "cell_type": "code",
   "execution_count": 3,
   "id": "unlikely-consent",
   "metadata": {
    "execution": {
     "iopub.execute_input": "2021-05-18T15:07:34.421635Z",
     "iopub.status.busy": "2021-05-18T15:07:34.420978Z",
     "iopub.status.idle": "2021-05-18T15:07:34.422901Z",
     "shell.execute_reply": "2021-05-18T15:07:34.423403Z"
    },
    "tags": [
     "export"
    ]
   },
   "outputs": [],
   "source": [
    "T = TypeVar(\"T\")"
   ]
  },
  {
   "cell_type": "markdown",
   "id": "c254525d-ab8c-4f9f-8bcf-e4a592b4e91e",
   "metadata": {},
   "source": [
    "Some wrapper classes store the original object in a named attribute. Here we define a few of the common cases."
   ]
  },
  {
   "cell_type": "code",
   "execution_count": null,
   "id": "4d8d01bc-22f6-4741-b7cd-75c7c66c50dd",
   "metadata": {
    "tags": [
     "export"
    ]
   },
   "outputs": [],
   "source": [
    "WRAPPER_NAMES = \"fget\", \"fset\", \"fdel\", \"__func__\", \"func\""
   ]
  },
  {
   "cell_type": "markdown",
   "id": "080a7ad9-7740-4b28-88c2-aed35caa6510",
   "metadata": {},
   "source": [
    "Let's implement the *runtime* decorator, which monkeypatches the class with the decorated function"
   ]
  },
  {
   "cell_type": "code",
   "execution_count": 4,
   "id": "editorial-corrections",
   "metadata": {
    "execution": {
     "iopub.execute_input": "2021-05-18T15:07:34.430356Z",
     "iopub.status.busy": "2021-05-18T15:07:34.429666Z",
     "iopub.status.idle": "2021-05-18T15:07:34.432441Z",
     "shell.execute_reply": "2021-05-18T15:07:34.431729Z"
    },
    "tags": [
     "export"
    ]
   },
   "outputs": [],
   "source": [
    "def patch(cls: Type) -> Callable[[T], T]:\n",
    "    \"\"\"Decorator to monkey-patch additional methods to a class.\n",
    "\n",
    "    At import-time, this will disappear and the source code itself will be transformed\n",
    "    Inside notebooks, the implementation below will be used.\n",
    "\n",
    "    :param cls:\n",
    "    :return:\n",
    "    \"\"\"\n",
    "\n",
    "    def get_name(func):\n",
    "        # Fix #4 to support patching (property) descriptors\n",
    "        try:\n",
    "            return func.__name__\n",
    "        except AttributeError:\n",
    "            # Support various descriptors\n",
    "            for attr in WRAPPER_NAMES:\n",
    "                try:\n",
    "                    return getattr(func, attr).__name__\n",
    "                except AttributeError:\n",
    "                    continue\n",
    "\n",
    "            # Raise original exception\n",
    "            raise\n",
    "\n",
    "    def _notebook_patch_impl(func):\n",
    "        setattr(cls, get_name(func), func)\n",
    "        return func\n",
    "\n",
    "    return _notebook_patch_impl"
   ]
  },
  {
   "cell_type": "markdown",
   "id": "00291a1b-6e7d-4983-bea1-64e8c170843a",
   "metadata": {},
   "source": [
    "We can now implement a test class to see this decorator in action"
   ]
  },
  {
   "cell_type": "code",
   "execution_count": 5,
   "id": "495ec606-4e33-4bd0-8e89-10b2af38c3af",
   "metadata": {
    "execution": {
     "iopub.execute_input": "2021-05-18T15:07:34.439012Z",
     "iopub.status.busy": "2021-05-18T15:07:34.437404Z",
     "iopub.status.idle": "2021-05-18T15:07:34.440325Z",
     "shell.execute_reply": "2021-05-18T15:07:34.440799Z"
    }
   },
   "outputs": [],
   "source": [
    "class TestClass:\n",
    "    pass"
   ]
  },
  {
   "cell_type": "markdown",
   "id": "83582171-dafc-477d-9636-7d3a57a42f68",
   "metadata": {},
   "source": [
    "At runtime, an instantiated class can have new methods attached to its type"
   ]
  },
  {
   "cell_type": "code",
   "execution_count": 6,
   "id": "96cd47e6-fe35-4974-9ad6-e494a7d7d2c9",
   "metadata": {
    "execution": {
     "iopub.execute_input": "2021-05-18T15:07:34.446016Z",
     "iopub.status.busy": "2021-05-18T15:07:34.445514Z",
     "iopub.status.idle": "2021-05-18T15:07:34.447768Z",
     "shell.execute_reply": "2021-05-18T15:07:34.448190Z"
    }
   },
   "outputs": [],
   "source": [
    "obj = TestClass()"
   ]
  },
  {
   "cell_type": "code",
   "execution_count": 7,
   "id": "989ffd7d-dee1-4ecc-be02-057dccf09a04",
   "metadata": {
    "execution": {
     "iopub.execute_input": "2021-05-18T15:07:34.454022Z",
     "iopub.status.busy": "2021-05-18T15:07:34.453426Z",
     "iopub.status.idle": "2021-05-18T15:07:34.455371Z",
     "shell.execute_reply": "2021-05-18T15:07:34.455891Z"
    }
   },
   "outputs": [],
   "source": [
    "@patch(TestClass)\n",
    "def method_a(self):\n",
    "    return \"method a\""
   ]
  },
  {
   "cell_type": "markdown",
   "id": "d2a74d83-e31a-4c98-952a-c7c7e8562060",
   "metadata": {},
   "source": [
    "And we can see that the method behaves as expected"
   ]
  },
  {
   "cell_type": "code",
   "execution_count": 8,
   "id": "86b1122d-3e47-4422-8d9f-276945522472",
   "metadata": {
    "execution": {
     "iopub.execute_input": "2021-05-18T15:07:34.459935Z",
     "iopub.status.busy": "2021-05-18T15:07:34.459254Z",
     "iopub.status.idle": "2021-05-18T15:07:34.461155Z",
     "shell.execute_reply": "2021-05-18T15:07:34.461647Z"
    }
   },
   "outputs": [],
   "source": [
    "assert obj.method_a() == \"method a\""
   ]
  }
 ],
 "metadata": {
  "jupytext": {
   "cell_metadata_filter": "-all",
   "main_language": "python",
   "notebook_metadata_filter": "-all"
  },
  "kernelspec": {
   "display_name": "Python 3",
   "language": "python",
   "name": "python3"
  },
  "language_info": {
   "codemirror_mode": {
    "name": "ipython",
    "version": 3
   },
   "file_extension": ".py",
   "mimetype": "text/x-python",
   "name": "python",
   "nbconvert_exporter": "python",
   "pygments_lexer": "ipython3",
   "version": "3.9.0"
  }
 },
 "nbformat": 4,
 "nbformat_minor": 5
}

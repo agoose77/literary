{
 "cells": [
  {
   "cell_type": "markdown",
   "id": "pleasant-fraction",
   "metadata": {},
   "source": [
    "# Patch"
   ]
  },
  {
   "cell_type": "code",
   "execution_count": 3,
   "id": "removable-guinea",
   "metadata": {},
   "outputs": [],
   "source": [
    "%load_ext literary.notebook"
   ]
  },
  {
   "cell_type": "code",
   "execution_count": 1,
   "id": "motivated-championship",
   "metadata": {
    "tags": [
     "export"
    ]
   },
   "outputs": [],
   "source": [
    "from typing import Callable, Type, TypeVar"
   ]
  },
  {
   "cell_type": "code",
   "execution_count": 2,
   "id": "cleared-ozone",
   "metadata": {
    "tags": [
     "export"
    ]
   },
   "outputs": [],
   "source": [
    "T = TypeVar(\"T\")"
   ]
  },
  {
   "cell_type": "code",
   "execution_count": null,
   "id": "lightweight-region",
   "metadata": {
    "tags": [
     "export"
    ]
   },
   "outputs": [],
   "source": [
    "def patch(cls: Type) -> Callable[[T], T]:\n",
    "    \"\"\"Decorator to monkey-patch additional methods to a class.\n",
    "\n",
    "    At import-time, this will disappear and the source code itself will be transformed\n",
    "    Inside notebooks, the implementation below will be used.\n",
    "\n",
    "    :param cls:\n",
    "    :return:\n",
    "    \"\"\"\n",
    "\n",
    "    def get_name(func):\n",
    "        # Fix #4 to support patching (property) descriptors\n",
    "        try:\n",
    "            return func.__name__\n",
    "        except AttributeError:\n",
    "            # Support various descriptors\n",
    "            for attr in \"fget\", \"fset\", \"fdel\", \"__func__\":\n",
    "                try:\n",
    "                    return getattr(func, attr).__name__\n",
    "                except AttributeError:\n",
    "                    continue\n",
    "\n",
    "            # Raise original exception\n",
    "            raise\n",
    "\n",
    "    def _notebook_patch_impl(func):\n",
    "        setattr(cls, get_name(func), func)\n",
    "        return func\n",
    "\n",
    "    return _notebook_patch_impl"
   ]
  }
 ],
 "metadata": {
  "jupytext": {
   "cell_metadata_filter": "-all",
   "main_language": "python",
   "notebook_metadata_filter": "-all"
  },
  "kernelspec": {
   "display_name": "Python 3",
   "language": "python",
   "name": "python3"
  },
  "language_info": {
   "codemirror_mode": {
    "name": "ipython",
    "version": 3
   },
   "file_extension": ".py",
   "mimetype": "text/x-python",
   "name": "python",
   "nbconvert_exporter": "python",
   "pygments_lexer": "ipython3",
   "version": "3.9.0"
  }
 },
 "nbformat": 4,
 "nbformat_minor": 5
}

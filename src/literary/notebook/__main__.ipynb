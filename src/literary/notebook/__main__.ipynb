{
 "cells": [
  {
   "cell_type": "markdown",
   "id": "stuck-experience",
   "metadata": {
    "tags": [
     "docstring"
    ]
   },
   "source": [
    "# Magic Entrypoint\n",
    "This module provides a namespace that can be imported into a Jupyter notebook\n",
    "using `%run -m literary.notebook`.\n",
    "\n",
    "It is implemented separately to `literary.notebook.__init__` in order to avoid mutating\n",
    "an imported module (this module is regenerated for every execution)"
   ]
  },
  {
   "cell_type": "code",
   "execution_count": null,
   "id": "legitimate-piece",
   "metadata": {
    "tags": [
     "export"
    ]
   },
   "outputs": [],
   "source": [
    "from . import *"
   ]
  },
  {
   "cell_type": "code",
   "execution_count": null,
   "id": "editorial-heaven",
   "metadata": {
    "tags": [
     "export"
    ]
   },
   "outputs": [],
   "source": [
    "update_namespace(globals())"
   ]
  }
 ],
 "metadata": {
  "jupytext": {
   "cell_metadata_filter": "-all",
   "main_language": "python",
   "notebook_metadata_filter": "-all"
  },
  "kernelspec": {
   "display_name": "Python 3",
   "language": "python",
   "name": "python3"
  },
  "language_info": {
   "codemirror_mode": {
    "name": "ipython",
    "version": 3
   },
   "file_extension": ".py",
   "mimetype": "text/x-python",
   "name": "python",
   "nbconvert_exporter": "python",
   "pygments_lexer": "ipython3",
   "version": "3.9.0"
  }
 },
 "nbformat": 4,
 "nbformat_minor": 5
}

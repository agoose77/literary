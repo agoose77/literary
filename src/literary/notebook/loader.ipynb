{
 "cells": [
  {
   "cell_type": "markdown",
   "id": "b8c9dad6-af40-42b8-a071-2e6ce66c0d9e",
   "metadata": {
    "tags": [
     "docstring"
    ]
   },
   "source": [
    "# Notebook Loader"
   ]
  },
  {
   "cell_type": "code",
   "execution_count": 1,
   "id": "a2115a46-2725-45c4-9a9f-75eee74e0869",
   "metadata": {
    "execution": {
     "iopub.execute_input": "2021-05-18T15:07:32.905510Z",
     "iopub.status.busy": "2021-05-18T15:07:32.904324Z",
     "iopub.status.idle": "2021-05-18T15:07:33.037344Z",
     "shell.execute_reply": "2021-05-18T15:07:33.038321Z"
    }
   },
   "outputs": [],
   "source": [
    "%load_ext literary.notebook"
   ]
  },
  {
   "cell_type": "code",
   "execution_count": 2,
   "id": "c7ff6b8f-9153-41d9-97c3-90f9c5e055ff",
   "metadata": {
    "execution": {
     "iopub.execute_input": "2021-05-18T15:07:33.044254Z",
     "iopub.status.busy": "2021-05-18T15:07:33.043025Z",
     "iopub.status.idle": "2021-05-18T15:07:33.045523Z",
     "shell.execute_reply": "2021-05-18T15:07:33.046489Z"
    },
    "tags": [
     "export"
    ]
   },
   "outputs": [],
   "source": [
    "import linecache\n",
    "from importlib.machinery import SourcelessFileLoader\n",
    "\n",
    "import nbformat"
   ]
  },
  {
   "cell_type": "code",
   "execution_count": 3,
   "id": "5bcde51b-dda5-4613-afbc-de78ba2232e8",
   "metadata": {
    "execution": {
     "iopub.execute_input": "2021-05-18T15:07:33.061092Z",
     "iopub.status.busy": "2021-05-18T15:07:33.059314Z",
     "iopub.status.idle": "2021-05-18T15:07:33.062362Z",
     "shell.execute_reply": "2021-05-18T15:07:33.063342Z"
    },
    "tags": [
     "export"
    ]
   },
   "outputs": [],
   "source": [
    "class NotebookLoader(SourcelessFileLoader):\n",
    "    \"\"\"Sourceless Jupyter Notebook loader\"\"\"\n",
    "\n",
    "    def __init__(self, fullname: str, path: str, exporter):\n",
    "        super().__init__(fullname, path)\n",
    "\n",
    "        self._exporter = exporter\n",
    "\n",
    "    def _update_linecache(self, path: str, source: str):\n",
    "        linecache.cache[path] = (\n",
    "            len(source),\n",
    "            None,\n",
    "            source.splitlines(keepends=True),\n",
    "            path,\n",
    "        )\n",
    "\n",
    "    def get_code(self, fullname: str):\n",
    "        path = self.get_filename(fullname)\n",
    "        body = self.get_transpiled_source(path)\n",
    "        # Ensure that generated source is available for tracebacks\n",
    "        self._update_linecache(path, body)\n",
    "        return compile(body, path, \"exec\")\n",
    "\n",
    "    def get_transpiled_source(self, path: str):\n",
    "        nb = nbformat.read(path, as_version=nbformat.NO_CONVERT)\n",
    "        body, resources = self._exporter.from_notebook_node(nb)\n",
    "        return body"
   ]
  }
 ],
 "metadata": {
  "kernelspec": {
   "display_name": "Python 3",
   "language": "python",
   "name": "python3"
  },
  "language_info": {
   "codemirror_mode": {
    "name": "ipython",
    "version": 3
   },
   "file_extension": ".py",
   "mimetype": "text/x-python",
   "name": "python",
   "nbconvert_exporter": "python",
   "pygments_lexer": "ipython3",
   "version": "3.9.0"
  }
 },
 "nbformat": 4,
 "nbformat_minor": 5
}

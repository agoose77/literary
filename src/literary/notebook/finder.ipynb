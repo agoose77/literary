{
 "cells": [
  {
   "cell_type": "markdown",
   "id": "willing-twist",
   "metadata": {
    "tags": [
     "docstring"
    ]
   },
   "source": [
    "# Notebook Finder"
   ]
  },
  {
   "cell_type": "code",
   "execution_count": 1,
   "id": "convenient-james",
   "metadata": {
    "execution": {
     "iopub.execute_input": "2021-05-18T15:07:27.637042Z",
     "iopub.status.busy": "2021-05-18T15:07:27.636337Z",
     "iopub.status.idle": "2021-05-18T15:07:27.773839Z",
     "shell.execute_reply": "2021-05-18T15:07:27.772678Z"
    }
   },
   "outputs": [],
   "source": [
    "%load_ext literary.notebook"
   ]
  },
  {
   "cell_type": "code",
   "execution_count": 2,
   "id": "atomic-restoration",
   "metadata": {
    "execution": {
     "iopub.execute_input": "2021-05-18T15:07:27.780864Z",
     "iopub.status.busy": "2021-05-18T15:07:27.779675Z",
     "iopub.status.idle": "2021-05-18T15:07:28.116286Z",
     "shell.execute_reply": "2021-05-18T15:07:28.115187Z"
    },
    "tags": [
     "export"
    ]
   },
   "outputs": [],
   "source": [
    "import os\n",
    "import pathlib\n",
    "import sys\n",
    "import traceback\n",
    "import typing as tp\n",
    "from importlib.machinery import FileFinder\n",
    "from inspect import getclosurevars\n",
    "\n",
    "from traitlets import Bool, Type\n",
    "\n",
    "from ..core.exporter import LiteraryExporter\n",
    "from ..core.project import ProjectOperator"
   ]
  },
  {
   "cell_type": "code",
   "execution_count": 3,
   "id": "tutorial-stroke",
   "metadata": {
    "execution": {
     "iopub.execute_input": "2021-05-18T15:07:28.121759Z",
     "iopub.status.busy": "2021-05-18T15:07:28.120502Z",
     "iopub.status.idle": "2021-05-18T15:07:28.123065Z",
     "shell.execute_reply": "2021-05-18T15:07:28.124092Z"
    },
    "tags": [
     "export"
    ]
   },
   "outputs": [],
   "source": [
    "T = tp.TypeVar(\"T\")"
   ]
  },
  {
   "cell_type": "code",
   "execution_count": 4,
   "id": "3629167d-a656-4dbd-ab97-bbeec3d668ef",
   "metadata": {
    "execution": {
     "iopub.execute_input": "2021-05-18T15:07:28.131817Z",
     "iopub.status.busy": "2021-05-18T15:07:28.131216Z",
     "iopub.status.idle": "2021-05-18T15:07:28.136864Z",
     "shell.execute_reply": "2021-05-18T15:07:28.135396Z"
    },
    "tags": [
     "export"
    ]
   },
   "outputs": [],
   "source": [
    "def _get_loader_details(hook) -> tuple:\n",
    "    \"\"\"Return the loader_details for a given FileFinder closure\n",
    "\n",
    "    :param hook: FileFinder closure\n",
    "    :returns: loader_details tuple\n",
    "    \"\"\"\n",
    "    try:\n",
    "        namespace = getclosurevars(hook)\n",
    "    except TypeError as err:\n",
    "        raise ValueError from err\n",
    "\n",
    "    try:\n",
    "        return namespace.nonlocals[\"loader_details\"]\n",
    "    except KeyError as err:\n",
    "        raise ValueError from err"
   ]
  },
  {
   "cell_type": "code",
   "execution_count": 5,
   "id": "b75797cb-67fc-49e2-938b-5607ede5ce9d",
   "metadata": {
    "execution": {
     "iopub.execute_input": "2021-05-18T15:07:28.143956Z",
     "iopub.status.busy": "2021-05-18T15:07:28.143136Z",
     "iopub.status.idle": "2021-05-18T15:07:28.145630Z",
     "shell.execute_reply": "2021-05-18T15:07:28.145069Z"
    },
    "tags": [
     "export"
    ]
   },
   "outputs": [],
   "source": [
    "def _find_file_finder(path_hooks: list) -> tp.Tuple[int, tp.Any]:\n",
    "    \"\"\"Find the FileFinder closure in a list of path hooks\n",
    "\n",
    "    :param path_hooks: path hooks\n",
    "    :returns: index of hook and the hook itself\n",
    "    \"\"\"\n",
    "    for i, hook in enumerate(path_hooks):\n",
    "        try:\n",
    "            _get_loader_details(hook)\n",
    "        except ValueError:\n",
    "            continue\n",
    "\n",
    "        return i, hook\n",
    "    raise ValueError"
   ]
  },
  {
   "cell_type": "code",
   "execution_count": 6,
   "id": "a91158b3-a20a-4a5e-8483-841b433ca567",
   "metadata": {
    "execution": {
     "iopub.execute_input": "2021-05-18T15:07:28.150030Z",
     "iopub.status.busy": "2021-05-18T15:07:28.149395Z",
     "iopub.status.idle": "2021-05-18T15:07:28.153314Z",
     "shell.execute_reply": "2021-05-18T15:07:28.152592Z"
    },
    "tags": [
     "export"
    ]
   },
   "outputs": [],
   "source": [
    "def _extend_file_finder(finder: T, *loader_details) -> T:\n",
    "    \"\"\"Extend an existing file finder with new loader details\n",
    "\n",
    "    :param finder: existing FileFinder instance\n",
    "    :param loader_details:\n",
    "    :return:\n",
    "    \"\"\"\n",
    "    return FileFinder.path_hook(*_get_loader_details(finder), *loader_details)"
   ]
  },
  {
   "cell_type": "code",
   "execution_count": 7,
   "id": "908ecbf2-022a-4d18-9d0d-21533c80fe91",
   "metadata": {
    "execution": {
     "iopub.execute_input": "2021-05-18T15:07:28.158345Z",
     "iopub.status.busy": "2021-05-18T15:07:28.157698Z",
     "iopub.status.idle": "2021-05-18T15:07:28.160726Z",
     "shell.execute_reply": "2021-05-18T15:07:28.160145Z"
    },
    "tags": [
     "export"
    ]
   },
   "outputs": [],
   "source": [
    "def inject_loaders(\n",
    "    path_hooks: list, *loader_details\n",
    "):\n",
    "    \"\"\"Inject a set of loaders into a list of path hooks\n",
    "\n",
    "    :param path_hooks: list of path hooks\n",
    "    :param loader_details: FileFinder loader details\n",
    "    :return:\n",
    "    \"\"\"\n",
    "    i, finder = _find_file_finder(path_hooks)\n",
    "    new_finder = _extend_file_finder(finder, *loader_details)\n",
    "    path_hooks[i] = new_finder\n",
    "\n",
    "    # To fix cached path finders\n",
    "    sys.path_importer_cache.clear()"
   ]
  }
 ],
 "metadata": {
  "jupytext": {
   "cell_metadata_filter": "-all",
   "main_language": "python",
   "notebook_metadata_filter": "-all"
  },
  "kernelspec": {
   "display_name": "Python 3",
   "language": "python",
   "name": "python3"
  },
  "language_info": {
   "codemirror_mode": {
    "name": "ipython",
    "version": 3
   },
   "file_extension": ".py",
   "mimetype": "text/x-python",
   "name": "python",
   "nbconvert_exporter": "python",
   "pygments_lexer": "ipython3",
   "version": "3.9.0"
  }
 },
 "nbformat": 4,
 "nbformat_minor": 5
}

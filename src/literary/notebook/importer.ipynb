{
 "cells": [
  {
   "cell_type": "markdown",
   "id": "willing-twist",
   "metadata": {
    "tags": [
     "docstring"
    ]
   },
   "source": [
    "# Import Hook"
   ]
  },
  {
   "cell_type": "code",
   "execution_count": 1,
   "id": "convenient-james",
   "metadata": {
    "execution": {
     "iopub.execute_input": "2021-05-17T16:24:10.587376Z",
     "iopub.status.busy": "2021-05-17T16:24:10.586615Z",
     "iopub.status.idle": "2021-05-17T16:24:10.723429Z",
     "shell.execute_reply": "2021-05-17T16:24:10.724399Z"
    }
   },
   "outputs": [],
   "source": [
    "%load_ext literary.notebook"
   ]
  },
  {
   "cell_type": "code",
   "execution_count": 2,
   "id": "atomic-restoration",
   "metadata": {
    "execution": {
     "iopub.execute_input": "2021-05-17T16:24:10.731230Z",
     "iopub.status.busy": "2021-05-17T16:24:10.729952Z",
     "iopub.status.idle": "2021-05-17T16:24:10.987841Z",
     "shell.execute_reply": "2021-05-17T16:24:10.986750Z"
    },
    "tags": [
     "export"
    ]
   },
   "outputs": [],
   "source": [
    "import importlib.machinery\n",
    "import inspect\n",
    "import linecache\n",
    "import os\n",
    "import pathlib\n",
    "import sys\n",
    "import traceback\n",
    "from typing import Any, AnyStr, Callable, Tuple, TypeVar, Union\n",
    "\n",
    "import nbformat\n",
    "\n",
    "from ..core.config import load_config\n",
    "from ..core.exporter import LiteraryPythonExporter"
   ]
  },
  {
   "cell_type": "code",
   "execution_count": 3,
   "id": "selective-bradford",
   "metadata": {
    "execution": {
     "iopub.execute_input": "2021-05-17T16:24:10.997610Z",
     "iopub.status.busy": "2021-05-17T16:24:10.996400Z",
     "iopub.status.idle": "2021-05-17T16:24:10.998882Z",
     "shell.execute_reply": "2021-05-17T16:24:10.999868Z"
    },
    "tags": [
     "export"
    ]
   },
   "outputs": [],
   "source": [
    "class NotebookLoader(importlib.machinery.SourcelessFileLoader):\n",
    "    \"\"\"Sourceless Jupyter Notebook loader\"\"\"\n",
    "\n",
    "    def __init__(self, fullname: str, path: str, config):\n",
    "        super().__init__(fullname, path)\n",
    "\n",
    "        self._config = config\n",
    "\n",
    "    def _update_linecache(self, path: str, source: str):\n",
    "        linecache.cache[path] = (\n",
    "            len(source),\n",
    "            None,\n",
    "            source.splitlines(keepends=True),\n",
    "            path,\n",
    "        )\n",
    "\n",
    "    def get_code(self, fullname: str):\n",
    "        path = self.get_filename(fullname)\n",
    "        body = self.get_transpiled_source(path)\n",
    "        # Ensure that generated source is available for tracebacks\n",
    "        self._update_linecache(path, body)\n",
    "        return compile(body, path, \"exec\")\n",
    "\n",
    "    def get_transpiled_source(self, path: str):\n",
    "        nb = nbformat.read(path, as_version=nbformat.NO_CONVERT)\n",
    "        exporter = LiteraryPythonExporter(config=self._config)\n",
    "        body, resources = exporter.from_notebook_node(nb)\n",
    "        return body"
   ]
  },
  {
   "cell_type": "code",
   "execution_count": 4,
   "id": "capable-connecticut",
   "metadata": {
    "execution": {
     "iopub.execute_input": "2021-05-17T16:24:11.005959Z",
     "iopub.status.busy": "2021-05-17T16:24:11.004784Z",
     "iopub.status.idle": "2021-05-17T16:24:11.008093Z",
     "shell.execute_reply": "2021-05-17T16:24:11.007238Z"
    },
    "tags": [
     "export"
    ]
   },
   "outputs": [],
   "source": [
    "def determine_package_name(path: pathlib.Path, package_root_path: pathlib.Path) -> str:\n",
    "    \"\"\"Determine the corresponding importable name for a package directory given by\n",
    "    a particular file path\n",
    "\n",
    "    :param path: path to package\n",
    "    :param package_root_path: root path containing notebook package directory\n",
    "    :return:\n",
    "    \"\"\"\n",
    "    relative_path = path.relative_to(package_root_path)\n",
    "    return \".\".join(relative_path.parts)"
   ]
  },
  {
   "cell_type": "code",
   "execution_count": 5,
   "id": "excited-company",
   "metadata": {
    "execution": {
     "iopub.execute_input": "2021-05-17T16:24:11.015376Z",
     "iopub.status.busy": "2021-05-17T16:24:11.014766Z",
     "iopub.status.idle": "2021-05-17T16:24:11.019308Z",
     "shell.execute_reply": "2021-05-17T16:24:11.018296Z"
    },
    "tags": [
     "export"
    ]
   },
   "outputs": [],
   "source": [
    "def _get_loader_details(hook) -> tuple:\n",
    "    \"\"\"Return the loader_details for a given FileFinder closure\n",
    "\n",
    "    :param hook: FileFinder closure\n",
    "    :returns: loader_details tuple\n",
    "    \"\"\"\n",
    "    try:\n",
    "        namespace = inspect.getclosurevars(hook)\n",
    "    except TypeError as err:\n",
    "        raise ValueError from err\n",
    "\n",
    "    try:\n",
    "        return namespace.nonlocals[\"loader_details\"]\n",
    "    except KeyError as err:\n",
    "        raise ValueError from err"
   ]
  },
  {
   "cell_type": "code",
   "execution_count": 6,
   "id": "d98e4a94-af40-42b7-8535-49a4de7a8252",
   "metadata": {
    "execution": {
     "iopub.execute_input": "2021-05-17T16:24:11.026171Z",
     "iopub.status.busy": "2021-05-17T16:24:11.024941Z",
     "iopub.status.idle": "2021-05-17T16:24:11.028312Z",
     "shell.execute_reply": "2021-05-17T16:24:11.027515Z"
    },
    "tags": [
     "export"
    ]
   },
   "outputs": [],
   "source": [
    "def determine_package_name(path: pathlib.Path, package_root_path: pathlib.Path) -> str:\n",
    "    \"\"\"Determine the corresponding importable name for a package directory given by\n",
    "    a particular file path\n",
    "\n",
    "    :param path: path to package\n",
    "    :param package_root_path: root path containing notebook package directory\n",
    "    :return:\n",
    "    \"\"\"\n",
    "    relative_path = path.relative_to(package_root_path)\n",
    "    return \".\".join(relative_path.parts)"
   ]
  },
  {
   "cell_type": "code",
   "execution_count": 7,
   "id": "sexual-front",
   "metadata": {
    "execution": {
     "iopub.execute_input": "2021-05-17T16:24:11.033245Z",
     "iopub.status.busy": "2021-05-17T16:24:11.032652Z",
     "iopub.status.idle": "2021-05-17T16:24:11.034411Z",
     "shell.execute_reply": "2021-05-17T16:24:11.034894Z"
    },
    "tags": [
     "export"
    ]
   },
   "outputs": [],
   "source": [
    "def _find_file_finder(path_hooks: list) -> Tuple[int, Any]:\n",
    "    \"\"\"Find the FileFinder closure in a list of path hooks\n",
    "\n",
    "    :param path_hooks: path hooks\n",
    "    :returns: index of hook and the hook itself\n",
    "    \"\"\"\n",
    "    for i, hook in enumerate(path_hooks):\n",
    "        try:\n",
    "            _get_loader_details(hook)\n",
    "        except ValueError:\n",
    "            continue\n",
    "\n",
    "        return i, hook\n",
    "    raise ValueError"
   ]
  },
  {
   "cell_type": "code",
   "execution_count": 8,
   "id": "tutorial-stroke",
   "metadata": {
    "execution": {
     "iopub.execute_input": "2021-05-17T16:24:11.038606Z",
     "iopub.status.busy": "2021-05-17T16:24:11.038021Z",
     "iopub.status.idle": "2021-05-17T16:24:11.040294Z",
     "shell.execute_reply": "2021-05-17T16:24:11.039778Z"
    },
    "tags": [
     "export"
    ]
   },
   "outputs": [],
   "source": [
    "T = TypeVar(\"T\")"
   ]
  },
  {
   "cell_type": "code",
   "execution_count": 9,
   "id": "resistant-excitement",
   "metadata": {
    "execution": {
     "iopub.execute_input": "2021-05-17T16:24:11.044805Z",
     "iopub.status.busy": "2021-05-17T16:24:11.044201Z",
     "iopub.status.idle": "2021-05-17T16:24:11.046414Z",
     "shell.execute_reply": "2021-05-17T16:24:11.045888Z"
    },
    "tags": [
     "export"
    ]
   },
   "outputs": [],
   "source": [
    "def _extend_file_finder(finder: T, *loader_details) -> T:\n",
    "    \"\"\"Extend an existing file finder with new loader details\n",
    "\n",
    "    :param finder: existing FileFinder instance\n",
    "    :param loader_details:\n",
    "    :return:\n",
    "    \"\"\"\n",
    "    return importlib.machinery.FileFinder.path_hook(\n",
    "        *_get_loader_details(finder), *loader_details\n",
    "    )"
   ]
  },
  {
   "cell_type": "code",
   "execution_count": 10,
   "id": "surgical-gabriel",
   "metadata": {
    "execution": {
     "iopub.execute_input": "2021-05-17T16:24:11.052167Z",
     "iopub.status.busy": "2021-05-17T16:24:11.051453Z",
     "iopub.status.idle": "2021-05-17T16:24:11.054445Z",
     "shell.execute_reply": "2021-05-17T16:24:11.053838Z"
    },
    "tags": [
     "export"
    ]
   },
   "outputs": [],
   "source": [
    "def _inject_notebook_loader(\n",
    "    path_hooks: list, loader_factory: Callable[[str, str], NotebookLoader]\n",
    "):\n",
    "    \"\"\"Inject a NotebookLoader into a list of path hooks\n",
    "\n",
    "    :param path_hooks: list of path hooks\n",
    "    :param loader_factory: factory to to create NotebookLoader\n",
    "    :return:\n",
    "    \"\"\"\n",
    "    i, finder = _find_file_finder(path_hooks)\n",
    "    new_finder = _extend_file_finder(finder, (loader_factory, [\".ipynb\"]))\n",
    "    path_hooks[i] = new_finder\n",
    "\n",
    "    # To fix cached path finders\n",
    "    sys.path_importer_cache.clear()"
   ]
  },
  {
   "cell_type": "code",
   "execution_count": 11,
   "id": "satisfied-blank",
   "metadata": {
    "execution": {
     "iopub.execute_input": "2021-05-17T16:24:11.060254Z",
     "iopub.status.busy": "2021-05-17T16:24:11.059662Z",
     "iopub.status.idle": "2021-05-17T16:24:11.062717Z",
     "shell.execute_reply": "2021-05-17T16:24:11.062118Z"
    },
    "tags": [
     "export"
    ]
   },
   "outputs": [],
   "source": [
    "def install_hook(\n",
    "    package_root_path: Union[AnyStr, os.PathLike], set_except_hook: bool = True\n",
    "):\n",
    "    \"\"\"Install notebook import hook\n",
    "\n",
    "    Don't allow the user to specify a custom search path, because we also need this to\n",
    "    interoperate with the default Python module importers which use sys.path\n",
    "\n",
    "    :param package_root_path: root path containing notebook package directory\n",
    "    :param set_except_hook: overwrite `sys.excepthook` to correctly display tracebacks\n",
    "    inside notebooks\n",
    "    :return:\n",
    "    \"\"\"\n",
    "    # Load config for project\n",
    "    config = load_config(package_root_path)\n",
    "\n",
    "    # Make notebook packages importable by adding package root path to sys.path\n",
    "    sys.path.append(str(package_root_path))\n",
    "\n",
    "    # Create notebook loader factory\n",
    "    def create_notebook_loader(fullname, path):\n",
    "        return NotebookLoader(fullname, path, config)\n",
    "\n",
    "    # Inject notebook loader into path_hooks\n",
    "    _inject_notebook_loader(sys.path_hooks, create_notebook_loader)\n",
    "\n",
    "    # Python's C-level traceback reporting doesn't call `linecache`, and so retrieves\n",
    "    # the underlying notebook source instead of the generated Python code\n",
    "    if set_except_hook:\n",
    "        sys.excepthook = traceback.print_exception"
   ]
  }
 ],
 "metadata": {
  "jupytext": {
   "cell_metadata_filter": "-all",
   "main_language": "python",
   "notebook_metadata_filter": "-all"
  },
  "kernelspec": {
   "display_name": "Python 3",
   "language": "python",
   "name": "python3"
  },
  "language_info": {
   "codemirror_mode": {
    "name": "ipython",
    "version": 3
   },
   "file_extension": ".py",
   "mimetype": "text/x-python",
   "name": "python",
   "nbconvert_exporter": "python",
   "pygments_lexer": "ipython3",
   "version": "3.9.0"
  }
 },
 "nbformat": 4,
 "nbformat_minor": 5
}

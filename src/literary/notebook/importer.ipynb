{
 "cells": [
  {
   "cell_type": "markdown",
   "id": "willing-twist",
   "metadata": {
    "tags": [
     "docstring"
    ]
   },
   "source": [
    "# Import Hook"
   ]
  },
  {
   "cell_type": "code",
   "execution_count": 1,
   "id": "convenient-james",
   "metadata": {
    "execution": {
     "iopub.execute_input": "2021-05-18T15:07:29.171789Z",
     "iopub.status.busy": "2021-05-18T15:07:29.171178Z",
     "iopub.status.idle": "2021-05-18T15:07:29.307954Z",
     "shell.execute_reply": "2021-05-18T15:07:29.306844Z"
    }
   },
   "outputs": [],
   "source": [
    "%load_ext literary.notebook"
   ]
  },
  {
   "cell_type": "code",
   "execution_count": 2,
   "id": "atomic-restoration",
   "metadata": {
    "execution": {
     "iopub.execute_input": "2021-05-18T15:07:29.314314Z",
     "iopub.status.busy": "2021-05-18T15:07:29.313119Z",
     "iopub.status.idle": "2021-05-18T15:07:29.892360Z",
     "shell.execute_reply": "2021-05-18T15:07:29.893375Z"
    },
    "tags": [
     "export"
    ]
   },
   "outputs": [],
   "source": [
    "import os\n",
    "import sys\n",
    "import typing as tp\n",
    "from pathlib import Path\n",
    "\n",
    "from traitlets import Bool, Type\n",
    "\n",
    "from ..core.exporter import LiteraryExporter\n",
    "from ..core.project import ProjectOperator\n",
    "from .finder import inject_loaders\n",
    "from .loader import NotebookLoader\n",
    "from .patch import patch"
   ]
  },
  {
   "cell_type": "code",
   "execution_count": 3,
   "id": "4bd4893f-d373-4161-80b3-1ce334492a15",
   "metadata": {
    "execution": {
     "iopub.execute_input": "2021-05-18T15:07:29.898848Z",
     "iopub.status.busy": "2021-05-18T15:07:29.898233Z",
     "iopub.status.idle": "2021-05-18T15:07:29.901589Z",
     "shell.execute_reply": "2021-05-18T15:07:29.900924Z"
    },
    "tags": [
     "export"
    ]
   },
   "outputs": [],
   "source": [
    "class ProjectImporter(ProjectOperator):\n",
    "    exporter_class = Type(LiteraryExporter, help=\"Exporter class\").tag(config=True)\n",
    "    set_except_hook = Bool(\n",
    "        help=\"overwrite `sys.excepthook` to correctly display tracebacks\"\n",
    "    ).tag(config=True)"
   ]
  },
  {
   "cell_type": "code",
   "execution_count": 4,
   "id": "f7f3e9bf-9aff-4914-b339-def061ef2663",
   "metadata": {
    "execution": {
     "iopub.execute_input": "2021-05-18T15:07:29.909615Z",
     "iopub.status.busy": "2021-05-18T15:07:29.908273Z",
     "iopub.status.idle": "2021-05-18T15:07:29.910988Z",
     "shell.execute_reply": "2021-05-18T15:07:29.912099Z"
    },
    "tags": [
     "export"
    ]
   },
   "outputs": [],
   "source": [
    "@patch(ProjectImporter)\n",
    "def determine_package_name(self, path: Path) -> str:\n",
    "    \"\"\"Determine the corresponding importable name for a package directory given by\n",
    "    a particular file path. Return `None` if path is not contained within `sys.path`.\n",
    "\n",
    "    :param path: path to package\n",
    "    :return:\n",
    "    \"\"\"\n",
    "    for p in sys.path:\n",
    "        # If the cwd is only on `sys.path` exactly, then it can't\n",
    "        # be a submodule. However, let's first look for parent paths\n",
    "        if str(path) == p:\n",
    "            continue\n",
    "\n",
    "        # Resolve path relative to `sys.path`\n",
    "        try:\n",
    "            relative_path = path.relative_to(p)\n",
    "        except ValueError:\n",
    "            continue\n",
    "\n",
    "        return \".\".join(relative_path.parts)\n",
    "\n",
    "    # Nothing was found on `sys.path`, so we abort\n",
    "    return None"
   ]
  },
  {
   "cell_type": "code",
   "execution_count": 5,
   "id": "f8172c3a-00b6-41eb-80f9-bfbe5a67a5ad",
   "metadata": {
    "execution": {
     "iopub.execute_input": "2021-05-18T15:07:29.919089Z",
     "iopub.status.busy": "2021-05-18T15:07:29.918492Z",
     "iopub.status.idle": "2021-05-18T15:07:29.920267Z",
     "shell.execute_reply": "2021-05-18T15:07:29.921124Z"
    },
    "tags": [
     "export"
    ]
   },
   "outputs": [],
   "source": [
    "@patch(ProjectImporter)\n",
    "def install(self, ipython):\n",
    "    \"\"\"Install notebook import hook\n",
    "\n",
    "    Don't allow the user to specify a custom search path, because we also need this to\n",
    "    interoperate with the default Python module importers which use sys.path\n",
    "\n",
    "    :return:\n",
    "    \"\"\"\n",
    "\n",
    "    # Make notebook packages importable by adding package root path to sys.path\n",
    "    sys.path.append(str(self.packages_path))\n",
    "\n",
    "    # Create the exporter\n",
    "    exporter = self.exporter_class(parent=self)\n",
    "\n",
    "    # Create notebook loader factory\n",
    "    def create_notebook_loader(fullname, path):\n",
    "        return NotebookLoader(fullname, path, exporter=exporter)\n",
    "\n",
    "    # Inject notebook loader into path_hooks\n",
    "    inject_loaders(sys.path_hooks, (create_notebook_loader, [\".ipynb\"]))\n",
    "\n",
    "    # Python's C-level traceback reporting doesn't call `linecache`, and so retrieves\n",
    "    # the underlying notebook source instead of the generated Python code\n",
    "    if self.set_except_hook:\n",
    "        sys.excepthook = traceback.print_exception\n",
    "\n",
    "    # Update user namespace\n",
    "    ipython.user_ns.update(\n",
    "        {\n",
    "            \"__package__\": self.determine_package_name(Path.cwd()),\n",
    "            \"patch\": patch,\n",
    "        }\n",
    "    )"
   ]
  }
 ],
 "metadata": {
  "jupytext": {
   "cell_metadata_filter": "-all",
   "main_language": "python",
   "notebook_metadata_filter": "-all"
  },
  "kernelspec": {
   "display_name": "Python 3",
   "language": "python",
   "name": "python3"
  },
  "language_info": {
   "codemirror_mode": {
    "name": "ipython",
    "version": 3
   },
   "file_extension": ".py",
   "mimetype": "text/x-python",
   "name": "python",
   "nbconvert_exporter": "python",
   "pygments_lexer": "ipython3",
   "version": "3.9.0"
  }
 },
 "nbformat": 4,
 "nbformat_minor": 5
}

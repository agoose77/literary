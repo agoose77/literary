{
 "cells": [
  {
   "cell_type": "markdown",
   "id": "willing-twist",
   "metadata": {
    "tags": [
     "docstring"
    ]
   },
   "source": [
    "# Import Hook"
   ]
  },
  {
   "cell_type": "code",
   "execution_count": 1,
   "id": "convenient-james",
   "metadata": {
    "execution": {
     "iopub.execute_input": "2021-05-18T15:07:29.171789Z",
     "iopub.status.busy": "2021-05-18T15:07:29.171178Z",
     "iopub.status.idle": "2021-05-18T15:07:29.307954Z",
     "shell.execute_reply": "2021-05-18T15:07:29.306844Z"
    }
   },
   "outputs": [],
   "source": [
    "%load_ext literary.notebook"
   ]
  },
  {
   "cell_type": "code",
   "execution_count": 2,
   "id": "atomic-restoration",
   "metadata": {
    "execution": {
     "iopub.execute_input": "2021-05-18T15:07:29.314314Z",
     "iopub.status.busy": "2021-05-18T15:07:29.313119Z",
     "iopub.status.idle": "2021-05-18T15:07:29.892360Z",
     "shell.execute_reply": "2021-05-18T15:07:29.893375Z"
    },
    "tags": [
     "export"
    ]
   },
   "outputs": [],
   "source": [
    "import os\n",
    "import sys\n",
    "import typing as tp\n",
    "from pathlib import Path\n",
    "\n",
    "from nbconvert import Exporter\n",
    "from traitlets import Bool, Instance, Type\n",
    "\n",
    "from ..core.exporter import LiteraryExporter\n",
    "from ..core.project import ProjectOperator\n",
    "from .finder import inject_loaders\n",
    "from .loader import NotebookLoader\n",
    "from .patch import patch"
   ]
  },
  {
   "cell_type": "markdown",
   "id": "04b4bfc0-3d30-40cb-aa8d-e56ea50a8d8d",
   "metadata": {},
   "source": [
    "Here we implement a `ProjectImporter` class. Because it operators upon the current project, it is a `ProjectOperator` subclass. We define a few useful configuration traits, such as the exporter class and the output directory."
   ]
  },
  {
   "cell_type": "code",
   "execution_count": 3,
   "id": "4bd4893f-d373-4161-80b3-1ce334492a15",
   "metadata": {
    "execution": {
     "iopub.execute_input": "2021-05-18T15:07:29.898848Z",
     "iopub.status.busy": "2021-05-18T15:07:29.898233Z",
     "iopub.status.idle": "2021-05-18T15:07:29.901589Z",
     "shell.execute_reply": "2021-05-18T15:07:29.900924Z"
    },
    "tags": [
     "export"
    ]
   },
   "outputs": [],
   "source": [
    "class ProjectImporter(ProjectOperator):\n",
    "    exporter = Instance(Exporter)\n",
    "    exporter_class = Type(LiteraryExporter, help=\"Exporter class\").tag(config=True)\n",
    "    set_except_hook = Bool(\n",
    "        help=\"overwrite `sys.excepthook` to correctly display tracebacks\"\n",
    "    ).tag(config=True)"
   ]
  },
  {
   "cell_type": "code",
   "execution_count": 10,
   "id": "c2b8b55d-8d52-49d4-8c99-97731232187c",
   "metadata": {},
   "outputs": [
    {
     "ename": "AttributeError",
     "evalue": "'DefaultHandler' object has no attribute '__name__'",
     "output_type": "error",
     "traceback": [
      "\u001b[0;31m---------------------------------------------------------------------------\u001b[0m",
      "\u001b[0;31mAttributeError\u001b[0m                            Traceback (most recent call last)",
      "\u001b[0;32m<ipython-input-10-c4fba210324e>\u001b[0m in \u001b[0;36m<module>\u001b[0;34m\u001b[0m\n\u001b[1;32m      1\u001b[0m \u001b[0;34m@\u001b[0m\u001b[0mpatch\u001b[0m\u001b[0;34m(\u001b[0m\u001b[0mPackageBuilder\u001b[0m\u001b[0;34m)\u001b[0m\u001b[0;34m\u001b[0m\u001b[0;34m\u001b[0m\u001b[0m\n\u001b[1;32m      2\u001b[0m \u001b[0;34m@\u001b[0m\u001b[0mdefault\u001b[0m\u001b[0;34m(\u001b[0m\u001b[0;34m\"_exporter\"\u001b[0m\u001b[0;34m)\u001b[0m\u001b[0;34m\u001b[0m\u001b[0;34m\u001b[0m\u001b[0m\n\u001b[0;32m----> 3\u001b[0;31m \u001b[0;32mdef\u001b[0m \u001b[0m_exporter_default\u001b[0m\u001b[0;34m(\u001b[0m\u001b[0mself\u001b[0m\u001b[0;34m)\u001b[0m\u001b[0;34m:\u001b[0m\u001b[0;34m\u001b[0m\u001b[0;34m\u001b[0m\u001b[0m\n\u001b[0m\u001b[1;32m      4\u001b[0m     \u001b[0;32mreturn\u001b[0m \u001b[0mself\u001b[0m\u001b[0;34m.\u001b[0m\u001b[0mexporter_class\u001b[0m\u001b[0;34m(\u001b[0m\u001b[0mparent\u001b[0m\u001b[0;34m=\u001b[0m\u001b[0mself\u001b[0m\u001b[0;34m)\u001b[0m\u001b[0;34m\u001b[0m\u001b[0;34m\u001b[0m\u001b[0m\n",
      "\u001b[0;32m~/.pyenv/versions/3.9.0/envs/literary/lib/python3.9/site-packages/literary/notebook/patch.py\u001b[0m in \u001b[0;36m_notebook_patch_impl\u001b[0;34m(func)\u001b[0m\n\u001b[1;32m     26\u001b[0m \u001b[0;34m\u001b[0m\u001b[0m\n\u001b[1;32m     27\u001b[0m     \u001b[0;32mdef\u001b[0m \u001b[0m_notebook_patch_impl\u001b[0m\u001b[0;34m(\u001b[0m\u001b[0mfunc\u001b[0m\u001b[0;34m)\u001b[0m\u001b[0;34m:\u001b[0m\u001b[0;34m\u001b[0m\u001b[0;34m\u001b[0m\u001b[0m\n\u001b[0;32m---> 28\u001b[0;31m         \u001b[0msetattr\u001b[0m\u001b[0;34m(\u001b[0m\u001b[0mcls\u001b[0m\u001b[0;34m,\u001b[0m \u001b[0mget_name\u001b[0m\u001b[0;34m(\u001b[0m\u001b[0mfunc\u001b[0m\u001b[0;34m)\u001b[0m\u001b[0;34m,\u001b[0m \u001b[0mfunc\u001b[0m\u001b[0;34m)\u001b[0m\u001b[0;34m\u001b[0m\u001b[0;34m\u001b[0m\u001b[0m\n\u001b[0m\u001b[1;32m     29\u001b[0m         \u001b[0;32mreturn\u001b[0m \u001b[0mfunc\u001b[0m\u001b[0;34m\u001b[0m\u001b[0;34m\u001b[0m\u001b[0m\n\u001b[1;32m     30\u001b[0m     \u001b[0;32mreturn\u001b[0m \u001b[0m_notebook_patch_impl\u001b[0m\u001b[0;34m\u001b[0m\u001b[0;34m\u001b[0m\u001b[0m\n",
      "\u001b[0;32m~/.pyenv/versions/3.9.0/envs/literary/lib/python3.9/site-packages/literary/notebook/patch.py\u001b[0m in \u001b[0;36mget_name\u001b[0;34m(func)\u001b[0m\n\u001b[1;32m     16\u001b[0m     \u001b[0;32mdef\u001b[0m \u001b[0mget_name\u001b[0m\u001b[0;34m(\u001b[0m\u001b[0mfunc\u001b[0m\u001b[0;34m)\u001b[0m\u001b[0;34m:\u001b[0m\u001b[0;34m\u001b[0m\u001b[0;34m\u001b[0m\u001b[0m\n\u001b[1;32m     17\u001b[0m         \u001b[0;32mtry\u001b[0m\u001b[0;34m:\u001b[0m\u001b[0;34m\u001b[0m\u001b[0;34m\u001b[0m\u001b[0m\n\u001b[0;32m---> 18\u001b[0;31m             \u001b[0;32mreturn\u001b[0m \u001b[0mfunc\u001b[0m\u001b[0;34m.\u001b[0m\u001b[0m__name__\u001b[0m\u001b[0;34m\u001b[0m\u001b[0;34m\u001b[0m\u001b[0m\n\u001b[0m\u001b[1;32m     19\u001b[0m         \u001b[0;32mexcept\u001b[0m \u001b[0mAttributeError\u001b[0m\u001b[0;34m:\u001b[0m\u001b[0;34m\u001b[0m\u001b[0;34m\u001b[0m\u001b[0m\n\u001b[1;32m     20\u001b[0m             \u001b[0;32mfor\u001b[0m \u001b[0mattr\u001b[0m \u001b[0;32min\u001b[0m \u001b[0;34m(\u001b[0m\u001b[0;34m'fget'\u001b[0m\u001b[0;34m,\u001b[0m \u001b[0;34m'fset'\u001b[0m\u001b[0;34m,\u001b[0m \u001b[0;34m'fdel'\u001b[0m\u001b[0;34m,\u001b[0m \u001b[0;34m'__func__'\u001b[0m\u001b[0;34m)\u001b[0m\u001b[0;34m:\u001b[0m\u001b[0;34m\u001b[0m\u001b[0;34m\u001b[0m\u001b[0m\n",
      "\u001b[0;31mAttributeError\u001b[0m: 'DefaultHandler' object has no attribute '__name__'"
     ]
    }
   ],
   "source": [
    "@patch(ProjectImporter)\n",
    "@default(\"_exporter\")\n",
    "def _exporter_default(self):\n",
    "    return self.exporter_class(parent=self)"
   ]
  },
  {
   "cell_type": "code",
   "execution_count": 4,
   "id": "f7f3e9bf-9aff-4914-b339-def061ef2663",
   "metadata": {
    "execution": {
     "iopub.execute_input": "2021-05-18T15:07:29.909615Z",
     "iopub.status.busy": "2021-05-18T15:07:29.908273Z",
     "iopub.status.idle": "2021-05-18T15:07:29.910988Z",
     "shell.execute_reply": "2021-05-18T15:07:29.912099Z"
    },
    "tags": [
     "export"
    ]
   },
   "outputs": [],
   "source": [
    "@patch(ProjectImporter)\n",
    "def determine_package_name(self, path: Path) -> str:\n",
    "    \"\"\"Determine the corresponding importable name for a package directory given by\n",
    "    a particular file path. Return `None` if path is not contained within `sys.path`.\n",
    "\n",
    "    :param path: path to package\n",
    "    :return:\n",
    "    \"\"\"\n",
    "    for p in sys.path:\n",
    "        # If the cwd is only on `sys.path` exactly, then it can't\n",
    "        # be a submodule. However, let's first look for parent paths\n",
    "        if str(path) == p:\n",
    "            continue\n",
    "\n",
    "        # Resolve path relative to `sys.path`\n",
    "        try:\n",
    "            relative_path = path.relative_to(p)\n",
    "        except ValueError:\n",
    "            continue\n",
    "\n",
    "        return \".\".join(relative_path.parts)\n",
    "\n",
    "    # Nothing was found on `sys.path`, so we abort\n",
    "    return None"
   ]
  },
  {
   "cell_type": "code",
   "execution_count": 5,
   "id": "f8172c3a-00b6-41eb-80f9-bfbe5a67a5ad",
   "metadata": {
    "execution": {
     "iopub.execute_input": "2021-05-18T15:07:29.919089Z",
     "iopub.status.busy": "2021-05-18T15:07:29.918492Z",
     "iopub.status.idle": "2021-05-18T15:07:29.920267Z",
     "shell.execute_reply": "2021-05-18T15:07:29.921124Z"
    },
    "tags": [
     "export"
    ]
   },
   "outputs": [],
   "source": [
    "@patch(ProjectImporter)\n",
    "def install(self, ipython):\n",
    "    \"\"\"Install notebook import hook\n",
    "\n",
    "    Don't allow the user to specify a custom search path, because we also need this to\n",
    "    interoperate with the default Python module importers which use sys.path\n",
    "\n",
    "    :return:\n",
    "    \"\"\"\n",
    "\n",
    "    # Make notebook packages importable by adding package root path to sys.path\n",
    "    sys.path.append(str(self.packages_path))\n",
    "\n",
    "    # Create the exporter\n",
    "    exporter = self.exporter_class(parent=self)\n",
    "\n",
    "    # Create notebook loader factory\n",
    "    def create_notebook_loader(fullname, path):\n",
    "        return NotebookLoader(fullname, path, exporter=exporter)\n",
    "\n",
    "    # Inject notebook loader into path_hooks\n",
    "    inject_loaders(sys.path_hooks, (create_notebook_loader, [\".ipynb\"]))\n",
    "\n",
    "    # Python's C-level traceback reporting doesn't call `linecache`, and so retrieves\n",
    "    # the underlying notebook source instead of the generated Python code\n",
    "    if self.set_except_hook:\n",
    "        sys.excepthook = traceback.print_exception\n",
    "\n",
    "    # Update user namespace\n",
    "    ipython.user_ns.update(\n",
    "        {\n",
    "            \"__package__\": self.determine_package_name(Path.cwd()),\n",
    "            \"patch\": patch,\n",
    "        }\n",
    "    )"
   ]
  }
 ],
 "metadata": {
  "jupytext": {
   "cell_metadata_filter": "-all",
   "main_language": "python",
   "notebook_metadata_filter": "-all"
  },
  "kernelspec": {
   "display_name": "Python 3",
   "language": "python",
   "name": "python3"
  },
  "language_info": {
   "codemirror_mode": {
    "name": "ipython",
    "version": 3
   },
   "file_extension": ".py",
   "mimetype": "text/x-python",
   "name": "python",
   "nbconvert_exporter": "python",
   "pygments_lexer": "ipython3",
   "version": "3.9.0"
  }
 },
 "nbformat": 4,
 "nbformat_minor": 5
}

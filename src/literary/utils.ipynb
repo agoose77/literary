{
 "cells": [
  {
   "cell_type": "markdown",
   "id": "persistent-immunology",
   "metadata": {
    "tags": [
     "docstring"
    ]
   },
   "source": [
    "# Utility Functions"
   ]
  },
  {
   "cell_type": "code",
   "execution_count": 24,
   "id": "earned-governor",
   "metadata": {},
   "outputs": [],
   "source": [
    "%run -m literary.notebook\n",
    "\n",
    "import ast"
   ]
  },
  {
   "cell_type": "code",
   "execution_count": 23,
   "id": "political-garage",
   "metadata": {
    "tags": [
     "export"
    ]
   },
   "outputs": [],
   "source": [
    "from typing_extensions import Literal"
   ]
  },
  {
   "cell_type": "markdown",
   "id": "surface-bosnia",
   "metadata": {},
   "source": [
    "## Quoting"
   ]
  },
  {
   "cell_type": "markdown",
   "id": "visible-vietnam",
   "metadata": {},
   "source": [
    "In rendering the docstring for the generated Python module source, it is necessary to escape triple quoted strings. Here we implement such a function:"
   ]
  },
  {
   "cell_type": "code",
   "execution_count": 6,
   "id": "coated-familiar",
   "metadata": {
    "tags": [
     "export"
    ]
   },
   "outputs": [],
   "source": [
    "def escape_triple_quotes(string: str, single_quote: Literal[\"'\", '\"'] = '\"') -> str:\n",
    "    \"\"\"Escape triple quotes inside a string\n",
    "\n",
    "    :param string: string to escape\n",
    "    :param single_quote: single-quote character\n",
    "    :return: escaped string\n",
    "    \"\"\"\n",
    "    assert len(single_quote) == 1\n",
    "    quote = single_quote * 3\n",
    "    escaped_single_quote = rf\"\\{single_quote}\"\n",
    "    escaped_quote = escaped_single_quote * 3\n",
    "    return string.replace(quote, escaped_quote)"
   ]
  },
  {
   "cell_type": "markdown",
   "id": "dependent-scotland",
   "metadata": {},
   "source": [
    "Let's ensure that this function behaves as expected for the `\"` quote"
   ]
  },
  {
   "cell_type": "code",
   "execution_count": 16,
   "id": "female-execution",
   "metadata": {},
   "outputs": [],
   "source": [
    "assert escape_triple_quotes('''\"\"\"Hello, I'm a triple quoted string\"\"\"''') == r'''\\\"\\\"\\\"Hello, I'm a triple quoted string\\\"\\\"\\\"'''"
   ]
  },
  {
   "cell_type": "markdown",
   "id": "standard-nerve",
   "metadata": {},
   "source": [
    "and for the `'` quote"
   ]
  },
  {
   "cell_type": "code",
   "execution_count": 18,
   "id": "headed-percentage",
   "metadata": {},
   "outputs": [],
   "source": [
    "assert escape_triple_quotes(\"\"\"'''Hello, I'm a triple quoted string'''\"\"\", \"'\") == r\"\\'\\'\\'Hello, I'm a triple quoted string\\'\\'\\'\""
   ]
  },
  {
   "cell_type": "markdown",
   "id": "included-postage",
   "metadata": {},
   "source": [
    "## AST Roundtrip\n",
    "\n",
    "It's useful to be able to round-trip Python source via an AST transformer. Python versions older than 3.9.0 do not implement such a feature, requiring a third-party library."
   ]
  },
  {
   "cell_type": "code",
   "execution_count": 22,
   "id": "chicken-hormone",
   "metadata": {
    "tags": [
     "export"
    ]
   },
   "outputs": [],
   "source": [
    "# Backwards compatibility\n",
    "if sys.version_info < (3, 9, 0):\n",
    "    import astunparse\n",
    "    import astunparse.unparser\n",
    "\n",
    "    class ASTUnparser(astunparse.unparser.Unparser):\n",
    "        \"\"\"AST unparser with additional preference for triple-quoted multi-line strings\"\"\"\n",
    "\n",
    "        def _Constant(self, tree):\n",
    "            if isinstance(tree.value, str) and \"\\n\" in tree.value:\n",
    "                self.write(f'\"\"\"{escape_triple_quotes(tree.value)}\"\"\"')\n",
    "                return\n",
    "\n",
    "            super()._Constant(tree)\n",
    "\n",
    "    # Monkey patch to ensure correctness\n",
    "    astunparse.Unparser = ASTUnparser\n",
    "    astunparse.unparser.Unparser = ASTUnparser\n",
    "\n",
    "    from astunparse import unparse as unparse_ast\n",
    "else:\n",
    "    from ast import unparse as unparse_ast"
   ]
  },
  {
   "cell_type": "markdown",
   "id": "static-crazy",
   "metadata": {},
   "source": [
    "Let's generate a test AST node"
   ]
  },
  {
   "cell_type": "code",
   "execution_count": 25,
   "id": "colored-japan",
   "metadata": {},
   "outputs": [],
   "source": [
    "node = ast.parse(\"x = y = f'hello {__name__}'\")"
   ]
  },
  {
   "cell_type": "markdown",
   "id": "undefined-theme",
   "metadata": {},
   "source": [
    "We won't assert that the result is equal, because the `unparse_ast` method is allowed to apply optimisations to the generated source code. Let's look at the result visually, though:"
   ]
  },
  {
   "cell_type": "code",
   "execution_count": 30,
   "id": "detected-gather",
   "metadata": {},
   "outputs": [
    {
     "data": {
      "text/plain": [
       "\"x = y = f'hello {__name__}'\""
      ]
     },
     "execution_count": 30,
     "metadata": {},
     "output_type": "execute_result"
    }
   ],
   "source": [
    "unparse_ast(node)"
   ]
  }
 ],
 "metadata": {
  "jupytext": {
   "cell_metadata_filter": "-all",
   "main_language": "python",
   "notebook_metadata_filter": "-all"
  },
  "kernelspec": {
   "display_name": "Python 3",
   "language": "python",
   "name": "python3"
  },
  "language_info": {
   "codemirror_mode": {
    "name": "ipython",
    "version": 3
   },
   "file_extension": ".py",
   "mimetype": "text/x-python",
   "name": "python",
   "nbconvert_exporter": "python",
   "pygments_lexer": "ipython3",
   "version": "3.9.0"
  }
 },
 "nbformat": 4,
 "nbformat_minor": 5
}

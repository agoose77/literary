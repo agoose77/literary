{
 "cells": [
  {
   "cell_type": "markdown",
   "id": "willing-twist",
   "metadata": {
    "tags": [
     "docstring"
    ]
   },
   "source": [
    "# Import Hook"
   ]
  },
  {
   "cell_type": "code",
   "execution_count": 1,
   "id": "convenient-james",
   "metadata": {
    "tags": []
   },
   "outputs": [],
   "source": [
    "%load_ext literary.module"
   ]
  },
  {
   "cell_type": "code",
   "execution_count": 2,
   "id": "atomic-restoration",
   "metadata": {
    "tags": [
     "export"
    ]
   },
   "outputs": [],
   "source": [
    "import sys\n",
    "from pathlib import Path\n",
    "\n",
    "from ..notebook.importer import NotebookImporter\n",
    "from ..notebook.patch import patch"
   ]
  },
  {
   "cell_type": "markdown",
   "id": "04b4bfc0-3d30-40cb-aa8d-e56ea50a8d8d",
   "metadata": {},
   "source": [
    "Here we implement a `ModuleImporter` class. "
   ]
  },
  {
   "cell_type": "code",
   "execution_count": 3,
   "id": "4bd4893f-d373-4161-80b3-1ce334492a15",
   "metadata": {
    "tags": [
     "export"
    ]
   },
   "outputs": [],
   "source": [
    "class ModuleImporter(NotebookImporter):\n",
    "    pass"
   ]
  },
  {
   "cell_type": "markdown",
   "id": "5075fa65-d3b9-4d92-8e05-48485b78f492",
   "metadata": {},
   "source": [
    "We need to be able to determine the \"package name\" from a notebook path."
   ]
  },
  {
   "cell_type": "code",
   "execution_count": 4,
   "id": "f7f3e9bf-9aff-4914-b339-def061ef2663",
   "metadata": {
    "tags": [
     "export"
    ]
   },
   "outputs": [],
   "source": [
    "@patch(ModuleImporter)\n",
    "def determine_package_name(self, path: Path) -> str:\n",
    "    \"\"\"Determine the corresponding importable name for a package directory given by\n",
    "    a particular file path. Return `None` if path is not contained within `sys.path`.\n",
    "\n",
    "    :param path: path to package\n",
    "    :return:\n",
    "    \"\"\"\n",
    "    for p in sys.path:\n",
    "        # If the cwd is only on `sys.path` exactly, then it can't\n",
    "        # be a submodule. However, let's first look for parent paths\n",
    "        if str(path) == p:\n",
    "            continue\n",
    "\n",
    "        # Resolve path relative to `sys.path`\n",
    "        try:\n",
    "            relative_path = path.relative_to(p)\n",
    "        except ValueError:\n",
    "            continue\n",
    "\n",
    "        return \".\".join(relative_path.parts)\n",
    "\n",
    "    # Nothing was found on `sys.path`, so we abort\n",
    "    return None"
   ]
  },
  {
   "cell_type": "markdown",
   "id": "b5253ba5-0a45-4eff-ba45-f77509e87839",
   "metadata": {},
   "source": [
    "Before installing the hook, we should remove the CWD from the `PATH`."
   ]
  },
  {
   "cell_type": "code",
   "execution_count": 5,
   "id": "f8172c3a-00b6-41eb-80f9-bfbe5a67a5ad",
   "metadata": {
    "tags": [
     "export"
    ]
   },
   "outputs": [],
   "source": [
    "@patch(ModuleImporter)\n",
    "def install_hook(self):\n",
    "    \"\"\"Install notebook import hook\n",
    "\n",
    "    Don't allow the user to specify a custom search path, because we also need this to\n",
    "    interoperate with the default Python module importers which use sys.path\n",
    "\n",
    "    :return:\n",
    "    \"\"\"\n",
    "    cwd = Path.cwd()\n",
    "    sys.path = [p for p in sys.path if Path(p).resolve() != cwd]\n",
    "    \n",
    "    super().install_hook()"
   ]
  },
  {
   "cell_type": "markdown",
   "id": "c039d83e-f2e1-4ebf-bac0-f38e33d4a308",
   "metadata": {},
   "source": [
    "When updating the user namespace, we define the current `__package__`"
   ]
  },
  {
   "cell_type": "code",
   "execution_count": 8,
   "id": "988db929",
   "metadata": {
    "tags": [
     "export"
    ]
   },
   "outputs": [],
   "source": [
    "@patch(ModuleImporter)\n",
    "def update_namespace(self, namespace):\n",
    "    cwd = Path.cwd()\n",
    "\n",
    "    # Update user namespace\n",
    "    namespace.update(\n",
    "        {\n",
    "            \"__package__\": self.determine_package_name(cwd),\n",
    "            \"patch\": patch,\n",
    "        }\n",
    "    )"
   ]
  }
 ],
 "metadata": {
  "jupytext": {
   "cell_metadata_filter": "-all",
   "main_language": "python",
   "notebook_metadata_filter": "-all"
  },
  "kernelspec": {
   "display_name": "Python 3 (ipykernel)",
   "language": "python",
   "name": "python3"
  },
  "language_info": {
   "codemirror_mode": {
    "name": "ipython",
    "version": 3
   },
   "file_extension": ".py",
   "mimetype": "text/x-python",
   "name": "python",
   "nbconvert_exporter": "python",
   "pygments_lexer": "ipython3",
   "version": "3.9.4"
  }
 },
 "nbformat": 4,
 "nbformat_minor": 5
}

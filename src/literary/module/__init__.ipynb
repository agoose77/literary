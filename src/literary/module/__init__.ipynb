{
 "cells": [
  {
   "cell_type": "code",
   "execution_count": 1,
   "id": "spontaneous-llama",
   "metadata": {
    "editable": true,
    "slideshow": {
     "slide_type": ""
    },
    "tags": []
   },
   "outputs": [],
   "source": [
    "%load_ext literary.module"
   ]
  },
  {
   "cell_type": "markdown",
   "id": "silent-establishment",
   "metadata": {
    "editable": true,
    "slideshow": {
     "slide_type": ""
    },
    "tags": [
     "docstring"
    ]
   },
   "source": [
    "# Notebook Modules\n",
    "\n",
    "Just providing importable notebook modules does not address the full scope of package development. When developing a package, we often want to perform relative imports `from . import x`. This requires that a `__package__` global is set to the name of the current package. Additionally, literary provides tools to make it easier to write literate documents e.g. `patch` which need to be exposed to the end user."
   ]
  },
  {
   "cell_type": "code",
   "execution_count": 2,
   "id": "grave-finding",
   "metadata": {
    "editable": true,
    "slideshow": {
     "slide_type": ""
    },
    "tags": [
     "export"
    ]
   },
   "outputs": [],
   "source": [
    "import sys\n",
    "import warnings\n",
    "from pathlib import Path\n",
    "\n",
    "from traitlets import Enum\n",
    "from traitlets.config import Configurable\n",
    "\n",
    "from ..config import find_literary_config, load_literary_config\n",
    "from ..transpile.patch import patch"
   ]
  },
  {
   "cell_type": "markdown",
   "id": "1e155019-c7b2-4050-9a19-c2ad072637da",
   "metadata": {},
   "source": [
    "Let's start by creating a configurable object which exposes a strategy for finding the best candidate for a package. This is determined either by the first entry in `sys.path` that contains a given file, or the shortest path from the package directory to the file."
   ]
  },
  {
   "cell_type": "code",
   "execution_count": 3,
   "id": "20511725-d1e7-4852-adbe-ca4ceb62380a",
   "metadata": {
    "editable": true,
    "slideshow": {
     "slide_type": ""
    },
    "tags": [
     "export"
    ]
   },
   "outputs": [],
   "source": [
    "class NotebookExtension(Configurable):\n",
    "    package_name_strategy = Enum(\n",
    "        [\"shortest\", \"first\"],\n",
    "        default_value=\"shortest\",\n",
    "        help=\"strategy for resolving package name\",\n",
    "    ).tag(config=True)"
   ]
  },
  {
   "cell_type": "markdown",
   "id": "2b328249-4ff2-4c07-a94e-5a8cfac13ec8",
   "metadata": {},
   "source": [
    "Let's implement a function to determine the name of the current package"
   ]
  },
  {
   "cell_type": "code",
   "execution_count": 4,
   "id": "48f56bbb-2398-4bd1-b16b-af6e7ca15c27",
   "metadata": {
    "editable": true,
    "slideshow": {
     "slide_type": ""
    },
    "tags": [
     "export"
    ]
   },
   "outputs": [],
   "source": [
    "@patch(NotebookExtension)\n",
    "def determine_package_name(self, path: Path) -> str:\n",
    "    \"\"\"Determine the corresponding importable name for a package directory given by\n",
    "    a particular file path. Return `None` if path is not contained within `sys.path`.\n",
    "\n",
    "    :param path: path to package\n",
    "    :return:\n",
    "    \"\"\"\n",
    "    if not path.is_dir():\n",
    "        raise ValueError(\"Expected directory, not file path\")\n",
    "\n",
    "    candidates = []\n",
    "    for p in sys.path:\n",
    "        # If the cwd is only on `sys.path` exactly, then it can't\n",
    "        # be a submodule. However, let's first look for parent paths\n",
    "        if str(path) == p:\n",
    "            continue\n",
    "\n",
    "        # Resolve path relative to `sys.path`\n",
    "        try:\n",
    "            relative_path = path.relative_to(p)\n",
    "        except ValueError:\n",
    "            continue\n",
    "\n",
    "        candidates.append(relative_path)\n",
    "\n",
    "    # Nothing was found on `sys.path`, so we abort\n",
    "    if not candidates:\n",
    "        return\n",
    "\n",
    "    # Different strategies for name resolution\n",
    "    if self.package_name_strategy == \"shortest\":\n",
    "        # This might be ambiguous (there may be several matches)\n",
    "        # so let's take the most-direct path\n",
    "        best_candidate = min(candidates, key=lambda x: len(x.parts))\n",
    "    else:\n",
    "        best_candidate = candidates[0]\n",
    "\n",
    "    return \".\".join(best_candidate.parts)"
   ]
  },
  {
   "cell_type": "markdown",
   "id": "60848257-e7b8-468a-b591-d1352547c15c",
   "metadata": {
    "editable": true,
    "slideshow": {
     "slide_type": ""
    },
    "tags": []
   },
   "source": [
    "This package depends upon `nbformat`. Let's apply this algorithm to an `nbformat file`"
   ]
  },
  {
   "cell_type": "code",
   "execution_count": 5,
   "id": "28583f1d-089e-4612-a553-69e03d3ffea7",
   "metadata": {
    "editable": true,
    "slideshow": {
     "slide_type": ""
    },
    "tags": []
   },
   "outputs": [],
   "source": [
    "import nbformat.corpus"
   ]
  },
  {
   "cell_type": "code",
   "execution_count": 6,
   "id": "37e086e5-dae1-4ac1-8ca0-8d70c5315c70",
   "metadata": {
    "editable": true,
    "slideshow": {
     "slide_type": ""
    },
    "tags": []
   },
   "outputs": [],
   "source": [
    "extension = NotebookExtension()\n",
    "# Find the path of nbformat.corpus from __path__\n",
    "true_package_path = Path(nbformat.corpus.__path__[0])\n",
    "package_name = extension.determine_package_name(true_package_path)"
   ]
  },
  {
   "cell_type": "code",
   "execution_count": 7,
   "id": "29f8be5e-ae4e-4132-bbf1-2aad6689d7a8",
   "metadata": {
    "editable": true,
    "slideshow": {
     "slide_type": ""
    },
    "tags": []
   },
   "outputs": [],
   "source": [
    "assert package_name == nbformat.corpus.__name__"
   ]
  },
  {
   "cell_type": "markdown",
   "id": "94251b5f-5fc3-412c-b028-14c39d6f01ed",
   "metadata": {
    "editable": true,
    "slideshow": {
     "slide_type": ""
    },
    "tags": []
   },
   "source": [
    "Now let's plumb this feature in to the IPython extension."
   ]
  },
  {
   "cell_type": "code",
   "execution_count": 8,
   "id": "classical-shoulder",
   "metadata": {
    "editable": true,
    "slideshow": {
     "slide_type": ""
    },
    "tags": [
     "export"
    ]
   },
   "outputs": [],
   "source": [
    "def load_ipython_extension(ipython):\n",
    "    \"\"\"Build the package-aware namespace for the IPython kernel. \n",
    "\n",
    "    If the kernel working directory is located under `sys.path`, \n",
    "    the appropriate `__package__` global will be set.\n",
    "\n",
    "    Additionally, helper utilities like `patch` are installed.\n",
    "\n",
    "    :param ipython: IPython shell instance\n",
    "    \"\"\"\n",
    "    cwd = Path.cwd()\n",
    "\n",
    "    # Load the current project's config\n",
    "    config = load_literary_config(find_literary_config(cwd))\n",
    "\n",
    "    # Identify which package this belongs to\n",
    "    notebook_extension = NotebookExtension(config=config)\n",
    "    package = notebook_extension.determine_package_name(cwd)\n",
    "\n",
    "    if package is None:\n",
    "        warnings.warn(\n",
    "            f\"Couldn't determine the package name for the current working directory {cwd}. \"\n",
    "            f\"This might be because the current project has not been installed in editable mode.\"\n",
    "        )\n",
    "    else:\n",
    "        # Packages don't have absolute imports\n",
    "        sys.path = [p for p in sys.path if Path(p).resolve() != cwd]\n",
    "\n",
    "    # Set `__package__` for consumer notebook\n",
    "    # I don't think we should be setting this if we aren't a package,\n",
    "    # but it seems like IPython sets it to None by default\n",
    "    ipython.user_ns.update(\n",
    "        {\n",
    "            \"__package__\": package,\n",
    "            \"patch\": patch,\n",
    "        }\n",
    "    )"
   ]
  },
  {
   "cell_type": "code",
   "execution_count": null,
   "id": "0ddb4f3c-70b6-4248-aae1-8e4e5cb8773c",
   "metadata": {
    "editable": true,
    "slideshow": {
     "slide_type": ""
    },
    "tags": []
   },
   "outputs": [],
   "source": []
  }
 ],
 "metadata": {
  "jupytext": {
   "cell_metadata_filter": "-all",
   "main_language": "python",
   "notebook_metadata_filter": "-all"
  },
  "kernelspec": {
   "display_name": "Python 3 (ipykernel)",
   "language": "python",
   "name": "python3"
  },
  "language_info": {
   "codemirror_mode": {
    "name": "ipython",
    "version": 3
   },
   "file_extension": ".py",
   "mimetype": "text/x-python",
   "name": "python",
   "nbconvert_exporter": "python",
   "pygments_lexer": "ipython3",
   "version": "3.13.5"
  }
 },
 "nbformat": 4,
 "nbformat_minor": 5
}

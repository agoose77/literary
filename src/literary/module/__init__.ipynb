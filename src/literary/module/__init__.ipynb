{
 "cells": [
  {
   "cell_type": "markdown",
   "id": "silent-establishment",
   "metadata": {
    "tags": [
     "docstring"
    ]
   },
   "source": [
    "# Notebook Modules"
   ]
  },
  {
   "cell_type": "code",
   "execution_count": 5,
   "id": "grave-racing",
   "metadata": {
    "tags": []
   },
   "outputs": [
    {
     "name": "stdout",
     "output_type": "stream",
     "text": [
      "The literary.module extension is already loaded. To reload it, use:\n",
      "  %reload_ext literary.module\n"
     ]
    }
   ],
   "source": [
    "%load_ext literary.module"
   ]
  },
  {
   "cell_type": "code",
   "execution_count": 6,
   "id": "grave-finding",
   "metadata": {
    "tags": [
     "export"
    ]
   },
   "outputs": [],
   "source": [
    "import sys\n",
    "import warnings\n",
    "from pathlib import Path\n",
    "from ..transpile.patch import patch"
   ]
  },
  {
   "cell_type": "code",
   "execution_count": 7,
   "id": "48f56bbb-2398-4bd1-b16b-af6e7ca15c27",
   "metadata": {
    "tags": [
     "export"
    ]
   },
   "outputs": [],
   "source": [
    "def determine_package_name(path: Path) -> str:\n",
    "    \"\"\"Determine the corresponding importable name for a package directory given by\n",
    "    a particular file path. Return `None` if path is not contained within `sys.path`.\n",
    "\n",
    "    :param path: path to package\n",
    "    :return:\n",
    "    \"\"\"\n",
    "    for p in sys.path:\n",
    "        # If the cwd is only on `sys.path` exactly, then it can't\n",
    "        # be a submodule. However, let's first look for parent paths\n",
    "        if str(path) == p:\n",
    "            continue\n",
    "\n",
    "        # Resolve path relative to `sys.path`\n",
    "        try:\n",
    "            relative_path = path.relative_to(p)\n",
    "        except ValueError:\n",
    "            continue\n",
    "\n",
    "        return \".\".join(relative_path.parts)\n",
    "\n",
    "    # Nothing was found on `sys.path`, so we abort\n",
    "    return None"
   ]
  },
  {
   "cell_type": "code",
   "execution_count": 8,
   "id": "classical-shoulder",
   "metadata": {
    "tags": [
     "export"
    ]
   },
   "outputs": [],
   "source": [
    "def load_ipython_extension(ipython):\n",
    "    \"\"\"Load the import hook and setup the global state for the Literary extension.\n",
    "    When IPython invokes this function, the determined package root path will be\n",
    "    added to `sys.path`.\n",
    "\n",
    "    :param ipython: IPython shell instance\n",
    "    \"\"\"    \n",
    "    cwd = Path.cwd()\n",
    "    \n",
    "    # Ensure CWD is not on sys.path\n",
    "    sys.path = [p for p in sys.path if Path(p).resolve() != cwd]\n",
    "\n",
    "    # Identify which package this belongs to\n",
    "    package = determine_package_name(cwd)    \n",
    "    if package is None:\n",
    "        warnings.warn(f\"Couldn't determine the package name for the current working directory {cwd}. \"\n",
    "                      f\"This might be because the current project has not been installed in editable mode.\")\n",
    "        \n",
    "        \n",
    "    # Set `__package__` for consumer notebook\n",
    "    ipython.user_ns.update(\n",
    "        {\n",
    "            \"__package__\": determine_package_name(cwd),\n",
    "            \"patch\": patch,\n",
    "        }\n",
    "    )"
   ]
  }
 ],
 "metadata": {
  "jupytext": {
   "cell_metadata_filter": "-all",
   "main_language": "python",
   "notebook_metadata_filter": "-all"
  },
  "kernelspec": {
   "display_name": "Python 3 (ipykernel)",
   "language": "python",
   "name": "python3"
  },
  "language_info": {
   "codemirror_mode": {
    "name": "ipython",
    "version": 3
   },
   "file_extension": ".py",
   "mimetype": "text/x-python",
   "name": "python",
   "nbconvert_exporter": "python",
   "pygments_lexer": "ipython3",
   "version": "3.10.4"
  }
 },
 "nbformat": 4,
 "nbformat_minor": 5
}

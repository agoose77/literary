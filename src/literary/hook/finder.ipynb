{
 "cells": [
  {
   "cell_type": "code",
   "execution_count": 1,
   "id": "spontaneous-llama",
   "metadata": {
    "editable": true,
    "slideshow": {
     "slide_type": ""
    },
    "tags": []
   },
   "outputs": [],
   "source": [
    "%load_ext literary.module"
   ]
  },
  {
   "cell_type": "markdown",
   "id": "willing-twist",
   "metadata": {
    "tags": [
     "docstring"
    ]
   },
   "source": [
    "# Notebook Finder"
   ]
  },
  {
   "cell_type": "code",
   "execution_count": 2,
   "id": "atomic-restoration",
   "metadata": {
    "tags": [
     "export"
    ]
   },
   "outputs": [],
   "source": [
    "import os\n",
    "import sys\n",
    "from importlib.machinery import FileFinder, PathFinder\n",
    "from inspect import getclosurevars"
   ]
  },
  {
   "cell_type": "markdown",
   "id": "302097d2-ab17-45c6-ade1-e74f417e7d55",
   "metadata": {},
   "source": [
    "The notebook loader needs to be installed by modifying the existing `FileFinder`. This is so that packages can be loaded with `__init__.ipynb` or `__init__.py` modules."
   ]
  },
  {
   "cell_type": "code",
   "execution_count": 3,
   "id": "908ecbf2-022a-4d18-9d0d-21533c80fe91",
   "metadata": {
    "tags": [
     "export"
    ]
   },
   "outputs": [],
   "source": [
    "def extend_file_finder(*loader_details):\n",
    "    \"\"\"Inject a set of loaders into a list of path hooks\n",
    "\n",
    "    :param path_hooks: list of path hooks\n",
    "    :param loader_details: FileFinder loader details\n",
    "    :return:\n",
    "    \"\"\"\n",
    "    for i, hook in enumerate(sys.path_hooks):\n",
    "        try:\n",
    "            namespace = getclosurevars(hook)\n",
    "        except TypeError as err:\n",
    "            continue\n",
    "\n",
    "        try:\n",
    "            details = namespace.nonlocals[\"loader_details\"]\n",
    "        except KeyError as err:\n",
    "            continue\n",
    "\n",
    "        break\n",
    "    else:\n",
    "        raise ValueError\n",
    "\n",
    "    sys.path_hooks[i] = FileFinder.path_hook(*details, *loader_details)\n",
    "\n",
    "    # To fix cached path finders\n",
    "    sys.path_importer_cache.clear()"
   ]
  }
 ],
 "metadata": {
  "jupytext": {
   "cell_metadata_filter": "-all",
   "main_language": "python",
   "notebook_metadata_filter": "-all"
  },
  "kernelspec": {
   "display_name": "Python 3 (ipykernel)",
   "language": "python",
   "name": "python3"
  },
  "language_info": {
   "codemirror_mode": {
    "name": "ipython",
    "version": 3
   },
   "file_extension": ".py",
   "mimetype": "text/x-python",
   "name": "python",
   "nbconvert_exporter": "python",
   "pygments_lexer": "ipython3",
   "version": "3.13.5"
  }
 },
 "nbformat": 4,
 "nbformat_minor": 5
}

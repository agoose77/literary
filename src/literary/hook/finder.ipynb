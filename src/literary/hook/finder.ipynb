{
 "cells": [
  {
   "cell_type": "code",
   "execution_count": 1,
   "id": "spontaneous-llama",
   "metadata": {},
   "outputs": [],
   "source": [
    "%load_ext literary.module"
   ]
  },
  {
   "cell_type": "markdown",
   "id": "willing-twist",
   "metadata": {
    "tags": [
     "docstring"
    ]
   },
   "source": [
    "# Notebook Finder"
   ]
  },
  {
   "cell_type": "code",
   "execution_count": 1,
   "id": "atomic-restoration",
   "metadata": {
    "execution": {
     "iopub.execute_input": "2022-05-12T11:24:10.286561Z",
     "iopub.status.busy": "2022-05-12T11:24:10.286092Z",
     "iopub.status.idle": "2022-05-12T11:24:10.290890Z",
     "shell.execute_reply": "2022-05-12T11:24:10.290345Z"
    },
    "tags": [
     "export"
    ]
   },
   "outputs": [],
   "source": [
    "import os\n",
    "import sys\n",
    "from importlib.machinery import FileFinder, PathFinder\n",
    "from inspect import getclosurevars"
   ]
  },
  {
   "cell_type": "markdown",
   "id": "302097d2-ab17-45c6-ade1-e74f417e7d55",
   "metadata": {},
   "source": [
    "The notebook loader needs to be installed by modifying the existing `FileFinder`. This is so that packages can be loaded with `__init__.ipynb` or `__init__.py` modules."
   ]
  },
  {
   "cell_type": "code",
   "execution_count": 2,
   "id": "908ecbf2-022a-4d18-9d0d-21533c80fe91",
   "metadata": {
    "execution": {
     "iopub.execute_input": "2022-05-12T11:24:10.295732Z",
     "iopub.status.busy": "2022-05-12T11:24:10.295307Z",
     "iopub.status.idle": "2022-05-12T11:24:10.300325Z",
     "shell.execute_reply": "2022-05-12T11:24:10.299794Z"
    },
    "tags": [
     "export"
    ]
   },
   "outputs": [],
   "source": [
    "def extend_file_finder(*loader_details):\n",
    "    \"\"\"Inject a set of loaders into a list of path hooks\n",
    "\n",
    "    :param path_hooks: list of path hooks\n",
    "    :param loader_details: FileFinder loader details\n",
    "    :return:\n",
    "    \"\"\"\n",
    "    for i, hook in enumerate(sys.path_hooks):\n",
    "        try:\n",
    "            namespace = getclosurevars(hook)\n",
    "        except TypeError as err:\n",
    "            continue\n",
    "\n",
    "        try:\n",
    "            details = namespace.nonlocals[\"loader_details\"]\n",
    "        except KeyError as err:\n",
    "            continue\n",
    "\n",
    "        break\n",
    "    else:\n",
    "        raise ValueError\n",
    "\n",
    "    sys.path_hooks[i] = FileFinder.path_hook(*details, *loader_details)\n",
    "\n",
    "    # To fix cached path finders\n",
    "    sys.path_importer_cache.clear()"
   ]
  },
  {
   "cell_type": "markdown",
   "id": "6dd8802c-5265-4e1e-b520-c1fb5855bf26",
   "metadata": {},
   "source": [
    "We will want to lazily load the notebook loader factory so that the Python startup is not adversely affected by importing nbconvert et al. However, IPyKernel puts the working directory on the `sys.path` by default, which causes problems if any notebooks shadow built-in packages. Although this also holds for regular Python files in the working directory, in practice this behaviour is not desirable, so we choose to (opt-out) remove the working directory from the path using a meta path finder."
   ]
  },
  {
   "cell_type": "code",
   "execution_count": 3,
   "id": "2e493732-a88d-43fb-9d03-a291e3d5c1f4",
   "metadata": {
    "execution": {
     "iopub.execute_input": "2022-05-12T11:24:10.303926Z",
     "iopub.status.busy": "2022-05-12T11:24:10.303174Z",
     "iopub.status.idle": "2022-05-12T11:24:10.312528Z",
     "shell.execute_reply": "2022-05-12T11:24:10.311533Z"
    },
    "tags": [
     "export"
    ]
   },
   "outputs": [],
   "source": [
    "class IPyKernelPathRestrictor:\n",
    "    @classmethod\n",
    "    def find_spec(cls, fullname, path=None, target=None):\n",
    "        if \".\" in fullname:\n",
    "            return None\n",
    "\n",
    "        name = fullname.split(\".\", 1)[0]\n",
    "\n",
    "        # IPython controls the kernel startup including its path\n",
    "        # The user cannot easily shape this, so instead we ignore notebooks\n",
    "        # during initialisation, to avoid problems of name shadowing in the cwd\n",
    "        if name == \"ipykernel\":\n",
    "            cwd = os.path.realpath(os.getcwd())\n",
    "            sys.path = [p for p in sys.path if os.path.realpath(p) != cwd]\n",
    "\n",
    "        return None"
   ]
  },
  {
   "cell_type": "markdown",
   "id": "24ff552e-f91a-4a96-b870-304e1008e648",
   "metadata": {},
   "source": [
    "Let's make a dedicated installer for this"
   ]
  },
  {
   "cell_type": "code",
   "execution_count": 4,
   "id": "731fec98-b411-4676-8975-a407e785d1d8",
   "metadata": {
    "execution": {
     "iopub.execute_input": "2022-05-12T11:24:10.316594Z",
     "iopub.status.busy": "2022-05-12T11:24:10.316045Z",
     "iopub.status.idle": "2022-05-12T11:24:10.322488Z",
     "shell.execute_reply": "2022-05-12T11:24:10.321739Z"
    },
    "tags": [
     "export"
    ]
   },
   "outputs": [],
   "source": [
    "def install_ipykernel_restrictor():\n",
    "    for i, finder in enumerate(sys.meta_path):\n",
    "        if finder is PathFinder:\n",
    "            break\n",
    "    else:\n",
    "        return\n",
    "\n",
    "    sys.meta_path.insert(i, IPyKernelPathRestrictor)"
   ]
  }
 ],
 "metadata": {
  "jupytext": {
   "cell_metadata_filter": "-all",
   "main_language": "python",
   "notebook_metadata_filter": "-all"
  },
  "kernelspec": {
   "display_name": "Python 3 (ipykernel)",
   "language": "python",
   "name": "python3"
  },
  "language_info": {
   "codemirror_mode": {
    "name": "ipython",
    "version": 3
   },
   "file_extension": ".py",
   "mimetype": "text/x-python",
   "name": "python",
   "nbconvert_exporter": "python",
   "pygments_lexer": "ipython3",
   "version": "3.10.4"
  }
 },
 "nbformat": 4,
 "nbformat_minor": 5
}

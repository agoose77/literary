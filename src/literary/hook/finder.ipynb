{
 "cells": [
  {
   "cell_type": "markdown",
   "id": "willing-twist",
   "metadata": {
    "tags": [
     "docstring"
    ]
   },
   "source": [
    "# Notebook Finder"
   ]
  },
  {
   "cell_type": "code",
   "execution_count": 1,
   "id": "convenient-james",
   "metadata": {
    "execution": {
     "iopub.execute_input": "2021-05-18T21:00:38.774806Z",
     "iopub.status.busy": "2021-05-18T21:00:38.773483Z",
     "iopub.status.idle": "2021-05-18T21:00:38.910314Z",
     "shell.execute_reply": "2021-05-18T21:00:38.909277Z"
    }
   },
   "outputs": [],
   "source": [
    "%load_ext literary.module"
   ]
  },
  {
   "cell_type": "code",
   "execution_count": 2,
   "id": "atomic-restoration",
   "metadata": {
    "execution": {
     "iopub.execute_input": "2021-05-18T21:00:38.918763Z",
     "iopub.status.busy": "2021-05-18T21:00:38.917571Z",
     "iopub.status.idle": "2021-05-18T21:00:38.921501Z",
     "shell.execute_reply": "2021-05-18T21:00:38.920415Z"
    },
    "tags": [
     "export"
    ]
   },
   "outputs": [],
   "source": [
    "import sys\n",
    "from importlib.machinery import FileFinder\n",
    "from inspect import getclosurevars"
   ]
  },
  {
   "cell_type": "code",
   "execution_count": 7,
   "id": "908ecbf2-022a-4d18-9d0d-21533c80fe91",
   "metadata": {
    "execution": {
     "iopub.execute_input": "2021-05-18T21:00:38.961195Z",
     "iopub.status.busy": "2021-05-18T21:00:38.960612Z",
     "iopub.status.idle": "2021-05-18T21:00:38.963344Z",
     "shell.execute_reply": "2021-05-18T21:00:38.962736Z"
    },
    "tags": [
     "export"
    ]
   },
   "outputs": [],
   "source": [
    "def extend_file_finder(\n",
    "    *loader_details\n",
    "):\n",
    "    \"\"\"Inject a set of loaders into a list of path hooks\n",
    "\n",
    "    :param path_hooks: list of path hooks\n",
    "    :param loader_details: FileFinder loader details\n",
    "    :return:\n",
    "    \"\"\"\n",
    "    for i, hook in enumerate(sys.path_hooks):\n",
    "        try:\n",
    "            namespace = getclosurevars(hook)\n",
    "        except TypeError as err:\n",
    "            continue\n",
    "\n",
    "        try:\n",
    "            details = namespace.nonlocals[\"loader_details\"]\n",
    "        except KeyError as err:\n",
    "            continue\n",
    "\n",
    "        break\n",
    "    else:\n",
    "        raise ValueError\n",
    "\n",
    "    sys.path_hooks[i] = FileFinder.path_hook(*details, *loader_details)\n",
    "\n",
    "    # To fix cached path finders\n",
    "    sys.path_importer_cache.clear()"
   ]
  }
 ],
 "metadata": {
  "jupytext": {
   "cell_metadata_filter": "-all",
   "main_language": "python",
   "notebook_metadata_filter": "-all"
  },
  "kernelspec": {
   "display_name": "Python 3 (ipykernel)",
   "language": "python",
   "name": "python3"
  },
  "language_info": {
   "codemirror_mode": {
    "name": "ipython",
    "version": 3
   },
   "file_extension": ".py",
   "mimetype": "text/x-python",
   "name": "python",
   "nbconvert_exporter": "python",
   "pygments_lexer": "ipython3",
   "version": "3.10.4"
  }
 },
 "nbformat": 4,
 "nbformat_minor": 5
}

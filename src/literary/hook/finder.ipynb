{
 "cells": [
  {
   "cell_type": "markdown",
   "id": "willing-twist",
   "metadata": {
    "tags": [
     "docstring"
    ]
   },
   "source": [
    "# Notebook Finder"
   ]
  },
  {
   "cell_type": "code",
   "execution_count": 1,
   "id": "convenient-james",
   "metadata": {
    "execution": {
     "iopub.execute_input": "2021-05-18T21:00:38.774806Z",
     "iopub.status.busy": "2021-05-18T21:00:38.773483Z",
     "iopub.status.idle": "2021-05-18T21:00:38.910314Z",
     "shell.execute_reply": "2021-05-18T21:00:38.909277Z"
    }
   },
   "outputs": [],
   "source": [
    "%load_ext literary.module"
   ]
  },
  {
   "cell_type": "code",
   "execution_count": 2,
   "id": "atomic-restoration",
   "metadata": {
    "execution": {
     "iopub.execute_input": "2021-05-18T21:00:38.918763Z",
     "iopub.status.busy": "2021-05-18T21:00:38.917571Z",
     "iopub.status.idle": "2021-05-18T21:00:38.921501Z",
     "shell.execute_reply": "2021-05-18T21:00:38.920415Z"
    },
    "tags": [
     "export"
    ]
   },
   "outputs": [],
   "source": [
    "import os\n",
    "import pathlib\n",
    "import sys\n",
    "import traceback\n",
    "import typing as tp\n",
    "from importlib.machinery import FileFinder\n",
    "from inspect import getclosurevars\n",
    "\n",
    "from traitlets import Bool, Type"
   ]
  },
  {
   "cell_type": "code",
   "execution_count": 3,
   "id": "tutorial-stroke",
   "metadata": {
    "execution": {
     "iopub.execute_input": "2021-05-18T21:00:38.926898Z",
     "iopub.status.busy": "2021-05-18T21:00:38.925732Z",
     "iopub.status.idle": "2021-05-18T21:00:38.928206Z",
     "shell.execute_reply": "2021-05-18T21:00:38.928947Z"
    },
    "tags": [
     "export"
    ]
   },
   "outputs": [],
   "source": [
    "T = tp.TypeVar(\"T\")"
   ]
  },
  {
   "cell_type": "code",
   "execution_count": 4,
   "id": "3629167d-a656-4dbd-ab97-bbeec3d668ef",
   "metadata": {
    "execution": {
     "iopub.execute_input": "2021-05-18T21:00:38.936618Z",
     "iopub.status.busy": "2021-05-18T21:00:38.936026Z",
     "iopub.status.idle": "2021-05-18T21:00:38.939944Z",
     "shell.execute_reply": "2021-05-18T21:00:38.940907Z"
    },
    "tags": [
     "export"
    ]
   },
   "outputs": [],
   "source": [
    "def _get_loader_details(hook) -> tuple:\n",
    "    \"\"\"Return the loader_details for a given FileFinder closure\n",
    "\n",
    "    :param hook: FileFinder closure\n",
    "    :returns: loader_details tuple\n",
    "    \"\"\"\n",
    "    try:\n",
    "        namespace = getclosurevars(hook)\n",
    "    except TypeError as err:\n",
    "        raise ValueError from err\n",
    "\n",
    "    try:\n",
    "        return namespace.nonlocals[\"loader_details\"]\n",
    "    except KeyError as err:\n",
    "        raise ValueError from err"
   ]
  },
  {
   "cell_type": "code",
   "execution_count": 5,
   "id": "b75797cb-67fc-49e2-938b-5607ede5ce9d",
   "metadata": {
    "execution": {
     "iopub.execute_input": "2021-05-18T21:00:38.947548Z",
     "iopub.status.busy": "2021-05-18T21:00:38.946365Z",
     "iopub.status.idle": "2021-05-18T21:00:38.949403Z",
     "shell.execute_reply": "2021-05-18T21:00:38.948794Z"
    },
    "tags": [
     "export"
    ]
   },
   "outputs": [],
   "source": [
    "def _find_file_finder(path_hooks: list) -> tp.Tuple[int, tp.Any]:\n",
    "    \"\"\"Find the FileFinder closure in a list of path hooks\n",
    "\n",
    "    :param path_hooks: path hooks\n",
    "    :returns: index of hook and the hook itself\n",
    "    \"\"\"\n",
    "    for i, hook in enumerate(path_hooks):\n",
    "        try:\n",
    "            _get_loader_details(hook)\n",
    "        except ValueError:\n",
    "            continue\n",
    "\n",
    "        return i, hook\n",
    "    raise ValueError"
   ]
  },
  {
   "cell_type": "code",
   "execution_count": 6,
   "id": "a91158b3-a20a-4a5e-8483-841b433ca567",
   "metadata": {
    "execution": {
     "iopub.execute_input": "2021-05-18T21:00:38.953813Z",
     "iopub.status.busy": "2021-05-18T21:00:38.953215Z",
     "iopub.status.idle": "2021-05-18T21:00:38.955748Z",
     "shell.execute_reply": "2021-05-18T21:00:38.956216Z"
    },
    "tags": [
     "export"
    ]
   },
   "outputs": [],
   "source": [
    "def _derive_file_finder(finder: T, *loader_details) -> T:\n",
    "    \"\"\"Extend an existing file finder with new loader details\n",
    "\n",
    "    :param finder: existing FileFinder instance\n",
    "    :param loader_details:\n",
    "    :return:\n",
    "    \"\"\"\n",
    "    return FileFinder.path_hook(*_get_loader_details(finder), *loader_details)"
   ]
  },
  {
   "cell_type": "code",
   "execution_count": 7,
   "id": "908ecbf2-022a-4d18-9d0d-21533c80fe91",
   "metadata": {
    "execution": {
     "iopub.execute_input": "2021-05-18T21:00:38.961195Z",
     "iopub.status.busy": "2021-05-18T21:00:38.960612Z",
     "iopub.status.idle": "2021-05-18T21:00:38.963344Z",
     "shell.execute_reply": "2021-05-18T21:00:38.962736Z"
    },
    "tags": [
     "export"
    ]
   },
   "outputs": [],
   "source": [
    "def extend_file_finder(\n",
    "    *loader_details\n",
    "):\n",
    "    \"\"\"Inject a set of loaders into a list of path hooks\n",
    "\n",
    "    :param path_hooks: list of path hooks\n",
    "    :param loader_details: FileFinder loader details\n",
    "    :return:\n",
    "    \"\"\"\n",
    "    i, finder = _find_file_finder(sys.path_hooks)\n",
    "    sys.path_hooks[i] = _derive_file_finder(finder, *loader_details)\n",
    "\n",
    "    # To fix cached path finders\n",
    "    sys.path_importer_cache.clear()"
   ]
  }
 ],
 "metadata": {
  "jupytext": {
   "cell_metadata_filter": "-all",
   "main_language": "python",
   "notebook_metadata_filter": "-all"
  },
  "kernelspec": {
   "display_name": "Python 3 (ipykernel)",
   "language": "python",
   "name": "python3"
  },
  "language_info": {
   "codemirror_mode": {
    "name": "ipython",
    "version": 3
   },
   "file_extension": ".py",
   "mimetype": "text/x-python",
   "name": "python",
   "nbconvert_exporter": "python",
   "pygments_lexer": "ipython3",
   "version": "3.10.4"
  }
 },
 "nbformat": 4,
 "nbformat_minor": 5
}

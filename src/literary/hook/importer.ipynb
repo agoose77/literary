{
 "cells": [
  {
   "cell_type": "markdown",
   "id": "willing-twist",
   "metadata": {
    "tags": [
     "docstring"
    ]
   },
   "source": [
    "# Import Hook"
   ]
  },
  {
   "cell_type": "code",
   "execution_count": 4,
   "id": "convenient-james",
   "metadata": {
    "tags": []
   },
   "outputs": [
    {
     "name": "stdout",
     "output_type": "stream",
     "text": [
      "The literary.module extension is already loaded. To reload it, use:\n",
      "  %reload_ext literary.module\n"
     ]
    }
   ],
   "source": [
    "%load_ext literary.module"
   ]
  },
  {
   "cell_type": "code",
   "execution_count": 5,
   "id": "atomic-restoration",
   "metadata": {
    "tags": [
     "export"
    ]
   },
   "outputs": [],
   "source": [
    "from functools import lru_cache\n",
    "from pathlib import Path\n",
    "from nbconvert import Exporter\n",
    "from traitlets import Instance, Type, default\n",
    "from traitlets.config import Configurable\n",
    "\n",
    "from ..config import find_literary_config, load_literary_config\n",
    "from ..transpile.exporter import LiteraryExporter\n",
    "from .loader import NotebookLoader"
   ]
  },
  {
   "cell_type": "markdown",
   "id": "04b4bfc0-3d30-40cb-aa8d-e56ea50a8d8d",
   "metadata": {},
   "source": [
    "Here we implement a `ProjectImporter` class. We expose the exporter class to later configuration"
   ]
  },
  {
   "cell_type": "code",
   "execution_count": 6,
   "id": "4bd4893f-d373-4161-80b3-1ce334492a15",
   "metadata": {
    "tags": [
     "export"
    ]
   },
   "outputs": [],
   "source": [
    "class NotebookImporter(Configurable):\n",
    "    exporter = Instance(Exporter)\n",
    "    exporter_class = Type(LiteraryExporter).tag(config=True)"
   ]
  },
  {
   "cell_type": "markdown",
   "id": "c79c6508-f45e-4815-affe-8291b809cd16",
   "metadata": {},
   "source": [
    "By default, we'll create an instance of `exporter_class`"
   ]
  },
  {
   "cell_type": "code",
   "execution_count": 7,
   "id": "c2b8b55d-8d52-49d4-8c99-97731232187c",
   "metadata": {
    "tags": [
     "export"
    ]
   },
   "outputs": [],
   "source": [
    "@patch(NotebookImporter)\n",
    "@default(\"exporter\")\n",
    "def _exporter_default(self):\n",
    "    return self.exporter_class(parent=self)"
   ]
  },
  {
   "cell_type": "markdown",
   "id": "6c6fcdac-e367-443e-b0f1-367bc1820ddb",
   "metadata": {},
   "source": [
    "We will implement a method to build a `NotebookLoader` object using the current exporter"
   ]
  },
  {
   "cell_type": "code",
   "execution_count": 8,
   "id": "f8172c3a-00b6-41eb-80f9-bfbe5a67a5ad",
   "metadata": {
    "tags": [
     "export"
    ]
   },
   "outputs": [],
   "source": [
    "@patch(NotebookImporter)\n",
    "def get_loader(self, fullname, path):    \n",
    "    # Create the exporter\n",
    "    exporter = self.exporter_class(parent=self)\n",
    "    return NotebookLoader(fullname, path, exporter=self.exporter)"
   ]
  },
  {
   "cell_type": "markdown",
   "id": "3237d24c-960d-4e31-bc0f-8f911d7a18f1",
   "metadata": {},
   "source": [
    "## Loader factory\n",
    "To avoid a startup penalty, we want this module to be imported lazily. We should also load the configuation lazily"
   ]
  },
  {
   "cell_type": "code",
   "execution_count": null,
   "id": "2e3659fa-dd6c-4f42-897d-49cf75badfc7",
   "metadata": {
    "tags": [
     "export"
    ]
   },
   "outputs": [],
   "source": [
    "@lru_cache()\n",
    "def load_cached_config(path):\n",
    "    return load_literary_config(path)"
   ]
  },
  {
   "cell_type": "markdown",
   "id": "498179f1-f812-4a6c-862c-f8c3c6dcb16f",
   "metadata": {},
   "source": [
    "However, we also do not want to have to lookup relative imports once the import hook has been installed. It this were to happen, the import hook itself may start resolving against the local notebooks (and things would break)! So, we provide a factory function here that can be imported once on demand by the hook."
   ]
  },
  {
   "cell_type": "code",
   "execution_count": null,
   "id": "a1fc2bb1-4d07-40a8-8f31-02e425661eda",
   "metadata": {
    "tags": [
     "export"
    ]
   },
   "outputs": [],
   "source": [
    "def get_loader(fullname, path):\n",
    "    try:\n",
    "        config_path = find_literary_config(Path(path))\n",
    "    except FileNotFoundError:\n",
    "        return None\n",
    "    importer = NotebookImporter(config=load_cached_config(config_path))\n",
    "    return importer.get_loader(fullname, path)"
   ]
  }
 ],
 "metadata": {
  "jupytext": {
   "cell_metadata_filter": "-all",
   "main_language": "python",
   "notebook_metadata_filter": "-all"
  },
  "kernelspec": {
   "display_name": "Python 3 (ipykernel)",
   "language": "python",
   "name": "python3"
  },
  "language_info": {
   "codemirror_mode": {
    "name": "ipython",
    "version": 3
   },
   "file_extension": ".py",
   "mimetype": "text/x-python",
   "name": "python",
   "nbconvert_exporter": "python",
   "pygments_lexer": "ipython3",
   "version": "3.10.4"
  }
 },
 "nbformat": 4,
 "nbformat_minor": 5
}

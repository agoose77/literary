{
 "cells": [
  {
   "cell_type": "markdown",
   "id": "willing-twist",
   "metadata": {
    "tags": [
     "docstring"
    ]
   },
   "source": [
    "# Import Hook"
   ]
  },
  {
   "cell_type": "code",
   "execution_count": 1,
   "id": "convenient-james",
   "metadata": {
    "tags": []
   },
   "outputs": [],
   "source": [
    "%load_ext literary.module"
   ]
  },
  {
   "cell_type": "code",
   "execution_count": 2,
   "id": "atomic-restoration",
   "metadata": {
    "tags": [
     "export"
    ]
   },
   "outputs": [],
   "source": [
    "from nbconvert import Exporter\n",
    "from traitlets import Instance, Type, default\n",
    "from traitlets.config import Configurable\n",
    "\n",
    "from ..transpile.exporter import LiteraryExporter\n",
    "from .loader import NotebookLoader"
   ]
  },
  {
   "cell_type": "markdown",
   "id": "04b4bfc0-3d30-40cb-aa8d-e56ea50a8d8d",
   "metadata": {},
   "source": [
    "Here we implement a `ProjectImporter` class. We expose the exporter class to later configuration"
   ]
  },
  {
   "cell_type": "code",
   "execution_count": null,
   "id": "4bd4893f-d373-4161-80b3-1ce334492a15",
   "metadata": {
    "tags": [
     "export"
    ]
   },
   "outputs": [],
   "source": [
    "class NotebookImporter(Configurable):\n",
    "    exporter = Instance(Exporter)\n",
    "    exporter_class = Type(LiteraryExporter).tag(config=True)"
   ]
  },
  {
   "cell_type": "code",
   "execution_count": null,
   "id": "c2b8b55d-8d52-49d4-8c99-97731232187c",
   "metadata": {
    "tags": [
     "export"
    ]
   },
   "outputs": [],
   "source": [
    "@patch(NotebookImporter)\n",
    "@default(\"exporter\")\n",
    "def _exporter_default(self):\n",
    "    return self.exporter_class(parent=self)"
   ]
  },
  {
   "cell_type": "code",
   "execution_count": 6,
   "id": "f8172c3a-00b6-41eb-80f9-bfbe5a67a5ad",
   "metadata": {
    "tags": [
     "export"
    ]
   },
   "outputs": [],
   "source": [
    "@patch(NotebookImporter)\n",
    "def get_loader(self, fullname, path):    \n",
    "    # Create the exporter\n",
    "    exporter = self.exporter_class(parent=self)\n",
    "    return NotebookLoader(fullname, path, exporter=self.exporter)"
   ]
  }
 ],
 "metadata": {
  "jupytext": {
   "cell_metadata_filter": "-all",
   "main_language": "python",
   "notebook_metadata_filter": "-all"
  },
  "kernelspec": {
   "display_name": "Python 3 (ipykernel)",
   "language": "python",
   "name": "python3"
  },
  "language_info": {
   "codemirror_mode": {
    "name": "ipython",
    "version": 3
   },
   "file_extension": ".py",
   "mimetype": "text/x-python",
   "name": "python",
   "nbconvert_exporter": "python",
   "pygments_lexer": "ipython3",
   "version": "3.10.4"
  }
 },
 "nbformat": 4,
 "nbformat_minor": 5
}

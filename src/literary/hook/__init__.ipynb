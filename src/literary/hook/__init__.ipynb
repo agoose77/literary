{
 "cells": [
  {
   "cell_type": "code",
   "execution_count": 1,
   "id": "09f47ad4-3afc-4655-82df-8c8c59d9bc65",
   "metadata": {},
   "outputs": [],
   "source": [
    "%load_ext literary.module"
   ]
  },
  {
   "cell_type": "code",
   "execution_count": 2,
   "id": "74d6c9be-4502-4ec4-8a14-9aa073762ded",
   "metadata": {
    "tags": [
     "export"
    ]
   },
   "outputs": [],
   "source": [
    "from .finder import extend_file_finder\n",
    "from ..config import load_literary_config, find_literary_config\n",
    "\n",
    "import functools\n",
    "import sys\n",
    "import traceback\n",
    "import pathlib"
   ]
  },
  {
   "cell_type": "code",
   "execution_count": 3,
   "id": "14cdff56-cb55-47d7-99f5-15ea91c84a09",
   "metadata": {
    "tags": [
     "export"
    ]
   },
   "outputs": [],
   "source": [
    "load_cached_config = functools.lru_cache()(load_literary_config)"
   ]
  },
  {
   "cell_type": "code",
   "execution_count": 4,
   "id": "f9ee7560-eae0-4694-b74f-8fa2cf232246",
   "metadata": {
    "tags": [
     "export"
    ]
   },
   "outputs": [],
   "source": [
    "def install_import_hook(set_except_hook=True):\n",
    "    # Inject notebook loader into path_hooks\n",
    "    def create_notebook_loader(fullname, path):\n",
    "        from .importer import NotebookImporter\n",
    "\n",
    "        config = load_cached_config(\n",
    "            find_literary_config(pathlib.Path(path))\n",
    "        )\n",
    "        print(\"Loaded\", path)\n",
    "        importer = NotebookImporter(config=config)\n",
    "        return importer.get_loader(fullname, path)\n",
    "\n",
    "    extend_file_finder((create_notebook_loader, [\".ipynb\"]),)\n",
    "\n",
    "    if set_except_hook:\n",
    "        sys.excepthook = traceback.print_exception"
   ]
  }
 ],
 "metadata": {
  "kernelspec": {
   "display_name": "Python 3 (ipykernel)",
   "language": "python",
   "name": "python3"
  },
  "language_info": {
   "codemirror_mode": {
    "name": "ipython",
    "version": 3
   },
   "file_extension": ".py",
   "mimetype": "text/x-python",
   "name": "python",
   "nbconvert_exporter": "python",
   "pygments_lexer": "ipython3",
   "version": "3.10.4"
  }
 },
 "nbformat": 4,
 "nbformat_minor": 5
}

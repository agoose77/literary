{
 "cells": [
  {
   "cell_type": "code",
   "execution_count": 1,
   "id": "09f47ad4-3afc-4655-82df-8c8c59d9bc65",
   "metadata": {},
   "outputs": [],
   "source": [
    "%load_ext literary.module"
   ]
  },
  {
   "cell_type": "code",
   "execution_count": 2,
   "id": "74d6c9be-4502-4ec4-8a14-9aa073762ded",
   "metadata": {
    "tags": [
     "export"
    ]
   },
   "outputs": [],
   "source": [
    "from .finder import extend_file_finder\n",
    "\n",
    "import sys\n",
    "import traceback\n",
    "import pathlib"
   ]
  },
  {
   "cell_type": "markdown",
   "id": "fdab96e1-95b7-47d7-bba1-de073ea1b1a2",
   "metadata": {},
   "source": [
    "We want to lazily load the notebook loader factory so that the Python startup is not adversely affected by importing nbconvert et al. However, if we do this naively with a relative import that is evaluated per-notebook, we will run into import loops. Here we'll define a lazy proxy that ensures the import hook is fully loaded."
   ]
  },
  {
   "cell_type": "code",
   "execution_count": 5,
   "id": "392c9424-1934-4a38-a636-f1f8c9623149",
   "metadata": {
    "tags": [
     "export"
    ]
   },
   "outputs": [],
   "source": [
    "def notebook_loader_factory(fullname, path):\n",
    "    try:\n",
    "        factory = notebook_loader_factory.factory\n",
    "    except AttributeError:\n",
    "        # Re-entrant guard\n",
    "        def noop_loader(fullname, path):\n",
    "            return None\n",
    "        notebook_loader_factory.factory = noop_loader\n",
    "        \n",
    "        # Actual importer\n",
    "        from .importer import get_loader\n",
    "        notebook_loader_factory.factory = get_loader\n",
    "        factory = get_loader\n",
    "    \n",
    "    return factory(fullname, path)"
   ]
  },
  {
   "cell_type": "markdown",
   "id": "6d06e662-9dda-45b8-aba4-4b0e61dee5d9",
   "metadata": {},
   "source": [
    "Now we can install the import hook with a simple file finder"
   ]
  },
  {
   "cell_type": "code",
   "execution_count": 4,
   "id": "f9ee7560-eae0-4694-b74f-8fa2cf232246",
   "metadata": {
    "tags": [
     "export"
    ]
   },
   "outputs": [],
   "source": [
    "def install_import_hook(set_except_hook=True):\n",
    "    extend_file_finder((notebook_loader_factory, [\".ipynb\"]),)\n",
    "\n",
    "    if set_except_hook:\n",
    "        sys.excepthook = traceback.print_exception"
   ]
  }
 ],
 "metadata": {
  "kernelspec": {
   "display_name": "Python 3 (ipykernel)",
   "language": "python",
   "name": "python3"
  },
  "language_info": {
   "codemirror_mode": {
    "name": "ipython",
    "version": 3
   },
   "file_extension": ".py",
   "mimetype": "text/x-python",
   "name": "python",
   "nbconvert_exporter": "python",
   "pygments_lexer": "ipython3",
   "version": "3.10.4"
  }
 },
 "nbformat": 4,
 "nbformat_minor": 5
}

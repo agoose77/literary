{
 "cells": [
  {
   "cell_type": "code",
   "execution_count": 12,
   "id": "74d6c9be-4502-4ec4-8a14-9aa073762ded",
   "metadata": {
    "tags": [
     "export"
    ]
   },
   "outputs": [],
   "source": [
    "from .finder import extend_file_finder\n",
    "\n",
    "import builtins\n",
    "import sys\n",
    "import traceback\n",
    "from pathlib import Path"
   ]
  },
  {
   "cell_type": "markdown",
   "id": "9bbd720f-f197-48b2-9f7f-908ac9928213",
   "metadata": {},
   "source": [
    "Here we implement a no-op implementation of the loader interface:"
   ]
  },
  {
   "cell_type": "code",
   "execution_count": 16,
   "id": "4202e95e-461a-4b69-a86b-c54055647ccb",
   "metadata": {
    "tags": [
     "export"
    ]
   },
   "outputs": [],
   "source": [
    "def noop_loader(fullname, path):\n",
    "    return None"
   ]
  },
  {
   "cell_type": "markdown",
   "id": "b8ad0675-b7c3-41f9-9334-d3daa147f146",
   "metadata": {},
   "source": [
    "We want to lazily load the notebook loader factory so that the Python startup is not adversely affected by importing nbconvert et al. However, if we do this naively with a relative import that is evaluated per-notebook, we will run into import loops. Here we'll define a lazy proxy that ensures the import hook is fully loaded."
   ]
  },
  {
   "cell_type": "code",
   "execution_count": 21,
   "id": "25d57a07-a47e-40d6-80f1-03df6eeb69dd",
   "metadata": {
    "tags": [
     "export"
    ]
   },
   "outputs": [],
   "source": [
    "def notebook_loader_factory(fullname, path):\n",
    "    try:\n",
    "        factory = notebook_loader_factory.factory\n",
    "    except AttributeError:\n",
    "        # As we're installing the notebook hook, we shouldn't be loading any notebooks yet\n",
    "        notebook_loader_factory.factory = noop_loader\n",
    "\n",
    "        # Realise import of loader\n",
    "        from .importer import get_loader\n",
    "        notebook_loader_factory.factory = get_loader\n",
    "\n",
    "        factory = get_loader\n",
    "\n",
    "    return factory(fullname, path)"
   ]
  },
  {
   "cell_type": "markdown",
   "id": "6d06e662-9dda-45b8-aba4-4b0e61dee5d9",
   "metadata": {},
   "source": [
    "Now we can install the import hook with a simple file finder"
   ]
  },
  {
   "cell_type": "code",
   "execution_count": 4,
   "id": "f9ee7560-eae0-4694-b74f-8fa2cf232246",
   "metadata": {
    "tags": [
     "export"
    ]
   },
   "outputs": [],
   "source": [
    "def install_import_hook(set_except_hook=True):\n",
    "    extend_file_finder((notebook_loader_factory, [\".ipynb\"]),)\n",
    "\n",
    "    if set_except_hook:\n",
    "        sys.excepthook = traceback.print_exception"
   ]
  }
 ],
 "metadata": {
  "kernelspec": {
   "display_name": "Python 3 (ipykernel)",
   "language": "python",
   "name": "python3"
  },
  "language_info": {
   "codemirror_mode": {
    "name": "ipython",
    "version": 3
   },
   "file_extension": ".py",
   "mimetype": "text/x-python",
   "name": "python",
   "nbconvert_exporter": "python",
   "pygments_lexer": "ipython3",
   "version": "3.10.4"
  }
 },
 "nbformat": 4,
 "nbformat_minor": 5
}

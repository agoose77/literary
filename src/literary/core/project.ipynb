{
 "cells": [
  {
   "cell_type": "markdown",
   "id": "ab5f72b2-4b44-43a9-af2e-80305ce18260",
   "metadata": {
    "tags": [
     "docstring"
    ]
   },
   "source": [
    "# Project Operations\n",
    "Most Literary operations act upon the *project* - that is, the set of notebooks which are considered \"packages\". Here we define a `Configurable` which defines the configuration that refers to these notebooks"
   ]
  },
  {
   "cell_type": "code",
   "execution_count": 1,
   "id": "9c3d6b04-e878-4dcf-9e76-2416ff0865a8",
   "metadata": {},
   "outputs": [],
   "source": [
    "%load_ext literary.notebook"
   ]
  },
  {
   "cell_type": "code",
   "execution_count": 2,
   "id": "9a6ff8c2-ec3f-4319-83ef-d3ad125f05da",
   "metadata": {
    "tags": [
     "export"
    ]
   },
   "outputs": [],
   "source": [
    "from pathlib import Path\n",
    "\n",
    "from traitlets import List, Unicode, default, observe, validate\n",
    "from traitlets.config import Config, LoggingConfigurable\n",
    "\n",
    "from .trait import Path as PathTrait"
   ]
  },
  {
   "cell_type": "code",
   "execution_count": 3,
   "id": "129e6608-fa8a-4fab-ad29-7799085f8959",
   "metadata": {
    "tags": [
     "export"
    ]
   },
   "outputs": [],
   "source": [
    "class ProjectOperator(LoggingConfigurable):\n",
    "    project_path = PathTrait(help=\"Path to Literary project top-level directory\").tag(\n",
    "        config=True\n",
    "    )\n",
    "\n",
    "    packages_dir = Unicode(\n",
    "        \"src\", help=\"Path to Literary packages top-level directory\"\n",
    "    ).tag(config=True)"
   ]
  },
  {
   "cell_type": "markdown",
   "id": "5bd4a109-bfdf-41d8-bd41-3647664cee41",
   "metadata": {},
   "source": [
    "The `project_path` should point to the directory containing the Literary configuration file. We need this directory to exist for subsequent path resolution."
   ]
  },
  {
   "cell_type": "code",
   "execution_count": 4,
   "id": "c1852062-cdb1-4436-956f-aea61c157711",
   "metadata": {
    "tags": [
     "export"
    ]
   },
   "outputs": [],
   "source": [
    "@patch(ProjectOperator)\n",
    "@validate(\"project_path\")\n",
    "def _validate_project_path(self, proposal):\n",
    "    path = Path(proposal.value)\n",
    "    if not path.exists():\n",
    "        raise ValueError()\n",
    "    return path"
   ]
  },
  {
   "cell_type": "markdown",
   "id": "651a9ef9-9115-4dfe-9e2c-17940f9b3bcc",
   "metadata": {},
   "source": [
    "Here we define the function to resolve a path against the project."
   ]
  },
  {
   "cell_type": "code",
   "execution_count": 5,
   "id": "ce8afebb-1e10-427f-aec9-788861431bd1",
   "metadata": {
    "tags": [
     "export"
    ]
   },
   "outputs": [],
   "source": [
    "@patch(ProjectOperator)\n",
    "def resolve_path(self, path):\n",
    "    return self.project_path / path"
   ]
  },
  {
   "cell_type": "markdown",
   "id": "319b8726-8f87-43de-ab86-43051af7fbe5",
   "metadata": {},
   "source": [
    "The `packages_dir` should always be used after it has been resolved, so let's define a getter."
   ]
  },
  {
   "cell_type": "code",
   "execution_count": 6,
   "id": "ff036dd0-d804-4271-8ab5-384485940ce8",
   "metadata": {
    "tags": [
     "export"
    ]
   },
   "outputs": [],
   "source": [
    "@patch(ProjectOperator)\n",
    "@property\n",
    "def packages_path(self) -> Path:\n",
    "    return self.resolve_path(self.packages_dir)"
   ]
  }
 ],
 "metadata": {
  "kernelspec": {
   "display_name": "Python 3",
   "language": "python",
   "name": "python3"
  },
  "language_info": {
   "codemirror_mode": {
    "name": "ipython",
    "version": 3
   },
   "file_extension": ".py",
   "mimetype": "text/x-python",
   "name": "python",
   "nbconvert_exporter": "python",
   "pygments_lexer": "ipython3",
   "version": "3.9.0"
  }
 },
 "nbformat": 4,
 "nbformat_minor": 5
}

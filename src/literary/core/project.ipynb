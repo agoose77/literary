{
 "cells": [
  {
   "cell_type": "markdown",
   "id": "ab5f72b2-4b44-43a9-af2e-80305ce18260",
   "metadata": {
    "tags": [
     "docstring"
    ]
   },
   "source": [
    "# Project Operations"
   ]
  },
  {
   "cell_type": "code",
   "execution_count": 1,
   "id": "9c3d6b04-e878-4dcf-9e76-2416ff0865a8",
   "metadata": {
    "execution": {
     "iopub.execute_input": "2021-05-18T15:07:19.308981Z",
     "iopub.status.busy": "2021-05-18T15:07:19.308349Z",
     "iopub.status.idle": "2021-05-18T15:07:19.443055Z",
     "shell.execute_reply": "2021-05-18T15:07:19.441916Z"
    }
   },
   "outputs": [],
   "source": [
    "%load_ext literary.notebook"
   ]
  },
  {
   "cell_type": "code",
   "execution_count": 2,
   "id": "9a6ff8c2-ec3f-4319-83ef-d3ad125f05da",
   "metadata": {
    "execution": {
     "iopub.execute_input": "2021-05-18T15:07:19.449014Z",
     "iopub.status.busy": "2021-05-18T15:07:19.447821Z",
     "iopub.status.idle": "2021-05-18T15:07:19.588300Z",
     "shell.execute_reply": "2021-05-18T15:07:19.589248Z"
    },
    "tags": [
     "export"
    ]
   },
   "outputs": [],
   "source": [
    "from pathlib import Path\n",
    "\n",
    "from traitlets import List, Unicode, default, observe, validate\n",
    "from traitlets.config import Config, LoggingConfigurable\n",
    "\n",
    "from .config import find_project_config\n",
    "from .trait import Path as PathTrait"
   ]
  },
  {
   "cell_type": "code",
   "execution_count": 3,
   "id": "e2742f95-d485-4094-8582-b30691215db3",
   "metadata": {
    "execution": {
     "iopub.execute_input": "2021-05-18T15:07:19.598504Z",
     "iopub.status.busy": "2021-05-18T15:07:19.597307Z",
     "iopub.status.idle": "2021-05-18T15:07:19.599907Z",
     "shell.execute_reply": "2021-05-18T15:07:19.600525Z"
    },
    "tags": [
     "export"
    ]
   },
   "outputs": [],
   "source": [
    "class ProjectOperator(LoggingConfigurable):\n",
    "    project_dir = PathTrait(help=\"Path to Literary project top-level directory\").tag(\n",
    "        config=True\n",
    "    )\n",
    "\n",
    "    packages_dir = Unicode(\n",
    "        \"src\", help=\"Path to Literary packages top-level directory\"\n",
    "    ).tag(config=True)\n",
    "\n",
    "    @validate(\"project_dir\")\n",
    "    def _validate_project_dir(self, proposal):\n",
    "        path = Path(proposal.value)\n",
    "        if not path.exists():\n",
    "            raise ValueError()\n",
    "        return path\n",
    "\n",
    "    @classmethod\n",
    "    def config_for_project_dir(cls, project_dir: str) -> Config:\n",
    "        \"\"\"Return the Config object that configures this Configurable for\n",
    "        the given project directory.\n",
    "\n",
    "        :param project_dir: directory to project\n",
    "        \"\"\"\n",
    "        return Config({cls.__name__: {\"project_dir\": project_dir}})\n",
    "\n",
    "    @property\n",
    "    def packages_path(self) -> Path:\n",
    "        return self.resolve_path(self.packages_dir)\n",
    "\n",
    "    def resolve_path(self, path):\n",
    "        return self.project_dir / path"
   ]
  }
 ],
 "metadata": {
  "kernelspec": {
   "display_name": "Python 3",
   "language": "python",
   "name": "python3"
  },
  "language_info": {
   "codemirror_mode": {
    "name": "ipython",
    "version": 3
   },
   "file_extension": ".py",
   "mimetype": "text/x-python",
   "name": "python",
   "nbconvert_exporter": "python",
   "pygments_lexer": "ipython3",
   "version": "3.9.0"
  }
 },
 "nbformat": 4,
 "nbformat_minor": 5
}

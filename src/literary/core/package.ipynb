{
 "cells": [
  {
   "cell_type": "markdown",
   "id": "empirical-prague",
   "metadata": {
    "tags": [
     "docstring"
    ]
   },
   "source": [
    "# Package Generation"
   ]
  },
  {
   "cell_type": "code",
   "execution_count": 3,
   "id": "blessed-rehabilitation",
   "metadata": {},
   "outputs": [],
   "source": [
    "%load_ext literary.notebook"
   ]
  },
  {
   "cell_type": "code",
   "execution_count": null,
   "id": "differential-carolina",
   "metadata": {
    "lines_to_next_cell": 2,
    "tags": [
     "export"
    ]
   },
   "outputs": [],
   "source": [
    "import pathlib\n",
    "import shutil\n",
    "\n",
    "import nbformat\n",
    "import traitlets.config\n",
    "\n",
    "from . import exporter"
   ]
  },
  {
   "cell_type": "code",
   "execution_count": null,
   "id": "integrated-continent",
   "metadata": {
    "tags": [
     "export"
    ]
   },
   "outputs": [],
   "source": [
    "DEFAULT_IGNORE_PATTERNS = (\".ipynb_checkpoints\", \"__pycache__\", \".*\")"
   ]
  },
  {
   "cell_type": "code",
   "execution_count": null,
   "id": "after-columbus",
   "metadata": {
    "tags": [
     "export"
    ]
   },
   "outputs": [],
   "source": [
    "def create_notebook_code(nb_exporter, path: pathlib.Path) -> str:\n",
    "    \"\"\"Return the source code for a given notebook file\n",
    "\n",
    "    :param nb_exporter: nbconvert exporter instance\n",
    "    :param path: path to notebook\n",
    "    :return:\n",
    "    \"\"\"\n",
    "    nb = nbformat.read(path, as_version=nbformat.NO_CONVERT)\n",
    "    body, resources = nb_exporter.from_notebook_node(nb)\n",
    "    return body"
   ]
  },
  {
   "cell_type": "code",
   "execution_count": null,
   "id": "medium-lebanon",
   "metadata": {
    "tags": [
     "export"
    ]
   },
   "outputs": [],
   "source": [
    "def build_package_component(\n",
    "    nb_exporter,\n",
    "    source_dir_path,\n",
    "    dest_dir_path,\n",
    "    ignore_patterns=None,\n",
    "):\n",
    "    \"\"\"Recursively build a pure-Python package from a source tree\n",
    "\n",
    "    :param nb_exporter: nbconvert exporter instance\n",
    "    :param source_dir_path: path to current source directory\n",
    "    :param dest_dir_path: path to current destination directory\n",
    "    :param ignore_patterns: glob patterns of files and directories to ignore during\n",
    "    recursion\n",
    "    :return:\n",
    "    \"\"\"\n",
    "    if ignore_patterns is None:\n",
    "        ignore_patterns = DEFAULT_IGNORE_PATTERNS\n",
    "\n",
    "    for path in source_dir_path.iterdir():\n",
    "        # Ignore any unwanted files or directories\n",
    "        if any(path.match(p) for p in ignore_patterns):\n",
    "            continue\n",
    "\n",
    "        relative_path = path.relative_to(source_dir_path)\n",
    "\n",
    "        # Rewrite notebook in target directory\n",
    "        if path.match(\"*.ipynb\"):\n",
    "            dest_path = dest_dir_path / relative_path.with_suffix(\".py\")\n",
    "\n",
    "            source = create_notebook_code(nb_exporter, path)\n",
    "            dest_path.write_text(source)\n",
    "\n",
    "        # Recurse into directory\n",
    "        elif path.is_dir():\n",
    "            dest_path = dest_dir_path / relative_path\n",
    "            dest_path.mkdir(parents=True, exist_ok=True)\n",
    "            build_package_component(nb_exporter, path, dest_path)\n",
    "\n",
    "        # Copy file directly\n",
    "        else:\n",
    "            dest_path = dest_dir_path / relative_path\n",
    "            dest_path.write_bytes(\n",
    "                path.read_bytes(),\n",
    "            )"
   ]
  },
  {
   "cell_type": "code",
   "execution_count": null,
   "id": "rising-pipeline",
   "metadata": {
    "tags": [
     "export"
    ]
   },
   "outputs": [],
   "source": [
    "def build_package(\n",
    "    source_path: pathlib.Path,\n",
    "    dest_path: pathlib.Path,\n",
    "    ignore_patterns=None,\n",
    "):\n",
    "    \"\"\"Build a pure-Python package from a literary source tree\n",
    "\n",
    "    :param source_path: path to notebooks directory\n",
    "    :param dest_path: path to generated package\n",
    "    :param ignore_patterns: glob patterns of files and directories to ignore during\n",
    "    recursion\n",
    "    :return:\n",
    "    \"\"\"\n",
    "    c = traitlets.config.Config()\n",
    "    nb_exporter = exporter.LiteraryPythonExporter(config=c)\n",
    "\n",
    "    if dest_path.exists():\n",
    "        shutil.rmtree(dest_path)\n",
    "    dest_path.mkdir(parents=True)\n",
    "\n",
    "    build_package_component(nb_exporter, source_path, dest_path, ignore_patterns)"
   ]
  }
 ],
 "metadata": {
  "jupytext": {
   "cell_metadata_filter": "-all",
   "main_language": "python",
   "notebook_metadata_filter": "-all"
  },
  "kernelspec": {
   "display_name": "Python 3",
   "language": "python",
   "name": "python3"
  },
  "language_info": {
   "codemirror_mode": {
    "name": "ipython",
    "version": 3
   },
   "file_extension": ".py",
   "mimetype": "text/x-python",
   "name": "python",
   "nbconvert_exporter": "python",
   "pygments_lexer": "ipython3",
   "version": "3.9.0"
  }
 },
 "nbformat": 4,
 "nbformat_minor": 5
}

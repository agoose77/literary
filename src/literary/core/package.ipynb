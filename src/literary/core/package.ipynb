{
 "cells": [
  {
   "cell_type": "markdown",
   "id": "empirical-prague",
   "metadata": {
    "tags": [
     "docstring"
    ]
   },
   "source": [
    "# Package Generation"
   ]
  },
  {
   "cell_type": "code",
   "execution_count": 1,
   "id": "blessed-rehabilitation",
   "metadata": {
    "tags": []
   },
   "outputs": [],
   "source": [
    "%load_ext literary.notebook"
   ]
  },
  {
   "cell_type": "code",
   "execution_count": 2,
   "id": "differential-carolina",
   "metadata": {
    "lines_to_next_cell": 2,
    "tags": [
     "export"
    ]
   },
   "outputs": [],
   "source": [
    "from pathlib import Path\n",
    "from shutil import which\n",
    "from typing import Iterable\n",
    "\n",
    "import nbformat\n",
    "from traitlets.config import Config\n",
    "\n",
    "from .exporter import LiteraryPythonExporter"
   ]
  },
  {
   "cell_type": "code",
   "execution_count": 3,
   "id": "integrated-continent",
   "metadata": {
    "tags": [
     "export"
    ]
   },
   "outputs": [],
   "source": [
    "DEFAULT_IGNORE_PATTERNS = (\".ipynb_checkpoints\", \"__pycache__\", \".*\")"
   ]
  },
  {
   "cell_type": "code",
   "execution_count": 4,
   "id": "after-columbus",
   "metadata": {
    "tags": [
     "export"
    ]
   },
   "outputs": [],
   "source": [
    "def create_notebook_code(exporter, path: Path) -> str:\n",
    "    \"\"\"Return the source code for a given notebook file\n",
    "\n",
    "    :param nb_exporter: nbconvert exporter instance\n",
    "    :param path: path to notebook\n",
    "    :return:\n",
    "    \"\"\"\n",
    "    nb = nbformat.read(path, as_version=nbformat.NO_CONVERT)\n",
    "    body, resources = exporter.from_notebook_node(nb)\n",
    "    return body"
   ]
  },
  {
   "cell_type": "code",
   "execution_count": 5,
   "id": "medium-lebanon",
   "metadata": {
    "tags": [
     "export"
    ]
   },
   "outputs": [],
   "source": [
    "def _build_package_component(\n",
    "    exporter,\n",
    "    source_dir_path: Path,\n",
    "    dest_dir_path: Path,\n",
    "    ignore_patterns: Iterable[str] = None,\n",
    "):\n",
    "    \"\"\"Recursively build a pure-Python package from a source tree\n",
    "\n",
    "    :param nb_exporter: nbconvert exporter instance\n",
    "    :param source_dir_path: path to current source directory\n",
    "    :param dest_dir_path: path to current destination directory\n",
    "    :param ignore_patterns: glob patterns of files and directories to ignore during\n",
    "    recursion\n",
    "    :return:\n",
    "    \"\"\"\n",
    "    if ignore_patterns is None:\n",
    "        ignore_patterns = DEFAULT_IGNORE_PATTERNS\n",
    "\n",
    "    for path in source_dir_path.iterdir():\n",
    "        # Ignore any unwanted files or directories\n",
    "        if any(path.match(p) for p in ignore_patterns):\n",
    "            continue\n",
    "\n",
    "        # Find equivalent path in generated package\n",
    "        relative_path = path.relative_to(source_dir_path)\n",
    "        mirror_path = dest_dir_path / relative_path\n",
    "\n",
    "        # Rewrite notebook in target directory\n",
    "        if path.match(\"*.ipynb\"):\n",
    "            source = create_notebook_code(exporter, path)\n",
    "            mirror_path.with_suffix(\".py\").write_text(source)\n",
    "\n",
    "        # Recurse into directory\n",
    "        elif path.is_dir():\n",
    "            mirror_path.mkdir(parents=True, exist_ok=True)\n",
    "            build_package_component(nb_exporter, path, mirror_path)\n",
    "\n",
    "        # Copy file directly\n",
    "        else:\n",
    "            mirror_path.write_bytes(\n",
    "                path.read_bytes(),\n",
    "            )"
   ]
  },
  {
   "cell_type": "code",
   "execution_count": 6,
   "id": "rising-pipeline",
   "metadata": {
    "tags": [
     "export"
    ]
   },
   "outputs": [],
   "source": [
    "def build_packages(\n",
    "    source_path: Path,\n",
    "    dest_path: Path,\n",
    "    ignore_patterns: Iterable[str] = None,\n",
    "):\n",
    "    \"\"\"Build a pure-Python package from a literary source tree\n",
    "\n",
    "    :param source_path: path to directory containing notebook package directories\n",
    "    :param dest_path: path to directory containing generated packages\n",
    "    :param ignore_patterns: glob patterns of files and directories to ignore during\n",
    "    recursion\n",
    "    :return:\n",
    "    \"\"\"\n",
    "    exporter = LiteraryPythonExporter(config=Config())\n",
    "\n",
    "    if not source_path.exists():\n",
    "        raise FileNotFoundError(f\"Source path {source_path!r} does not exist\")\n",
    "    if not dest_path.exists():\n",
    "        raise FileNotFoundError(f\"Destination path {dest_path!r} does not exist\")\n",
    "\n",
    "    # Empty destination contents\n",
    "    for p in dest_path.iterdir():\n",
    "        shutil.rmtree(p)\n",
    "\n",
    "    _build_package_component(exporter, source_path, dest_path, ignore_patterns)"
   ]
  }
 ],
 "metadata": {
  "jupytext": {
   "cell_metadata_filter": "-all",
   "main_language": "python",
   "notebook_metadata_filter": "-all"
  },
  "kernelspec": {
   "display_name": "Python 3",
   "language": "python",
   "name": "python3"
  },
  "language_info": {
   "codemirror_mode": {
    "name": "ipython",
    "version": 3
   },
   "file_extension": ".py",
   "mimetype": "text/x-python",
   "name": "python",
   "nbconvert_exporter": "python",
   "pygments_lexer": "ipython3",
   "version": "3.9.0"
  }
 },
 "nbformat": 4,
 "nbformat_minor": 5
}

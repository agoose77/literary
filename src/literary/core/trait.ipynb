{
 "cells": [
  {
   "cell_type": "markdown",
   "id": "b0d942dd-f9f4-4bdc-a942-999365d472e4",
   "metadata": {},
   "source": [
    "# Traits"
   ]
  },
  {
   "cell_type": "code",
   "execution_count": 1,
   "id": "a8dccafa-b3d7-44d0-819a-62424c3080d8",
   "metadata": {
    "execution": {
     "iopub.execute_input": "2021-05-18T15:07:22.333599Z",
     "iopub.status.busy": "2021-05-18T15:07:22.332747Z",
     "iopub.status.idle": "2021-05-18T15:07:22.468843Z",
     "shell.execute_reply": "2021-05-18T15:07:22.469410Z"
    }
   },
   "outputs": [],
   "source": [
    "%load_ext literary.notebook"
   ]
  },
  {
   "cell_type": "code",
   "execution_count": 2,
   "id": "8f876794-8f60-4f95-b653-cb4cccaed292",
   "metadata": {
    "execution": {
     "iopub.execute_input": "2021-05-18T15:07:22.473528Z",
     "iopub.status.busy": "2021-05-18T15:07:22.472848Z",
     "iopub.status.idle": "2021-05-18T15:07:22.475504Z",
     "shell.execute_reply": "2021-05-18T15:07:22.476024Z"
    },
    "tags": [
     "export"
    ]
   },
   "outputs": [],
   "source": [
    "import traitlets\n",
    "import pathlib"
   ]
  },
  {
   "cell_type": "code",
   "execution_count": 3,
   "id": "0a98271c-60e6-45ab-a136-06301a9b2244",
   "metadata": {
    "execution": {
     "iopub.execute_input": "2021-05-18T15:07:22.481262Z",
     "iopub.status.busy": "2021-05-18T15:07:22.480658Z",
     "iopub.status.idle": "2021-05-18T15:07:22.483713Z",
     "shell.execute_reply": "2021-05-18T15:07:22.483169Z"
    },
    "tags": [
     "export"
    ]
   },
   "outputs": [],
   "source": [
    "class Path(traitlets.TraitType):\n",
    "    \"\"\"A pathlib.Path trait class\"\"\"\n",
    "    def validate(self, obj, value):\n",
    "        try:\n",
    "            return pathlib.Path(value)\n",
    "        except TypeError:\n",
    "            self.error(obj, value)"
   ]
  }
 ],
 "metadata": {
  "kernelspec": {
   "display_name": "Python 3",
   "language": "python",
   "name": "python3"
  },
  "language_info": {
   "codemirror_mode": {
    "name": "ipython",
    "version": 3
   },
   "file_extension": ".py",
   "mimetype": "text/x-python",
   "name": "python",
   "nbconvert_exporter": "python",
   "pygments_lexer": "ipython3",
   "version": "3.9.0"
  }
 },
 "nbformat": 4,
 "nbformat_minor": 5
}

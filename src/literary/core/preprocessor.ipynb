{
 "cells": [
  {
   "cell_type": "markdown",
   "id": "center-accounting",
   "metadata": {},
   "source": [
    "# Preprocessor"
   ]
  },
  {
   "cell_type": "code",
   "execution_count": 1,
   "id": "quantitative-adolescent",
   "metadata": {
    "execution": {
     "iopub.execute_input": "2021-05-17T16:24:04.896541Z",
     "iopub.status.busy": "2021-05-17T16:24:04.895927Z",
     "iopub.status.idle": "2021-05-17T16:24:05.034961Z",
     "shell.execute_reply": "2021-05-17T16:24:05.033827Z"
    }
   },
   "outputs": [],
   "source": [
    "%load_ext literary.notebook"
   ]
  },
  {
   "cell_type": "code",
   "execution_count": 2,
   "id": "settled-making",
   "metadata": {
    "execution": {
     "iopub.execute_input": "2021-05-17T16:24:05.042803Z",
     "iopub.status.busy": "2021-05-17T16:24:05.039348Z",
     "iopub.status.idle": "2021-05-17T16:24:05.043923Z",
     "shell.execute_reply": "2021-05-17T16:24:05.043395Z"
    },
    "tags": [
     "export"
    ]
   },
   "outputs": [],
   "source": [
    "import traitlets\n",
    "from nbconvert import preprocessors"
   ]
  },
  {
   "cell_type": "code",
   "execution_count": 3,
   "id": "alike-bulgaria",
   "metadata": {
    "execution": {
     "iopub.execute_input": "2021-05-17T16:24:05.057070Z",
     "iopub.status.busy": "2021-05-17T16:24:05.055869Z",
     "iopub.status.idle": "2021-05-17T16:24:05.059501Z",
     "shell.execute_reply": "2021-05-17T16:24:05.058293Z"
    },
    "tags": [
     "export"
    ]
   },
   "outputs": [],
   "source": [
    "class LiteraryTagAllowListPreprocessor(preprocessors.Preprocessor):\n",
    "    allow_cell_tags = traitlets.Set(\n",
    "        traitlets.Unicode(), default_value={\"export\", \"docstring\"}\n",
    "    )\n",
    "\n",
    "    def check_cell_conditions(self, cell, resources: dict, index: int) -> bool:\n",
    "        tags = cell.metadata.get(\"tags\", [])\n",
    "        return bool(self.allow_cell_tags.intersection(tags))\n",
    "\n",
    "    def preprocess(self, nb, resources: dict):\n",
    "        nb.cells = [\n",
    "            self.preprocess_cell(cell, resources, i)[0]\n",
    "            for i, cell in enumerate(nb.cells)\n",
    "            if self.check_cell_conditions(cell, resources, i)\n",
    "        ]\n",
    "        return nb, resources\n",
    "\n",
    "    def preprocess_cell(self, cell, resources: dict, index: int):\n",
    "        return cell, resources"
   ]
  }
 ],
 "metadata": {
  "jupytext": {
   "cell_metadata_filter": "-all",
   "main_language": "python",
   "notebook_metadata_filter": "-all"
  },
  "kernelspec": {
   "display_name": "Python 3",
   "language": "python",
   "name": "python3"
  },
  "language_info": {
   "codemirror_mode": {
    "name": "ipython",
    "version": 3
   },
   "file_extension": ".py",
   "mimetype": "text/x-python",
   "name": "python",
   "nbconvert_exporter": "python",
   "pygments_lexer": "ipython3",
   "version": "3.9.0"
  }
 },
 "nbformat": 4,
 "nbformat_minor": 5
}

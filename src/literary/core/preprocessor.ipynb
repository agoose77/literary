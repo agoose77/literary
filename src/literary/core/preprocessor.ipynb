{
 "cells": [
  {
   "cell_type": "markdown",
   "id": "center-accounting",
   "metadata": {},
   "source": [
    "# Preprocessor"
   ]
  },
  {
   "cell_type": "code",
   "execution_count": 1,
   "id": "quantitative-adolescent",
   "metadata": {
    "tags": []
   },
   "outputs": [],
   "source": [
    "%load_ext literary.notebook"
   ]
  },
  {
   "cell_type": "code",
   "execution_count": 2,
   "id": "settled-making",
   "metadata": {
    "tags": [
     "export"
    ]
   },
   "outputs": [],
   "source": [
    "from nbconvert.preprocessors import Preprocessor\n",
    "from traitlets import Set, Unicode"
   ]
  },
  {
   "cell_type": "code",
   "execution_count": 3,
   "id": "alike-bulgaria",
   "metadata": {
    "tags": [
     "export"
    ]
   },
   "outputs": [],
   "source": [
    "class LiteraryTagAllowListPreprocessor(Preprocessor):\n",
    "    allow_cell_tags = Set(Unicode(), default_value={\"export\", \"docstring\"})\n",
    "\n",
    "    def check_cell_conditions(self, cell, resources: dict, index: int) -> bool:\n",
    "        tags = cell.metadata.get(\"tags\", [])\n",
    "        return bool(self.allow_cell_tags.intersection(tags))\n",
    "\n",
    "    def preprocess(self, nb, resources: dict):\n",
    "        nb.cells = [\n",
    "            self.preprocess_cell(cell, resources, i)[0]\n",
    "            for i, cell in enumerate(nb.cells)\n",
    "            if self.check_cell_conditions(cell, resources, i)\n",
    "        ]\n",
    "        return nb, resources\n",
    "\n",
    "    def preprocess_cell(self, cell, resources: dict, index: int):\n",
    "        return cell, resources"
   ]
  }
 ],
 "metadata": {
  "jupytext": {
   "cell_metadata_filter": "-all",
   "main_language": "python",
   "notebook_metadata_filter": "-all"
  },
  "kernelspec": {
   "display_name": "Python 3",
   "language": "python",
   "name": "python3"
  },
  "language_info": {
   "codemirror_mode": {
    "name": "ipython",
    "version": 3
   },
   "file_extension": ".py",
   "mimetype": "text/x-python",
   "name": "python",
   "nbconvert_exporter": "python",
   "pygments_lexer": "ipython3",
   "version": "3.9.0"
  }
 },
 "nbformat": 4,
 "nbformat_minor": 5
}

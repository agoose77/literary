{
 "cells": [
  {
   "cell_type": "markdown",
   "id": "center-accounting",
   "metadata": {},
   "source": [
    "# Preprocessor\n",
    "This module contains the additional nbconvert preprocessors that are required by Literary."
   ]
  },
  {
   "cell_type": "code",
   "execution_count": 1,
   "id": "quantitative-adolescent",
   "metadata": {
    "execution": {
     "iopub.execute_input": "2021-05-18T15:07:17.026261Z",
     "iopub.status.busy": "2021-05-18T15:07:17.025053Z",
     "iopub.status.idle": "2021-05-18T15:07:17.164688Z",
     "shell.execute_reply": "2021-05-18T15:07:17.165294Z"
    },
    "tags": []
   },
   "outputs": [],
   "source": [
    "%load_ext literary.notebook"
   ]
  },
  {
   "cell_type": "code",
   "execution_count": 2,
   "id": "settled-making",
   "metadata": {
    "execution": {
     "iopub.execute_input": "2021-05-18T15:07:17.171559Z",
     "iopub.status.busy": "2021-05-18T15:07:17.170963Z",
     "iopub.status.idle": "2021-05-18T15:07:17.174265Z",
     "shell.execute_reply": "2021-05-18T15:07:17.174769Z"
    },
    "tags": [
     "export"
    ]
   },
   "outputs": [],
   "source": [
    "from nbconvert.preprocessors import Preprocessor\n",
    "from traitlets import Set, Unicode"
   ]
  },
  {
   "cell_type": "markdown",
   "id": "75756305-8142-4321-833d-8ec21e7b6248",
   "metadata": {},
   "source": [
    "The Literary exporter uses an \"allow-list\" model to determine which cells can be exported. By default, no cells are exported to the final script."
   ]
  },
  {
   "cell_type": "code",
   "execution_count": 3,
   "id": "a65fe4e0-383c-48f2-8946-f1cc48a3306e",
   "metadata": {
    "execution": {
     "iopub.execute_input": "2021-05-18T15:07:17.184389Z",
     "iopub.status.busy": "2021-05-18T15:07:17.183028Z",
     "iopub.status.idle": "2021-05-18T15:07:17.186413Z",
     "shell.execute_reply": "2021-05-18T15:07:17.187493Z"
    },
    "tags": [
     "export"
    ]
   },
   "outputs": [],
   "source": [
    "class TagAllowListPreprocessor(Preprocessor):\n",
    "    allow_cell_tags = Set(Unicode(), default_value={\"export\", \"docstring\"})"
   ]
  },
  {
   "cell_type": "markdown",
   "id": "51094f53-067b-4a02-ad4c-816491e92a9c",
   "metadata": {},
   "source": [
    "Let's implement a conditional function that determines whether a cell is a member of the allowlist. We just check whether it has any of the `allow_cell_tags` tags."
   ]
  },
  {
   "cell_type": "code",
   "execution_count": 3,
   "id": "21cdf0c2-1339-4830-b94c-5792ec162d2e",
   "metadata": {
    "execution": {
     "iopub.execute_input": "2021-05-18T15:07:17.184389Z",
     "iopub.status.busy": "2021-05-18T15:07:17.183028Z",
     "iopub.status.idle": "2021-05-18T15:07:17.186413Z",
     "shell.execute_reply": "2021-05-18T15:07:17.187493Z"
    },
    "tags": [
     "export"
    ]
   },
   "outputs": [],
   "source": [
    "@patch(TagAllowListPreprocessor)\n",
    "def check_cell_conditions(self, cell, resources: dict, index: int) -> bool:\n",
    "    tags = cell.metadata.get(\"tags\", [])\n",
    "    return bool(self.allow_cell_tags.intersection(tags))"
   ]
  },
  {
   "cell_type": "markdown",
   "id": "67e58d40-eab2-42a9-8c03-4f66e1e98d0a",
   "metadata": {},
   "source": [
    "The `preprocess` function modifies the original notebook to eliminate any cells which do not meet the above condition"
   ]
  },
  {
   "cell_type": "code",
   "execution_count": 3,
   "id": "ccafe0b5-e3fb-4509-b190-2918cbfc4f7f",
   "metadata": {
    "execution": {
     "iopub.execute_input": "2021-05-18T15:07:17.184389Z",
     "iopub.status.busy": "2021-05-18T15:07:17.183028Z",
     "iopub.status.idle": "2021-05-18T15:07:17.186413Z",
     "shell.execute_reply": "2021-05-18T15:07:17.187493Z"
    },
    "tags": [
     "export"
    ]
   },
   "outputs": [],
   "source": [
    "@patch(TagAllowListPreprocessor)\n",
    "def preprocess(self, nb, resources: dict):\n",
    "    nb.cells = [\n",
    "        self.preprocess_cell(cell, resources, i)[0]\n",
    "        for i, cell in enumerate(nb.cells)\n",
    "        if self.check_cell_conditions(cell, resources, i)\n",
    "    ]\n",
    "    return nb, resources"
   ]
  },
  {
   "cell_type": "markdown",
   "id": "55505092-2a34-41cf-b250-bad519b63204",
   "metadata": {},
   "source": [
    "For completeness, we define a preprocessor function that subclasses *could* override if they saw fit."
   ]
  },
  {
   "cell_type": "code",
   "execution_count": 3,
   "id": "af54c2f2-ff58-42c3-9a90-8a81bbe5e64f",
   "metadata": {
    "execution": {
     "iopub.execute_input": "2021-05-18T15:07:17.184389Z",
     "iopub.status.busy": "2021-05-18T15:07:17.183028Z",
     "iopub.status.idle": "2021-05-18T15:07:17.186413Z",
     "shell.execute_reply": "2021-05-18T15:07:17.187493Z"
    },
    "tags": [
     "export"
    ]
   },
   "outputs": [],
   "source": [
    "@patch(TagAllowListPreprocessor)\n",
    "def preprocess_cell(self, cell, resources: dict, index: int):\n",
    "    return cell, resources"
   ]
  }
 ],
 "metadata": {
  "jupytext": {
   "cell_metadata_filter": "-all",
   "main_language": "python",
   "notebook_metadata_filter": "-all"
  },
  "kernelspec": {
   "display_name": "Python 3",
   "language": "python",
   "name": "python3"
  },
  "language_info": {
   "codemirror_mode": {
    "name": "ipython",
    "version": 3
   },
   "file_extension": ".py",
   "mimetype": "text/x-python",
   "name": "python",
   "nbconvert_exporter": "python",
   "pygments_lexer": "ipython3",
   "version": "3.9.0"
  }
 },
 "nbformat": 4,
 "nbformat_minor": 5
}

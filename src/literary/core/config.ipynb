{
 "cells": [
  {
   "cell_type": "markdown",
   "id": "alive-census",
   "metadata": {},
   "source": [
    "# Configuration"
   ]
  },
  {
   "cell_type": "code",
   "execution_count": 1,
   "id": "acoustic-prompt",
   "metadata": {
    "execution": {
     "iopub.execute_input": "2021-05-17T16:23:58.689469Z",
     "iopub.status.busy": "2021-05-17T16:23:58.688841Z",
     "iopub.status.idle": "2021-05-17T16:23:58.827593Z",
     "shell.execute_reply": "2021-05-17T16:23:58.826209Z"
    }
   },
   "outputs": [],
   "source": [
    "%load_ext literary.notebook"
   ]
  },
  {
   "cell_type": "code",
   "execution_count": 2,
   "id": "front-notion",
   "metadata": {
    "execution": {
     "iopub.execute_input": "2021-05-17T16:23:58.833233Z",
     "iopub.status.busy": "2021-05-17T16:23:58.832014Z",
     "iopub.status.idle": "2021-05-17T16:23:58.834522Z",
     "shell.execute_reply": "2021-05-17T16:23:58.835564Z"
    },
    "tags": [
     "export"
    ]
   },
   "outputs": [],
   "source": [
    "import functools\n",
    "import pathlib\n",
    "\n",
    "import traitlets.config\n",
    "from jupyter_core.paths import jupyter_config_path"
   ]
  },
  {
   "cell_type": "code",
   "execution_count": 3,
   "id": "naked-doctor",
   "metadata": {
    "execution": {
     "iopub.execute_input": "2021-05-17T16:23:58.842555Z",
     "iopub.status.busy": "2021-05-17T16:23:58.841948Z",
     "iopub.status.idle": "2021-05-17T16:23:58.845330Z",
     "shell.execute_reply": "2021-05-17T16:23:58.844695Z"
    },
    "tags": [
     "export"
    ]
   },
   "outputs": [],
   "source": [
    "CONFIG_FILE_NAME = \"literary_config\"\n",
    "PROJECT_ROOT_MARKERS = (\n",
    "    \"pyproject.toml\",\n",
    "    \"setup.py\",\n",
    "    \"setup.cfg\",\n",
    "    \".literary-project\",\n",
    "    f\"{CONFIG_FILE_NAME}.json\",\n",
    "    f\"{CONFIG_FILE_NAME}.py\",\n",
    ")"
   ]
  },
  {
   "cell_type": "code",
   "execution_count": 4,
   "id": "caring-married",
   "metadata": {
    "execution": {
     "iopub.execute_input": "2021-05-17T16:23:58.852237Z",
     "iopub.status.busy": "2021-05-17T16:23:58.851610Z",
     "iopub.status.idle": "2021-05-17T16:23:58.854778Z",
     "shell.execute_reply": "2021-05-17T16:23:58.854245Z"
    },
    "tags": [
     "export"
    ]
   },
   "outputs": [],
   "source": [
    "def load_config(project_path: pathlib.Path) -> traitlets.config.Config:\n",
    "    \"\"\"Load the literary config file, or return an empty config object if missing\"\"\"\n",
    "    paths = [project_path, *jupyter_config_path()]\n",
    "    loaders = [\n",
    "        traitlets.config.JSONFileConfigLoader(f\"{CONFIG_FILE_NAME}.json\", path=paths),\n",
    "        traitlets.config.PyFileConfigLoader(f\"{CONFIG_FILE_NAME}.py\", path=paths),\n",
    "    ]\n",
    "    config = traitlets.config.Config()\n",
    "    for loader in loaders:\n",
    "        try:\n",
    "            config.update(loader.load_config())\n",
    "        except traitlets.config.ConfigFileNotFound:\n",
    "            pass\n",
    "\n",
    "    return config"
   ]
  },
  {
   "cell_type": "code",
   "execution_count": 5,
   "id": "environmental-cooperation",
   "metadata": {
    "execution": {
     "iopub.execute_input": "2021-05-17T16:23:58.862677Z",
     "iopub.status.busy": "2021-05-17T16:23:58.861355Z",
     "iopub.status.idle": "2021-05-17T16:23:58.863920Z",
     "shell.execute_reply": "2021-05-17T16:23:58.864449Z"
    },
    "tags": [
     "export"
    ]
   },
   "outputs": [],
   "source": [
    "@functools.lru_cache()\n",
    "def find_project_path(*search_paths) -> pathlib.Path:\n",
    "    \"\"\"Find the root path of the literary project.\n",
    "\n",
    "    Searches for known files / directories including\n",
    "    `.git/`, `.hg/`, or `pyproject.toml`.\n",
    "\n",
    "    :param search_paths: starting search paths\n",
    "    :return:\n",
    "    \"\"\"\n",
    "    if not search_paths:\n",
    "        search_paths = [pathlib.Path.cwd()]\n",
    "\n",
    "    visited = set()\n",
    "\n",
    "    for search_path in search_paths:\n",
    "        for path in (search_path, *search_path.parents):\n",
    "            # Avoid re-visiting paths\n",
    "            if path in visited:\n",
    "                break\n",
    "            visited.add(path)\n",
    "\n",
    "            # Look for any Python package marker\n",
    "            for marker in PROJECT_ROOT_MARKERS:\n",
    "                if (path / marker).exists():\n",
    "                    return path\n",
    "\n",
    "    raise FileNotFoundError(\"Couldn't find project path\")"
   ]
  }
 ],
 "metadata": {
  "jupytext": {
   "cell_metadata_filter": "-all",
   "main_language": "python",
   "notebook_metadata_filter": "-all"
  },
  "kernelspec": {
   "display_name": "Python 3",
   "language": "python",
   "name": "python3"
  },
  "language_info": {
   "codemirror_mode": {
    "name": "ipython",
    "version": 3
   },
   "file_extension": ".py",
   "mimetype": "text/x-python",
   "name": "python",
   "nbconvert_exporter": "python",
   "pygments_lexer": "ipython3",
   "version": "3.9.0"
  }
 },
 "nbformat": 4,
 "nbformat_minor": 5
}

{
 "cells": [
  {
   "cell_type": "markdown",
   "id": "alive-census",
   "metadata": {},
   "source": [
    "# Configuration"
   ]
  },
  {
   "cell_type": "code",
   "execution_count": 1,
   "id": "acoustic-prompt",
   "metadata": {
    "tags": []
   },
   "outputs": [],
   "source": [
    "%load_ext literary.notebook"
   ]
  },
  {
   "cell_type": "code",
   "execution_count": 2,
   "id": "front-notion",
   "metadata": {
    "tags": [
     "export"
    ]
   },
   "outputs": [],
   "source": [
    "from functools import lru_cache\n",
    "from pathlib import Path"
   ]
  },
  {
   "cell_type": "code",
   "execution_count": 3,
   "id": "25685f40-f579-4c8b-b7b0-1fd2d26d7c46",
   "metadata": {
    "tags": [
     "export"
    ]
   },
   "outputs": [],
   "source": [
    "CONFIG_FILE_STEM = \"literary_config\"\n",
    "CONFIG_FILE_NAMES = (\n",
    "    f\"{CONFIG_FILE_STEM}.json\",\n",
    "    f\"{CONFIG_FILE_STEM}.py\",\n",
    ")"
   ]
  },
  {
   "cell_type": "code",
   "execution_count": 4,
   "id": "environmental-cooperation",
   "metadata": {
    "tags": [
     "export"
    ]
   },
   "outputs": [],
   "source": [
    "@lru_cache()\n",
    "def find_config_path(*search_paths) -> Path:\n",
    "    \"\"\"Find the filepath of the Literary project configuration.\n",
    "\n",
    "    :param search_paths: starting search paths\n",
    "    :return:\n",
    "    \"\"\"\n",
    "    visited = set()\n",
    "\n",
    "    for search_path in search_paths:\n",
    "        for path in (search_path, *search_path.parents):\n",
    "            # Avoid re-visiting paths\n",
    "            if path in visited:\n",
    "                break\n",
    "            visited.add(path)\n",
    "\n",
    "            # Look for any config file\n",
    "            for name in CONFIG_FILE_NAMES:\n",
    "                if (path / name).exists():\n",
    "                    return path\n",
    "\n",
    "    raise FileNotFoundError(\"Couldn't find config file\")"
   ]
  }
 ],
 "metadata": {
  "jupytext": {
   "cell_metadata_filter": "-all",
   "main_language": "python",
   "notebook_metadata_filter": "-all"
  },
  "kernelspec": {
   "display_name": "Python 3",
   "language": "python",
   "name": "python3"
  },
  "language_info": {
   "codemirror_mode": {
    "name": "ipython",
    "version": 3
   },
   "file_extension": ".py",
   "mimetype": "text/x-python",
   "name": "python",
   "nbconvert_exporter": "python",
   "pygments_lexer": "ipython3",
   "version": "3.9.0"
  }
 },
 "nbformat": 4,
 "nbformat_minor": 5
}

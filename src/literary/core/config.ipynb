{
 "cells": [
  {
   "cell_type": "markdown",
   "id": "alive-census",
   "metadata": {},
   "source": [
    "# Configuration"
   ]
  },
  {
   "cell_type": "code",
   "execution_count": 1,
   "id": "acoustic-prompt",
   "metadata": {
    "execution": {
     "iopub.execute_input": "2021-05-18T21:00:17.307897Z",
     "iopub.status.busy": "2021-05-18T21:00:17.307289Z",
     "iopub.status.idle": "2021-05-18T21:00:17.445693Z",
     "shell.execute_reply": "2021-05-18T21:00:17.444451Z"
    },
    "tags": []
   },
   "outputs": [],
   "source": [
    "%load_ext literary.notebook"
   ]
  },
  {
   "cell_type": "code",
   "execution_count": 2,
   "id": "front-notion",
   "metadata": {
    "execution": {
     "iopub.execute_input": "2021-05-18T21:00:17.452731Z",
     "iopub.status.busy": "2021-05-18T21:00:17.451445Z",
     "iopub.status.idle": "2021-05-18T21:00:17.453593Z",
     "shell.execute_reply": "2021-05-18T21:00:17.454180Z"
    },
    "tags": [
     "export"
    ]
   },
   "outputs": [],
   "source": [
    "import typing as tp\n",
    "from functools import lru_cache\n",
    "from pathlib import Path\n",
    "\n",
    "from traitlets.config import (\n",
    "    Config,\n",
    "    ConfigFileNotFound,\n",
    "    JSONFileConfigLoader,\n",
    "    PyFileConfigLoader,\n",
    ")\n",
    "\n",
    "from .project import ProjectOperator"
   ]
  },
  {
   "cell_type": "markdown",
   "id": "850aa74a-271c-48e7-b685-ff66a6696ca4",
   "metadata": {},
   "source": [
    "The Literary project uses a well-known file to configure the various components. We can implement the configuration in Python or JSON, so we search for any configuration file with the appropriate stem."
   ]
  },
  {
   "cell_type": "code",
   "execution_count": 3,
   "id": "8ed360c7-eef6-4707-804a-744225ecdd79",
   "metadata": {
    "execution": {
     "iopub.execute_input": "2021-05-18T21:00:17.458372Z",
     "iopub.status.busy": "2021-05-18T21:00:17.457764Z",
     "iopub.status.idle": "2021-05-18T21:00:17.460072Z",
     "shell.execute_reply": "2021-05-18T21:00:17.460572Z"
    },
    "tags": [
     "export"
    ]
   },
   "outputs": [],
   "source": [
    "CONFIG_FILE_STEM = \"literary_config\""
   ]
  },
  {
   "cell_type": "markdown",
   "id": "d92cece7-9d15-4986-9293-c4b806a99771",
   "metadata": {},
   "source": [
    "To find the config file, we simply perform a depth-first search of each given path, and return the first file with the appropriate stem."
   ]
  },
  {
   "cell_type": "code",
   "execution_count": 4,
   "id": "environmental-cooperation",
   "metadata": {
    "execution": {
     "iopub.execute_input": "2021-05-18T21:00:17.470059Z",
     "iopub.status.busy": "2021-05-18T21:00:17.469464Z",
     "iopub.status.idle": "2021-05-18T21:00:17.472978Z",
     "shell.execute_reply": "2021-05-18T21:00:17.473988Z"
    },
    "tags": [
     "export"
    ]
   },
   "outputs": [],
   "source": [
    "@lru_cache()\n",
    "def find_project_config(path, *additional_paths) -> Path:\n",
    "    \"\"\"Load the configuration for the current Literary project.\n",
    "\n",
    "    :param search_paths: starting search paths\n",
    "    :return:\n",
    "    \"\"\"\n",
    "    visited = set()\n",
    "\n",
    "    for top_level_path in [path, *additional_paths]:\n",
    "        for search_path in (top_level_path, *top_level_path.parents):\n",
    "            # Avoid re-visiting paths\n",
    "            if search_path in visited:\n",
    "                break\n",
    "            visited.add(search_path)\n",
    "\n",
    "            # Look for any config file\n",
    "            for p in search_path.glob(f\"{CONFIG_FILE_STEM}.*\"):\n",
    "                return p\n",
    "\n",
    "    raise FileNotFoundError(\"Couldn't find config file\")"
   ]
  },
  {
   "cell_type": "markdown",
   "id": "460626cd-ce9f-494c-8647-15e5950210b3",
   "metadata": {},
   "source": [
    "Upon finding a configuration file, we can attempt to load it with the known loader classes."
   ]
  },
  {
   "cell_type": "code",
   "execution_count": 5,
   "id": "131149c5-b284-4765-b079-abbd2054b350",
   "metadata": {
    "execution": {
     "iopub.execute_input": "2021-05-18T21:00:17.480777Z",
     "iopub.status.busy": "2021-05-18T21:00:17.480061Z",
     "iopub.status.idle": "2021-05-18T21:00:17.481940Z",
     "shell.execute_reply": "2021-05-18T21:00:17.482456Z"
    },
    "tags": [
     "export"
    ]
   },
   "outputs": [],
   "source": [
    "def load_project_config(path: Path) -> Config:\n",
    "    \"\"\"Load a project configuration file\n",
    "\n",
    "    :param path: configuration file path\n",
    "    :return:\n",
    "    \"\"\"\n",
    "    for loader_cls in JSONFileConfigLoader, PyFileConfigLoader:\n",
    "        loader = loader_cls(path.name, str(path.parent))\n",
    "        try:\n",
    "            config = loader.load_config()\n",
    "            break\n",
    "        except ConfigFileNotFound:\n",
    "            continue\n",
    "    else:\n",
    "        raise ValueError(f\"{path!r} was not a recognised config file\")\n",
    "\n",
    "    # Add the path to the current configuration file\n",
    "    config.merge(Config({ProjectOperator.__name__: {\"project_path\": path.parent.absolute()}}))\n",
    "    return config"
   ]
  }
 ],
 "metadata": {
  "jupytext": {
   "cell_metadata_filter": "-all",
   "main_language": "python",
   "notebook_metadata_filter": "-all"
  },
  "kernelspec": {
   "display_name": "Python 3",
   "language": "python",
   "name": "python3"
  },
  "language_info": {
   "codemirror_mode": {
    "name": "ipython",
    "version": 3
   },
   "file_extension": ".py",
   "mimetype": "text/x-python",
   "name": "python",
   "nbconvert_exporter": "python",
   "pygments_lexer": "ipython3",
   "version": "3.9.0"
  }
 },
 "nbformat": 4,
 "nbformat_minor": 5
}

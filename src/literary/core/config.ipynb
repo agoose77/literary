{
 "cells": [
  {
   "cell_type": "markdown",
   "id": "alive-census",
   "metadata": {},
   "source": [
    "# Configuration"
   ]
  },
  {
   "cell_type": "code",
   "execution_count": 6,
   "id": "acoustic-prompt",
   "metadata": {},
   "outputs": [
    {
     "name": "stdout",
     "output_type": "stream",
     "text": [
      "The literary.notebook extension is already loaded. To reload it, use:\n",
      "  %reload_ext literary.notebook\n"
     ]
    }
   ],
   "source": [
    "%load_ext literary.notebook"
   ]
  },
  {
   "cell_type": "code",
   "execution_count": 7,
   "id": "front-notion",
   "metadata": {
    "tags": [
     "export"
    ]
   },
   "outputs": [],
   "source": [
    "import functools\n",
    "import pathlib\n",
    "\n",
    "import traitlets.config\n",
    "from jupyter_core.paths import jupyter_config_path"
   ]
  },
  {
   "cell_type": "code",
   "execution_count": 8,
   "id": "naked-doctor",
   "metadata": {
    "tags": [
     "export"
    ]
   },
   "outputs": [],
   "source": [
    "CONFIG_FILE_NAME = \"literary_config\"\n",
    "PROJECT_ROOT_MARKERS = (\n",
    "    \"pyproject.toml\",\n",
    "    \"setup.py\",\n",
    "    \"setup.cfg\",\n",
    "    \".literary-project\",\n",
    "    f\"{CONFIG_FILE_NAME}.json\",\n",
    "    f\"{CONFIG_FILE_NAME}.py\",\n",
    ")"
   ]
  },
  {
   "cell_type": "code",
   "execution_count": 9,
   "id": "caring-married",
   "metadata": {
    "tags": [
     "export"
    ]
   },
   "outputs": [],
   "source": [
    "def load_config(project_path: pathlib.Path) -> traitlets.config.Config:\n",
    "    \"\"\"Load the literary config file, or return an empty config object if missing\"\"\"\n",
    "    paths = [project_path, *jupyter_config_path()]\n",
    "    loaders = [\n",
    "        traitlets.config.JSONFileConfigLoader(f\"{CONFIG_FILE_NAME}.json\", path=paths),\n",
    "        traitlets.config.PyFileConfigLoader(f\"{CONFIG_FILE_NAME}.py\", path=paths),\n",
    "    ]\n",
    "    config = traitlets.config.Config()\n",
    "    for loader in loaders:\n",
    "        try:\n",
    "            config.update(loader.load_config())\n",
    "        except traitlets.config.ConfigFileNotFound:\n",
    "            pass\n",
    "\n",
    "    return config"
   ]
  },
  {
   "cell_type": "code",
   "execution_count": 10,
   "id": "environmental-cooperation",
   "metadata": {
    "tags": [
     "export"
    ]
   },
   "outputs": [],
   "source": [
    "@functools.lru_cache()\n",
    "def find_project_path(*search_paths) -> pathlib.Path:\n",
    "    \"\"\"Find the root path of the literary project.\n",
    "\n",
    "    Searches for known files / directories including\n",
    "    `.git/`, `.hg/`, or `pyproject.toml`.\n",
    "\n",
    "    :param search_paths: starting search paths\n",
    "    :return:\n",
    "    \"\"\"\n",
    "    if not search_paths:\n",
    "        search_paths = [pathlib.Path.cwd()]\n",
    "\n",
    "    visited = set()\n",
    "\n",
    "    for search_path in search_paths:\n",
    "        for path in (search_path, *search_path.parents):\n",
    "            # Avoid re-visiting paths\n",
    "            if path in visited:\n",
    "                break\n",
    "            visited.add(path)\n",
    "\n",
    "            # Look for any Python package marker\n",
    "            for marker in PROJECT_ROOT_MARKERS:\n",
    "                if (path / marker).exists():\n",
    "                    return path\n",
    "\n",
    "    raise FileNotFoundError(\"Couldn't find project path\")"
   ]
  }
 ],
 "metadata": {
  "jupytext": {
   "cell_metadata_filter": "-all",
   "main_language": "python",
   "notebook_metadata_filter": "-all"
  },
  "kernelspec": {
   "display_name": "Python 3",
   "language": "python",
   "name": "python3"
  },
  "language_info": {
   "codemirror_mode": {
    "name": "ipython",
    "version": 3
   },
   "file_extension": ".py",
   "mimetype": "text/x-python",
   "name": "python",
   "nbconvert_exporter": "python",
   "pygments_lexer": "ipython3",
   "version": "3.9.0"
  }
 },
 "nbformat": 4,
 "nbformat_minor": 5
}

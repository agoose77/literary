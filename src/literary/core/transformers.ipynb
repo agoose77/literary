{
 "cells": [
  {
   "cell_type": "markdown",
   "id": "ruled-spread",
   "metadata": {
    "tags": [
     "docstring"
    ]
   },
   "source": [
    "# AST Transform Routines"
   ]
  },
  {
   "cell_type": "code",
   "execution_count": 1,
   "id": "eaa04dfe-1007-44a8-ad14-28f16f82f5c5",
   "metadata": {
    "execution": {
     "iopub.execute_input": "2021-05-18T21:00:35.879713Z",
     "iopub.status.busy": "2021-05-18T21:00:35.878499Z",
     "iopub.status.idle": "2021-05-18T21:00:36.063919Z",
     "shell.execute_reply": "2021-05-18T21:00:36.062809Z"
    }
   },
   "outputs": [],
   "source": [
    "%load_ext literary.notebook\n",
    "\n",
    "import pytest\n",
    "\n",
    "from .utils import unparse_ast"
   ]
  },
  {
   "cell_type": "code",
   "execution_count": 2,
   "id": "extended-national",
   "metadata": {
    "execution": {
     "iopub.execute_input": "2021-05-18T21:00:36.068638Z",
     "iopub.status.busy": "2021-05-18T21:00:36.068034Z",
     "iopub.status.idle": "2021-05-18T21:00:36.070436Z",
     "shell.execute_reply": "2021-05-18T21:00:36.070906Z"
    },
    "tags": [
     "export"
    ]
   },
   "outputs": [],
   "source": [
    "import ast\n",
    "import logging\n",
    "import typing as tp\n",
    "\n",
    "from traitlets import Bool, Unicode\n",
    "from traitlets.config import Configurable"
   ]
  },
  {
   "cell_type": "code",
   "execution_count": 3,
   "id": "elect-event",
   "metadata": {
    "execution": {
     "iopub.execute_input": "2021-05-18T21:00:36.076124Z",
     "iopub.status.busy": "2021-05-18T21:00:36.075510Z",
     "iopub.status.idle": "2021-05-18T21:00:36.079047Z",
     "shell.execute_reply": "2021-05-18T21:00:36.078547Z"
    },
    "tags": [
     "export"
    ]
   },
   "outputs": [],
   "source": [
    "logger = logging.getLogger(__name__)"
   ]
  },
  {
   "cell_type": "code",
   "execution_count": 4,
   "id": "opponent-bottle",
   "metadata": {
    "execution": {
     "iopub.execute_input": "2021-05-18T21:00:36.083385Z",
     "iopub.status.busy": "2021-05-18T21:00:36.082793Z",
     "iopub.status.idle": "2021-05-18T21:00:36.085638Z",
     "shell.execute_reply": "2021-05-18T21:00:36.085040Z"
    },
    "tags": [
     "export"
    ]
   },
   "outputs": [],
   "source": [
    "T = tp.TypeVar(\"T\")"
   ]
  },
  {
   "cell_type": "markdown",
   "id": "driven-sucking",
   "metadata": {},
   "source": [
    "## IPython Magic Transformer"
   ]
  },
  {
   "cell_type": "markdown",
   "id": "civil-gamma",
   "metadata": {},
   "source": [
    "Many notebooks will contain IPython magics. It is important that generated modules do not contain these magics unless they are explicitly permitted with the `literary.IPythonTransformer.error_if_python` option is disabled."
   ]
  },
  {
   "cell_type": "code",
   "execution_count": 5,
   "id": "swedish-denial",
   "metadata": {
    "execution": {
     "iopub.execute_input": "2021-05-18T21:00:36.093248Z",
     "iopub.status.busy": "2021-05-18T21:00:36.092638Z",
     "iopub.status.idle": "2021-05-18T21:00:36.095826Z",
     "shell.execute_reply": "2021-05-18T21:00:36.095201Z"
    },
    "tags": [
     "export"
    ]
   },
   "outputs": [],
   "source": [
    "class IPythonTransformer(Configurable):\n",
    "    \"\"\"Node transformer which operates upon ast.Module nodes to check for IPython\n",
    "    statements.\n",
    "    \"\"\"\n",
    "\n",
    "    error_if_ipython = Bool(default_value=True).tag(config=True)\n",
    "\n",
    "    def visit(self, node: ast.Module) -> ast.Module:\n",
    "        \"\"\"Transform a Python module AST node\n",
    "\n",
    "        :param node: ast.Module object\n",
    "        :return: ast.Module object\n",
    "        \"\"\"\n",
    "        for descendant in ast.walk(node):\n",
    "            if not isinstance(descendant, ast.Call):\n",
    "                continue\n",
    "\n",
    "            if not isinstance(descendant.func, ast.Name):\n",
    "                continue\n",
    "\n",
    "            if descendant.func.id == \"get_ipython\":\n",
    "                msg = (\n",
    "                    \"`get_ipython` cannot be transpiled to pure-Python. \"\n",
    "                    \"Check for magics in exported code cells\"\n",
    "                )\n",
    "                if self.error_if_ipython:\n",
    "                    raise ValueError(msg)\n",
    "                else:\n",
    "                    logger.warning(msg)\n",
    "\n",
    "        return node"
   ]
  },
  {
   "cell_type": "markdown",
   "id": "fuzzy-august",
   "metadata": {},
   "source": [
    "Let's create a demo transformer:"
   ]
  },
  {
   "cell_type": "code",
   "execution_count": 6,
   "id": "imperial-character",
   "metadata": {
    "execution": {
     "iopub.execute_input": "2021-05-18T21:00:36.101308Z",
     "iopub.status.busy": "2021-05-18T21:00:36.100126Z",
     "iopub.status.idle": "2021-05-18T21:00:36.104320Z",
     "shell.execute_reply": "2021-05-18T21:00:36.103175Z"
    }
   },
   "outputs": [],
   "source": [
    "ipython_transformer = IPythonTransformer(error_if_ipython=True)"
   ]
  },
  {
   "cell_type": "markdown",
   "id": "heated-castle",
   "metadata": {},
   "source": [
    "Generate an AST node that should fail upon visitation"
   ]
  },
  {
   "cell_type": "code",
   "execution_count": 7,
   "id": "transsexual-chart",
   "metadata": {
    "execution": {
     "iopub.execute_input": "2021-05-18T21:00:36.109912Z",
     "iopub.status.busy": "2021-05-18T21:00:36.109316Z",
     "iopub.status.idle": "2021-05-18T21:00:36.112373Z",
     "shell.execute_reply": "2021-05-18T21:00:36.111761Z"
    }
   },
   "outputs": [],
   "source": [
    "node = ast.parse(\"get_ipython().magic('matplotlib inline')\")"
   ]
  },
  {
   "cell_type": "markdown",
   "id": "greek-cowboy",
   "metadata": {},
   "source": [
    "Now we run the test and raise an exception if it doesn't fail with a `ValueError`"
   ]
  },
  {
   "cell_type": "code",
   "execution_count": 8,
   "id": "guided-planning",
   "metadata": {
    "execution": {
     "iopub.execute_input": "2021-05-18T21:00:36.116539Z",
     "iopub.status.busy": "2021-05-18T21:00:36.115936Z",
     "iopub.status.idle": "2021-05-18T21:00:36.118853Z",
     "shell.execute_reply": "2021-05-18T21:00:36.118331Z"
    }
   },
   "outputs": [],
   "source": [
    "with pytest.raises(ValueError):\n",
    "    ipython_transformer.visit(node)"
   ]
  },
  {
   "cell_type": "markdown",
   "id": "technological-crown",
   "metadata": {},
   "source": [
    "## Class Monkeypatch Transformer\n",
    "In Jupyter notebooks it is not always convenient to write long definitions; e.g. class definitions can be composed of several nontrivial member functions and attributes. Here we define a transformer to rejoin disparate definitions such that the generated AST tree is performant, and will generate code that lives under a single class statement."
   ]
  },
  {
   "cell_type": "code",
   "execution_count": 9,
   "id": "indonesian-prior",
   "metadata": {
    "execution": {
     "iopub.execute_input": "2021-05-18T21:00:36.131750Z",
     "iopub.status.busy": "2021-05-18T21:00:36.131112Z",
     "iopub.status.idle": "2021-05-18T21:00:36.135172Z",
     "shell.execute_reply": "2021-05-18T21:00:36.133968Z"
    },
    "tags": [
     "export"
    ]
   },
   "outputs": [],
   "source": [
    "class PatchTransformer(Configurable):\n",
    "    \"\"\"Node transformer which operates upon ast.Module nodes to handle patches.\"\"\"\n",
    "\n",
    "    patch_decorator_id = Unicode(\"patch\").tag(config=True)\n",
    "\n",
    "    def _is_patch_decorator(self, node) -> bool:\n",
    "        \"\"\"Return True if the given ast node is a patch() decorator\n",
    "\n",
    "        :param node: ast node\n",
    "        :return:\n",
    "        \"\"\"\n",
    "        return (\n",
    "            isinstance(node, ast.Call)\n",
    "            and isinstance(node.func, ast.Name)\n",
    "            and node.func.id == self.patch_decorator_id\n",
    "        )\n",
    "\n",
    "    def _apply_patches_to_node(self, decorated, classes: tp.Dict[str, tp.Any]):\n",
    "        \"\"\"Append patch functions to body of patched class.\n",
    "\n",
    "        :param decorated: decorated function node\n",
    "        :param classes: mapping of name to class node\n",
    "        :return: whether node should be removed from original AST location\n",
    "        \"\"\"\n",
    "        patch_decorators = []\n",
    "        other_decorators = []\n",
    "\n",
    "        for node in decorated.decorator_list:\n",
    "            if self._is_patch_decorator(node):\n",
    "                if other_decorators:\n",
    "                    raise ValueError(\n",
    "                        \"Applying decorators to a patched function is not \"\n",
    "                        \"safe at runtime, and is hence prohibited.\"\n",
    "                    )\n",
    "                patch_decorators.append(node)\n",
    "            else:\n",
    "                other_decorators.append(node)\n",
    "\n",
    "        if not patch_decorators:\n",
    "            return False\n",
    "\n",
    "        logger.info(f\"Found patch function {ast.dump(decorated)}\")\n",
    "        decorated.decorator_list = other_decorators\n",
    "\n",
    "        # Copy decorated node to destination body\n",
    "        for node in reversed(patch_decorators):\n",
    "            (patched_name_node,) = node.args\n",
    "            patched_node = classes[patched_name_node.id]\n",
    "            patched_node.body.append(decorated)\n",
    "            logger.debug(f\"Patching {patched_node.name} with {ast.dump(decorated)}\")\n",
    "\n",
    "        return True\n",
    "\n",
    "    def _transform_module_body(self, nodes: tp.Iterable[T]) -> tp.Iterable[T]:\n",
    "        \"\"\"Transform the nodes of an ast.Module to handle patches.\n",
    "\n",
    "        :param nodes: iterable of ast nodes\n",
    "        :return:\n",
    "        \"\"\"\n",
    "        classes = {}\n",
    "        for child in nodes:\n",
    "            if isinstance(child, ast.ClassDef):\n",
    "                classes[child.name] = child\n",
    "\n",
    "            # If there were patch decorators, don't keep this node\n",
    "            if hasattr(child, \"decorator_list\") and self._apply_patches_to_node(\n",
    "                child, classes\n",
    "            ):\n",
    "                continue\n",
    "\n",
    "            yield child\n",
    "\n",
    "    def visit(self, node: ast.Module) -> ast.Module:\n",
    "        \"\"\"Transform a Python module AST node.\n",
    "\n",
    "        :param node: ast.Module object\n",
    "        :return: ast.Module object\n",
    "        \"\"\"\n",
    "        node.body = [*self._transform_module_body(node.body)]\n",
    "        ast.fix_missing_locations(node)\n",
    "        return node"
   ]
  },
  {
   "cell_type": "markdown",
   "id": "stable-techno",
   "metadata": {},
   "source": [
    "We can demonstrate this on an example class"
   ]
  },
  {
   "cell_type": "code",
   "execution_count": 10,
   "id": "rental-ladder",
   "metadata": {
    "execution": {
     "iopub.execute_input": "2021-05-18T21:00:36.140734Z",
     "iopub.status.busy": "2021-05-18T21:00:36.139784Z",
     "iopub.status.idle": "2021-05-18T21:00:36.142214Z",
     "shell.execute_reply": "2021-05-18T21:00:36.141570Z"
    }
   },
   "outputs": [],
   "source": [
    "transformer = PatchTransformer(patch_decorator_id=\"patch\")"
   ]
  },
  {
   "cell_type": "code",
   "execution_count": 11,
   "id": "speaking-yellow",
   "metadata": {
    "execution": {
     "iopub.execute_input": "2021-05-18T21:00:36.146078Z",
     "iopub.status.busy": "2021-05-18T21:00:36.145470Z",
     "iopub.status.idle": "2021-05-18T21:00:36.148733Z",
     "shell.execute_reply": "2021-05-18T21:00:36.148114Z"
    }
   },
   "outputs": [],
   "source": [
    "node = ast.parse(\n",
    "    \"\"\"\n",
    "class TestClass:\n",
    "    pass\n",
    "\n",
    "@patch(TestClass)\n",
    "def method_a(self):\n",
    "    pass\n",
    "\n",
    "@patch(TestClass)\n",
    "def method_b(self):\n",
    "    pass\n",
    "\"\"\"\n",
    ")"
   ]
  },
  {
   "cell_type": "code",
   "execution_count": 12,
   "id": "polyphonic-airfare",
   "metadata": {
    "execution": {
     "iopub.execute_input": "2021-05-18T21:00:36.152830Z",
     "iopub.status.busy": "2021-05-18T21:00:36.152228Z",
     "iopub.status.idle": "2021-05-18T21:00:36.155194Z",
     "shell.execute_reply": "2021-05-18T21:00:36.154587Z"
    }
   },
   "outputs": [],
   "source": [
    "new_node = transformer.visit(node)"
   ]
  },
  {
   "cell_type": "code",
   "execution_count": 13,
   "id": "charitable-regular",
   "metadata": {
    "execution": {
     "iopub.execute_input": "2021-05-18T21:00:36.159304Z",
     "iopub.status.busy": "2021-05-18T21:00:36.158712Z",
     "iopub.status.idle": "2021-05-18T21:00:36.162900Z",
     "shell.execute_reply": "2021-05-18T21:00:36.162300Z"
    }
   },
   "outputs": [
    {
     "name": "stdout",
     "output_type": "stream",
     "text": [
      "class TestClass:\n",
      "    pass\n",
      "\n",
      "    def method_a(self):\n",
      "        pass\n",
      "\n",
      "    def method_b(self):\n",
      "        pass\n"
     ]
    }
   ],
   "source": [
    "print(unparse_ast(new_node))"
   ]
  }
 ],
 "metadata": {
  "jupytext": {
   "cell_metadata_filter": "-all",
   "main_language": "python",
   "notebook_metadata_filter": "-all"
  },
  "kernelspec": {
   "display_name": "Python 3",
   "language": "python",
   "name": "python3"
  },
  "language_info": {
   "codemirror_mode": {
    "name": "ipython",
    "version": 3
   },
   "file_extension": ".py",
   "mimetype": "text/x-python",
   "name": "python",
   "nbconvert_exporter": "python",
   "pygments_lexer": "ipython3",
   "version": "3.9.0"
  }
 },
 "nbformat": 4,
 "nbformat_minor": 5
}

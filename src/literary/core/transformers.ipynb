{
 "cells": [
  {
   "cell_type": "markdown",
   "id": "ruled-spread",
   "metadata": {
    "tags": [
     "docstring"
    ]
   },
   "source": [
    "# AST Transform Routines"
   ]
  },
  {
   "cell_type": "code",
   "execution_count": 9,
   "id": "83eda70d-7381-40cd-8aca-70953923350b",
   "metadata": {},
   "outputs": [
    {
     "name": "stdout",
     "output_type": "stream",
     "text": [
      "The literary.notebook extension is already loaded. To reload it, use:\n",
      "  %reload_ext literary.notebook\n"
     ]
    }
   ],
   "source": [
    "%load_ext literary.notebook\n"
   ]
  },
  {
   "cell_type": "code",
   "execution_count": 10,
   "id": "7335ac4b-f36d-48be-b185-c51346145505",
   "metadata": {},
   "outputs": [
    {
     "data": {
      "text/plain": [
       "[zipimport.zipimporter,\n",
       " <function importlib._bootstrap_external.FileFinder.path_hook.<locals>.path_hook_for_FileFinder(path)>]"
      ]
     },
     "execution_count": 10,
     "metadata": {},
     "output_type": "execute_result"
    }
   ],
   "source": [
    "import sys\n",
    "sys.path_hooks"
   ]
  },
  {
   "cell_type": "code",
   "execution_count": 5,
   "id": "bb466549-6b4e-4918-ba59-e165b8278efe",
   "metadata": {},
   "outputs": [
    {
     "ename": "ModuleNotFoundError",
     "evalue": "No module named 'src.literary.core.utils'",
     "output_type": "error",
     "traceback": [
      "\u001b[0;31m---------------------------------------------------------------------------\u001b[0m",
      "\u001b[0;31mModuleNotFoundError\u001b[0m                       Traceback (most recent call last)",
      "\u001b[0;32m<ipython-input-5-e11a777e9d79>\u001b[0m in \u001b[0;36m<module>\u001b[0;34m\u001b[0m\n\u001b[0;32m----> 1\u001b[0;31m \u001b[0;32mimport\u001b[0m \u001b[0msrc\u001b[0m\u001b[0;34m.\u001b[0m\u001b[0mliterary\u001b[0m\u001b[0;34m.\u001b[0m\u001b[0mcore\u001b[0m\u001b[0;34m.\u001b[0m\u001b[0mutils\u001b[0m \u001b[0;32mas\u001b[0m \u001b[0mc\u001b[0m\u001b[0;34m\u001b[0m\u001b[0;34m\u001b[0m\u001b[0m\n\u001b[0m\u001b[1;32m      2\u001b[0m \u001b[0mc\u001b[0m\u001b[0;34m.\u001b[0m\u001b[0m__path__\u001b[0m\u001b[0;34m\u001b[0m\u001b[0;34m\u001b[0m\u001b[0m\n",
      "\u001b[0;31mModuleNotFoundError\u001b[0m: No module named 'src.literary.core.utils'"
     ]
    }
   ],
   "source": [
    "import src.literary.core.utils as c\n",
    "c.__path__"
   ]
  },
  {
   "cell_type": "code",
   "execution_count": 1,
   "id": "available-substance",
   "metadata": {},
   "outputs": [
    {
     "ename": "ImportError",
     "evalue": "cannot import name 'utils' from 'src.literary.core' (/home/angus/Git/literary/src/literary/core/__init__.ipynb)",
     "output_type": "error",
     "traceback": [
      "\u001b[0;31m---------------------------------------------------------------------------\u001b[0m",
      "\u001b[0;31mImportError\u001b[0m                               Traceback (most recent call last)",
      "\u001b[0;32m<ipython-input-1-ec4388c5b063>\u001b[0m in \u001b[0;36m<module>\u001b[0;34m\u001b[0m\n\u001b[1;32m      3\u001b[0m \u001b[0;32mimport\u001b[0m \u001b[0mpytest\u001b[0m\u001b[0;34m\u001b[0m\u001b[0;34m\u001b[0m\u001b[0m\n\u001b[1;32m      4\u001b[0m \u001b[0;34m\u001b[0m\u001b[0m\n\u001b[0;32m----> 5\u001b[0;31m \u001b[0;32mfrom\u001b[0m \u001b[0;34m.\u001b[0m \u001b[0;32mimport\u001b[0m \u001b[0mutils\u001b[0m\u001b[0;34m\u001b[0m\u001b[0;34m\u001b[0m\u001b[0m\n\u001b[0m",
      "\u001b[0;31mImportError\u001b[0m: cannot import name 'utils' from 'src.literary.core' (/home/angus/Git/literary/src/literary/core/__init__.ipynb)"
     ]
    }
   ],
   "source": [
    "%load_ext literary.notebook\n",
    "\n",
    "import pytest\n",
    "\n",
    "from . import utils"
   ]
  },
  {
   "cell_type": "code",
   "execution_count": null,
   "id": "extended-national",
   "metadata": {
    "tags": [
     "export"
    ]
   },
   "outputs": [],
   "source": [
    "import ast\n",
    "import logging\n",
    "from typing import Any, Dict, Iterable, TypeVar\n",
    "\n",
    "import traitlets.config"
   ]
  },
  {
   "cell_type": "code",
   "execution_count": null,
   "id": "elect-event",
   "metadata": {
    "tags": [
     "export"
    ]
   },
   "outputs": [],
   "source": [
    "logger = logging.getLogger(__name__)"
   ]
  },
  {
   "cell_type": "code",
   "execution_count": null,
   "id": "opponent-bottle",
   "metadata": {
    "tags": [
     "export"
    ]
   },
   "outputs": [],
   "source": [
    "T = TypeVar(\"T\")"
   ]
  },
  {
   "cell_type": "markdown",
   "id": "driven-sucking",
   "metadata": {},
   "source": [
    "## IPython Magic Transformer"
   ]
  },
  {
   "cell_type": "markdown",
   "id": "civil-gamma",
   "metadata": {},
   "source": [
    "Many notebooks will contain IPython magics. It is important that generated modules do not contain these magics unless they are explicitly permitted with the `literary.IPythonTransformer.error_if_python` option is disabled."
   ]
  },
  {
   "cell_type": "code",
   "execution_count": null,
   "id": "swedish-denial",
   "metadata": {
    "tags": [
     "export"
    ]
   },
   "outputs": [],
   "source": [
    "class IPythonTransformer(traitlets.config.Configurable):\n",
    "    \"\"\"Node transformer which operates upon ast.Module nodes to check for IPython\n",
    "    statements.\n",
    "    \"\"\"\n",
    "\n",
    "    error_if_ipython = traitlets.Bool(default_value=True).tag(config=True)\n",
    "\n",
    "    def visit(self, node: ast.Module) -> ast.Module:\n",
    "        \"\"\"Transform a Python module AST node\n",
    "\n",
    "        :param node: ast.Module object\n",
    "        :return: ast.Module object\n",
    "        \"\"\"\n",
    "        for descendant in ast.walk(node):\n",
    "            if not isinstance(descendant, ast.Call):\n",
    "                continue\n",
    "\n",
    "            if not isinstance(descendant.func, ast.Name):\n",
    "                continue\n",
    "\n",
    "            if descendant.func.id == \"get_ipython\":\n",
    "                msg = (\n",
    "                    \"`get_ipython` cannot be transpiled to pure-Python. \"\n",
    "                    \"Check for magics in exported code cells\"\n",
    "                )\n",
    "                if self.error_if_ipython:\n",
    "                    raise ValueError(msg)\n",
    "                else:\n",
    "                    logger.warning(msg)\n",
    "\n",
    "        return node"
   ]
  },
  {
   "cell_type": "markdown",
   "id": "fuzzy-august",
   "metadata": {},
   "source": [
    "Let's create a demo transformer:"
   ]
  },
  {
   "cell_type": "code",
   "execution_count": null,
   "id": "imperial-character",
   "metadata": {},
   "outputs": [],
   "source": [
    "ipython_transformer = IPythonTransformer(error_if_ipython=True)"
   ]
  },
  {
   "cell_type": "markdown",
   "id": "heated-castle",
   "metadata": {},
   "source": [
    "Generate an AST node that should fail upon visitation"
   ]
  },
  {
   "cell_type": "code",
   "execution_count": null,
   "id": "transsexual-chart",
   "metadata": {},
   "outputs": [],
   "source": [
    "node = ast.parse(\"get_ipython().magic('matplotlib inline')\")"
   ]
  },
  {
   "cell_type": "markdown",
   "id": "greek-cowboy",
   "metadata": {},
   "source": [
    "Now we run the test and raise an exception if it doesn't fail with a `ValueError`"
   ]
  },
  {
   "cell_type": "code",
   "execution_count": null,
   "id": "guided-planning",
   "metadata": {},
   "outputs": [],
   "source": [
    "with pytest.raises(ValueError):\n",
    "    ipython_transformer.visit(node)"
   ]
  },
  {
   "cell_type": "markdown",
   "id": "technological-crown",
   "metadata": {},
   "source": [
    "## Class Monkeypatch Transformer\n",
    "In Jupyter notebooks it is not always convenient to write long definitions; e.g. class definitions can be composed of several nontrivial member functions and attributes. Here we define a transformer to rejoin disparate definitions such that the generated AST tree is performant, and will generate code that lives under a single class statement."
   ]
  },
  {
   "cell_type": "code",
   "execution_count": null,
   "id": "indonesian-prior",
   "metadata": {
    "tags": [
     "export"
    ]
   },
   "outputs": [],
   "source": [
    "class PatchTransformer(traitlets.config.Configurable):\n",
    "    \"\"\"Node transformer which operates upon ast.Module nodes to handle patches.\"\"\"\n",
    "\n",
    "    patch_decorator_id = traitlets.Unicode(\"patch\").tag(config=True)\n",
    "\n",
    "    def _is_patch_decorator(self, node: Any) -> bool:\n",
    "        \"\"\"Return True if the given ast node is a patch() decorator\n",
    "\n",
    "        :param node: ast node\n",
    "        :return:\n",
    "        \"\"\"\n",
    "        return (\n",
    "            isinstance(node, ast.Call)\n",
    "            and isinstance(node.func, ast.Name)\n",
    "            and node.func.id == self.patch_decorator_id\n",
    "        )\n",
    "\n",
    "    def _apply_patches_to_node(self, decorated: Any, classes: Dict[str, Any]):\n",
    "        \"\"\"Append patch functions to body of patched class.\n",
    "\n",
    "        :param decorated: decorated function node\n",
    "        :param classes: mapping of name to class node\n",
    "        :return: whether node should be removed from original AST location\n",
    "        \"\"\"\n",
    "        patch_decorators = []\n",
    "        other_decorators = []\n",
    "\n",
    "        for node in decorated.decorator_list:\n",
    "            if self._is_patch_decorator(node):\n",
    "                if other_decorators:\n",
    "                    raise ValueError(\n",
    "                        \"Applying decorators to a patched function is not \"\n",
    "                        \"safe at runtime, and is hence prohibited.\"\n",
    "                    )\n",
    "                patch_decorators.append(node)\n",
    "            else:\n",
    "                other_decorators.append(node)\n",
    "\n",
    "        if not patch_decorators:\n",
    "            return False\n",
    "\n",
    "        logger.info(f\"Found patch function {ast.dump(decorated)}\")\n",
    "        decorated.decorator_list = other_decorators\n",
    "\n",
    "        # Copy decorated node to destination body\n",
    "        for node in reversed(patch_decorators):\n",
    "            (patched_name_node,) = node.args\n",
    "            patched_node = classes[patched_name_node.id]\n",
    "            patched_node.body.append(decorated)\n",
    "            logger.debug(f\"Patching {patched_node.name} with {ast.dump(decorated)}\")\n",
    "\n",
    "        return True\n",
    "\n",
    "    def _transform_module_body(self, nodes: Iterable[T]) -> Iterable[T]:\n",
    "        \"\"\"Transform the nodes of an ast.Module to handle patches.\n",
    "\n",
    "        :param nodes: iterable of ast nodes\n",
    "        :return:\n",
    "        \"\"\"\n",
    "        classes = {}\n",
    "        for child in nodes:\n",
    "            if isinstance(child, ast.ClassDef):\n",
    "                classes[child.name] = child\n",
    "\n",
    "            # If there were patch decorators, don't keep this node\n",
    "            if hasattr(child, \"decorator_list\") and self._apply_patches_to_node(\n",
    "                child, classes\n",
    "            ):\n",
    "                continue\n",
    "\n",
    "            yield child\n",
    "\n",
    "    def visit(self, node: ast.Module) -> ast.Module:\n",
    "        \"\"\"Transform a Python module AST node.\n",
    "\n",
    "        :param node: ast.Module object\n",
    "        :return: ast.Module object\n",
    "        \"\"\"\n",
    "        node.body = [*self._transform_module_body(node.body)]\n",
    "        ast.fix_missing_locations(node)\n",
    "        return node"
   ]
  },
  {
   "cell_type": "markdown",
   "id": "stable-techno",
   "metadata": {},
   "source": [
    "We can demonstrate this on an example class"
   ]
  },
  {
   "cell_type": "code",
   "execution_count": null,
   "id": "rental-ladder",
   "metadata": {},
   "outputs": [],
   "source": [
    "transformer = PatchTransformer(patch_decorator_id=\"patch\")"
   ]
  },
  {
   "cell_type": "code",
   "execution_count": null,
   "id": "speaking-yellow",
   "metadata": {},
   "outputs": [],
   "source": [
    "node = ast.parse(\n",
    "    \"\"\"\n",
    "class TestClass:\n",
    "    pass\n",
    "\n",
    "@patch(TestClass)\n",
    "def method_a(self):\n",
    "    pass\n",
    "\n",
    "@patch(TestClass)\n",
    "def method_b(self):\n",
    "    pass\n",
    "\"\"\"\n",
    ")"
   ]
  },
  {
   "cell_type": "code",
   "execution_count": null,
   "id": "polyphonic-airfare",
   "metadata": {},
   "outputs": [],
   "source": [
    "new_node = transformer.visit(node)"
   ]
  },
  {
   "cell_type": "code",
   "execution_count": null,
   "id": "charitable-regular",
   "metadata": {},
   "outputs": [],
   "source": [
    "print(utils.unparse_ast(new_node))"
   ]
  }
 ],
 "metadata": {
  "jupytext": {
   "cell_metadata_filter": "-all",
   "main_language": "python",
   "notebook_metadata_filter": "-all"
  },
  "kernelspec": {
   "display_name": "Python 3",
   "language": "python",
   "name": "python3"
  },
  "language_info": {
   "codemirror_mode": {
    "name": "ipython",
    "version": 3
   },
   "file_extension": ".py",
   "mimetype": "text/x-python",
   "name": "python",
   "nbconvert_exporter": "python",
   "pygments_lexer": "ipython3",
   "version": "3.9.0"
  }
 },
 "nbformat": 4,
 "nbformat_minor": 5
}

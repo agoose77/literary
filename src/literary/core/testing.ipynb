{
 "cells": [
  {
   "cell_type": "markdown",
   "id": "agricultural-badge",
   "metadata": {
    "tags": [
     "docstring"
    ]
   },
   "source": [
    "# Testing"
   ]
  },
  {
   "cell_type": "code",
   "execution_count": 1,
   "id": "early-arkansas",
   "metadata": {
    "execution": {
     "iopub.execute_input": "2021-05-17T16:24:06.256633Z",
     "iopub.status.busy": "2021-05-17T16:24:06.256111Z",
     "iopub.status.idle": "2021-05-17T16:24:06.397074Z",
     "shell.execute_reply": "2021-05-17T16:24:06.395948Z"
    }
   },
   "outputs": [],
   "source": [
    "%load_ext literary.notebook"
   ]
  },
  {
   "cell_type": "code",
   "execution_count": 2,
   "id": "golden-festival",
   "metadata": {
    "execution": {
     "iopub.execute_input": "2021-05-17T16:24:06.402448Z",
     "iopub.status.busy": "2021-05-17T16:24:06.401226Z",
     "iopub.status.idle": "2021-05-17T16:24:06.403791Z",
     "shell.execute_reply": "2021-05-17T16:24:06.404443Z"
    },
    "tags": [
     "export"
    ]
   },
   "outputs": [],
   "source": [
    "import logging\n",
    "import pathlib\n",
    "import nbclient\n",
    "import nbformat"
   ]
  },
  {
   "cell_type": "code",
   "execution_count": 3,
   "id": "dramatic-authentication",
   "metadata": {
    "execution": {
     "iopub.execute_input": "2021-05-17T16:24:06.410713Z",
     "iopub.status.busy": "2021-05-17T16:24:06.409780Z",
     "iopub.status.idle": "2021-05-17T16:24:06.412893Z",
     "shell.execute_reply": "2021-05-17T16:24:06.413401Z"
    },
    "tags": [
     "export"
    ]
   },
   "outputs": [],
   "source": [
    "logger = logging.getLogger(__name__)"
   ]
  },
  {
   "cell_type": "code",
   "execution_count": 4,
   "id": "moderate-compromise",
   "metadata": {
    "execution": {
     "iopub.execute_input": "2021-05-17T16:24:06.420053Z",
     "iopub.status.busy": "2021-05-17T16:24:06.419435Z",
     "iopub.status.idle": "2021-05-17T16:24:06.422448Z",
     "shell.execute_reply": "2021-05-17T16:24:06.421827Z"
    },
    "tags": [
     "export"
    ]
   },
   "outputs": [],
   "source": [
    "def run_notebook(path: pathlib.Path, cell_timeout: int = 20):\n",
    "    \"\"\"Run a Jupyter notebook at the given path\n",
    "\n",
    "    :param path: path to notebook\n",
    "    :param cell_timeout: timeout for each cell execution\n",
    "    :return:\n",
    "    \"\"\"\n",
    "    try:\n",
    "        logger.info(f\"Executing {path}\")\n",
    "        nb = nbformat.read(path, as_version=nbformat.NO_CONVERT)\n",
    "        client = nbclient.NotebookClient(\n",
    "            nb, timeout=cell_timeout, resources={\"metadata\": {\"path\": path.parent}}\n",
    "        )\n",
    "        client.execute()\n",
    "        logger.info(f\"Finished executing {path}\")\n",
    "    except Exception:\n",
    "        logger.exception(f\"Error during execution of {path}\")\n",
    "        raise"
   ]
  }
 ],
 "metadata": {
  "jupytext": {
   "cell_metadata_filter": "-all",
   "main_language": "python",
   "notebook_metadata_filter": "-all"
  },
  "kernelspec": {
   "display_name": "Python 3",
   "language": "python",
   "name": "python3"
  },
  "language_info": {
   "codemirror_mode": {
    "name": "ipython",
    "version": 3
   },
   "file_extension": ".py",
   "mimetype": "text/x-python",
   "name": "python",
   "nbconvert_exporter": "python",
   "pygments_lexer": "ipython3",
   "version": "3.9.0"
  }
 },
 "nbformat": 4,
 "nbformat_minor": 5
}

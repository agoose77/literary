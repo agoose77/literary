{
 "cells": [
  {
   "cell_type": "markdown",
   "id": "lonely-region",
   "metadata": {
    "tags": [
     "docstring"
    ]
   },
   "source": [
    "# Utility Functions"
   ]
  },
  {
   "cell_type": "code",
   "execution_count": 9,
   "id": "pursuant-sperm",
   "metadata": {},
   "outputs": [
    {
     "name": "stdout",
     "output_type": "stream",
     "text": [
      "The literary.notebook extension is already loaded. To reload it, use:\n",
      "  %reload_ext literary.notebook\n"
     ]
    }
   ],
   "source": [
    "%load_ext literary.notebook\n",
    "import ast"
   ]
  },
  {
   "cell_type": "code",
   "execution_count": 8,
   "id": "liberal-weekend",
   "metadata": {
    "tags": [
     "export"
    ]
   },
   "outputs": [],
   "source": [
    "import sys\n",
    "from typing_extensions import Literal"
   ]
  },
  {
   "cell_type": "markdown",
   "id": "polished-seeker",
   "metadata": {},
   "source": [
    "## Quoting"
   ]
  },
  {
   "cell_type": "markdown",
   "id": "heard-present",
   "metadata": {},
   "source": [
    "In rendering the docstring for the generated Python module source, it is necessary to escape triple quoted strings. Here we implement such a function:"
   ]
  },
  {
   "cell_type": "code",
   "execution_count": 3,
   "id": "mediterranean-conflict",
   "metadata": {
    "tags": [
     "export"
    ]
   },
   "outputs": [],
   "source": [
    "def escape_triple_quotes(string: str, single_quote: Literal[\"'\", '\"'] = '\"') -> str:\n",
    "    \"\"\"Escape triple quotes inside a string\n",
    "\n",
    "    :param string: string to escape\n",
    "    :param single_quote: single-quote character\n",
    "    :return: escaped string\n",
    "    \"\"\"\n",
    "    assert len(single_quote) == 1\n",
    "    quote = single_quote * 3\n",
    "    escaped_single_quote = rf\"\\{single_quote}\"\n",
    "    escaped_quote = escaped_single_quote * 3\n",
    "    return string.replace(quote, escaped_quote)"
   ]
  },
  {
   "cell_type": "markdown",
   "id": "stone-precipitation",
   "metadata": {},
   "source": [
    "Let's ensure that this function behaves as expected for the `\"` quote"
   ]
  },
  {
   "cell_type": "code",
   "execution_count": 4,
   "id": "vocational-catalog",
   "metadata": {},
   "outputs": [],
   "source": [
    "assert (\n",
    "    escape_triple_quotes('''\"\"\"Hello, I'm a triple quoted string\"\"\"''')\n",
    "    == r'''\\\"\\\"\\\"Hello, I'm a triple quoted string\\\"\\\"\\\"'''\n",
    ")"
   ]
  },
  {
   "cell_type": "markdown",
   "id": "other-notification",
   "metadata": {},
   "source": [
    "and for the `'` quote"
   ]
  },
  {
   "cell_type": "code",
   "execution_count": 5,
   "id": "respective-greene",
   "metadata": {},
   "outputs": [],
   "source": [
    "assert (\n",
    "    escape_triple_quotes(\"\"\"'''Hello, I'm a triple quoted string'''\"\"\", \"'\")\n",
    "    == r\"\\'\\'\\'Hello, I'm a triple quoted string\\'\\'\\'\"\n",
    ")"
   ]
  },
  {
   "cell_type": "markdown",
   "id": "suspended-favorite",
   "metadata": {},
   "source": [
    "## AST Roundtrip\n",
    "\n",
    "It's useful to be able to round-trip Python source via an AST transformer. Python versions older than 3.9.0 do not implement such a feature, requiring a third-party library."
   ]
  },
  {
   "cell_type": "code",
   "execution_count": 6,
   "id": "related-improvement",
   "metadata": {
    "tags": [
     "export"
    ]
   },
   "outputs": [],
   "source": [
    "# Backwards compatibility\n",
    "if sys.version_info < (3, 9, 0):\n",
    "    import astunparse\n",
    "    import astunparse.unparser\n",
    "\n",
    "    class ASTUnparser(astunparse.unparser.Unparser):\n",
    "        \"\"\"AST unparser with additional preference for triple-quoted multi-line strings\"\"\"\n",
    "\n",
    "        def _Constant(self, tree):\n",
    "            if isinstance(tree.value, str) and \"\\n\" in tree.value:\n",
    "                self.write(f'\"\"\"{escape_triple_quotes(tree.value)}\"\"\"')\n",
    "                return\n",
    "\n",
    "            super()._Constant(tree)\n",
    "\n",
    "    # Monkey patch to ensure correctness\n",
    "    astunparse.Unparser = ASTUnparser\n",
    "    astunparse.unparser.Unparser = ASTUnparser\n",
    "\n",
    "    from astunparse import unparse as unparse_ast\n",
    "else:\n",
    "    from ast import unparse as unparse_ast"
   ]
  },
  {
   "cell_type": "markdown",
   "id": "friendly-jewelry",
   "metadata": {},
   "source": [
    "Let's generate a test AST node"
   ]
  },
  {
   "cell_type": "code",
   "execution_count": 10,
   "id": "worldwide-completion",
   "metadata": {},
   "outputs": [],
   "source": [
    "node = ast.parse(\"x = y = f'hello {__name__}'\")"
   ]
  },
  {
   "cell_type": "markdown",
   "id": "radical-corruption",
   "metadata": {},
   "source": [
    "We won't assert that the result is equal, because the `unparse_ast` method is allowed to apply optimisations to the generated source code. Let's look at the result visually, though:"
   ]
  },
  {
   "cell_type": "code",
   "execution_count": 11,
   "id": "optimum-appearance",
   "metadata": {},
   "outputs": [
    {
     "data": {
      "text/plain": [
       "\"x = y = f'hello {__name__}'\""
      ]
     },
     "execution_count": 11,
     "metadata": {},
     "output_type": "execute_result"
    }
   ],
   "source": [
    "unparse_ast(node)"
   ]
  }
 ],
 "metadata": {
  "jupytext": {
   "cell_metadata_filter": "-all",
   "main_language": "python",
   "notebook_metadata_filter": "-all"
  },
  "kernelspec": {
   "display_name": "Python 3",
   "language": "python",
   "name": "python3"
  },
  "language_info": {
   "codemirror_mode": {
    "name": "ipython",
    "version": 3
   },
   "file_extension": ".py",
   "mimetype": "text/x-python",
   "name": "python",
   "nbconvert_exporter": "python",
   "pygments_lexer": "ipython3",
   "version": "3.9.0"
  }
 },
 "nbformat": 4,
 "nbformat_minor": 5
}

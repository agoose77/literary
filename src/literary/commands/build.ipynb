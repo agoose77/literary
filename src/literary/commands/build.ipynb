{
 "cells": [
  {
   "cell_type": "markdown",
   "id": "convenient-processor",
   "metadata": {
    "tags": [
     "docstring"
    ]
   },
   "source": [
    "# Build Package Command"
   ]
  },
  {
   "cell_type": "code",
   "execution_count": 1,
   "id": "forward-palestinian",
   "metadata": {
    "execution": {
     "iopub.execute_input": "2021-05-17T16:23:52.370023Z",
     "iopub.status.busy": "2021-05-17T16:23:52.368722Z",
     "iopub.status.idle": "2021-05-17T16:23:52.520504Z",
     "shell.execute_reply": "2021-05-17T16:23:52.519314Z"
    }
   },
   "outputs": [],
   "source": [
    "%load_ext literary.notebook"
   ]
  },
  {
   "cell_type": "code",
   "execution_count": 2,
   "id": "collect-playback",
   "metadata": {
    "execution": {
     "iopub.execute_input": "2021-05-17T16:23:52.527076Z",
     "iopub.status.busy": "2021-05-17T16:23:52.525742Z",
     "iopub.status.idle": "2021-05-17T16:23:52.866721Z",
     "shell.execute_reply": "2021-05-17T16:23:52.867157Z"
    },
    "tags": [
     "export"
    ]
   },
   "outputs": [],
   "source": [
    "import pathlib\n",
    "\n",
    "from traitlets import List, Unicode, default\n",
    "\n",
    "from ..core.package import build_package\n",
    "from .app import LiteraryApp"
   ]
  },
  {
   "cell_type": "code",
   "execution_count": 3,
   "id": "owned-bleeding",
   "metadata": {
    "execution": {
     "iopub.execute_input": "2021-05-17T16:23:52.876003Z",
     "iopub.status.busy": "2021-05-17T16:23:52.874800Z",
     "iopub.status.idle": "2021-05-17T16:23:52.877518Z",
     "shell.execute_reply": "2021-05-17T16:23:52.878077Z"
    },
    "tags": [
     "export"
    ]
   },
   "outputs": [],
   "source": [
    "class LiteraryBuildApp(LiteraryApp):\n",
    "    description = \"Build a pure-Python package from a set of Jupyter notebooks\"\n",
    "    aliases = {\n",
    "        **LiteraryApp.aliases,\n",
    "        \"source\": \"LiteraryBuildApp.source\",\n",
    "        \"package\": \"LiteraryBuildApp.package\",\n",
    "        \"ignore\": \"LiteraryBuildApp.ignore\",\n",
    "    }\n",
    "\n",
    "    source = Unicode(help=\"source directory for notebooks\").tag(config=True)\n",
    "    package = Unicode(help=\"destination path generated package\").tag(config=True)\n",
    "    ignore = List(help=\"glob pattern to ignore during recursion\", trait=Unicode()).tag(\n",
    "        config=True\n",
    "    )\n",
    "\n",
    "    def start(self):\n",
    "        if not self.source:\n",
    "            raise ValueError(f\"Missing source path\")\n",
    "        source = pathlib.Path(self.source)\n",
    "\n",
    "        if not self.package:\n",
    "            raise ValueError(f\"Missing package path\")\n",
    "        package = pathlib.Path(self.package)\n",
    "\n",
    "        build_package(source, package, self.ignore)"
   ]
  }
 ],
 "metadata": {
  "jupytext": {
   "cell_metadata_filter": "-all",
   "main_language": "python",
   "notebook_metadata_filter": "-all"
  },
  "kernelspec": {
   "display_name": "Python 3",
   "language": "python",
   "name": "python3"
  },
  "language_info": {
   "codemirror_mode": {
    "name": "ipython",
    "version": 3
   },
   "file_extension": ".py",
   "mimetype": "text/x-python",
   "name": "python",
   "nbconvert_exporter": "python",
   "pygments_lexer": "ipython3",
   "version": "3.9.0"
  }
 },
 "nbformat": 4,
 "nbformat_minor": 5
}

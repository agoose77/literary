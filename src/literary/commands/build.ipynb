{
 "cells": [
  {
   "cell_type": "code",
   "execution_count": 1,
   "id": "spontaneous-llama",
   "metadata": {},
   "outputs": [],
   "source": [
    "%load_ext literary.module"
   ]
  },
  {
   "cell_type": "markdown",
   "id": "empirical-prague",
   "metadata": {
    "tags": [
     "docstring"
    ]
   },
   "source": [
    "# Package Generation"
   ]
  },
  {
   "cell_type": "code",
   "execution_count": 1,
   "id": "differential-carolina",
   "metadata": {
    "execution": {
     "iopub.execute_input": "2022-05-12T11:24:01.736997Z",
     "iopub.status.busy": "2022-05-12T11:24:01.736430Z",
     "iopub.status.idle": "2022-05-12T11:24:01.906166Z",
     "shell.execute_reply": "2022-05-12T11:24:01.905475Z"
    },
    "lines_to_next_cell": 2,
    "tags": [
     "export"
    ]
   },
   "outputs": [],
   "source": [
    "import shutil\n",
    "from pathlib import Path\n",
    "\n",
    "import nbformat\n",
    "from nbconvert import Exporter\n",
    "from traitlets import Bool, Instance, List, Type, Unicode, default\n",
    "from traitlets.config import Config, Configurable\n",
    "\n",
    "from ..transpile.exporter import LiteraryExporter\n",
    "from .app import LiteraryApp"
   ]
  },
  {
   "cell_type": "code",
   "execution_count": 2,
   "id": "integrated-continent",
   "metadata": {
    "execution": {
     "iopub.execute_input": "2022-05-12T11:24:01.908970Z",
     "iopub.status.busy": "2022-05-12T11:24:01.908616Z",
     "iopub.status.idle": "2022-05-12T11:24:01.912804Z",
     "shell.execute_reply": "2022-05-12T11:24:01.911990Z"
    },
    "tags": [
     "export"
    ]
   },
   "outputs": [],
   "source": [
    "DEFAULT_IGNORE_PATTERNS = (\".ipynb_checkpoints\", \"__pycache__\", \".*\")"
   ]
  },
  {
   "cell_type": "markdown",
   "id": "c7f5f5e8-7da0-4bf2-9224-d2fb97f7b5e9",
   "metadata": {},
   "source": [
    "Here we implement a `PackageBuilder` class. Because it operators upon the current project, it is a `ProjectOperator` subclass. We define a few useful configuration traits, such as the exporter and the output directory."
   ]
  },
  {
   "cell_type": "code",
   "execution_count": 3,
   "id": "695f4635-5746-4775-9968-653eebf50fa7",
   "metadata": {
    "execution": {
     "iopub.execute_input": "2022-05-12T11:24:01.917133Z",
     "iopub.status.busy": "2022-05-12T11:24:01.916850Z",
     "iopub.status.idle": "2022-05-12T11:24:01.922561Z",
     "shell.execute_reply": "2022-05-12T11:24:01.921628Z"
    },
    "tags": [
     "export"
    ]
   },
   "outputs": [],
   "source": [
    "class LiteraryBuildApp(LiteraryApp):\n",
    "    \"\"\"Project operator which builds a Literary package from a set of notebook directories.\"\"\"\n",
    "\n",
    "    description = \"Build a pure-Python package from a set of Jupyter notebooks\"\n",
    "\n",
    "    exporter = Instance(Exporter)\n",
    "    exporter_class = Type(LiteraryExporter).tag(config=True)\n",
    "\n",
    "    generated_dir = Unicode(\n",
    "        \"lib\", help=\"Path to generated packages top-level directory\"\n",
    "    ).tag(config=True)\n",
    "\n",
    "    ignore_patterns = List(\n",
    "        Unicode(), help=\"List of patterns to ignore from source tree\"\n",
    "    ).tag(config=True)\n",
    "\n",
    "    clear_generated = Bool(\n",
    "        False,\n",
    "        help=\"Clear generated directory before building, otherwise raise an Exception if non-empty.\",\n",
    "    ).tag(config=True)\n",
    "\n",
    "    aliases = {\n",
    "        **LiteraryApp.aliases,\n",
    "        \"ignore\": \"LiteraryBuildApp.ignore_patterns\",\n",
    "        \"output\": \"LiteraryBuildApp.generated_dir\",\n",
    "        \"packages\": \"LiteraryBuildApp.packages_dir\",\n",
    "    }\n",
    "    flags = {\n",
    "        \"clear\": (\n",
    "            {\"LiteraryBuildApp\": {\"clear_generated\": True}},\n",
    "            \"Clear generated directory before building.\",\n",
    "        )\n",
    "    }"
   ]
  },
  {
   "cell_type": "markdown",
   "id": "749b3e23-4d82-42a3-97d0-592eb4616621",
   "metadata": {},
   "source": [
    "Let's implement a lazy exporter getter"
   ]
  },
  {
   "cell_type": "code",
   "execution_count": 4,
   "id": "1a38f83c-b8c1-4ca2-b5ef-eafd46e842ca",
   "metadata": {
    "execution": {
     "iopub.execute_input": "2022-05-12T11:24:01.926574Z",
     "iopub.status.busy": "2022-05-12T11:24:01.926280Z",
     "iopub.status.idle": "2022-05-12T11:24:01.929853Z",
     "shell.execute_reply": "2022-05-12T11:24:01.929412Z"
    },
    "tags": [
     "export"
    ]
   },
   "outputs": [],
   "source": [
    "@patch(LiteraryBuildApp)\n",
    "@default(\"exporter\")\n",
    "def _exporter_default(self):\n",
    "    return self.exporter_class(parent=self, config=self.config)"
   ]
  },
  {
   "cell_type": "markdown",
   "id": "d28f5482-5469-469a-a493-202766c764d4",
   "metadata": {},
   "source": [
    "The `generated_dir` directory should be resolved against the project path, so let's implement a getter."
   ]
  },
  {
   "cell_type": "code",
   "execution_count": 5,
   "id": "bee90241-7410-448a-8ed6-b5640254f7e5",
   "metadata": {
    "execution": {
     "iopub.execute_input": "2022-05-12T11:24:01.934692Z",
     "iopub.status.busy": "2022-05-12T11:24:01.934420Z",
     "iopub.status.idle": "2022-05-12T11:24:01.937567Z",
     "shell.execute_reply": "2022-05-12T11:24:01.937151Z"
    },
    "tags": [
     "export"
    ]
   },
   "outputs": [],
   "source": [
    "@patch(LiteraryBuildApp)\n",
    "@property\n",
    "def generated_path(self) -> Path:\n",
    "    return self.resolve_path(self.generated_dir)"
   ]
  },
  {
   "cell_type": "markdown",
   "id": "e8208519-f0b2-4cb9-b429-fa4e6f9bdc0d",
   "metadata": {},
   "source": [
    "By default, we want to ignore a number of different glob patterns to avoid bundling cache files etc."
   ]
  },
  {
   "cell_type": "code",
   "execution_count": 6,
   "id": "6a55f4ba-4cf9-4010-8b29-62c7fabb3466",
   "metadata": {
    "execution": {
     "iopub.execute_input": "2022-05-12T11:24:01.942709Z",
     "iopub.status.busy": "2022-05-12T11:24:01.942252Z",
     "iopub.status.idle": "2022-05-12T11:24:01.945842Z",
     "shell.execute_reply": "2022-05-12T11:24:01.945316Z"
    },
    "tags": [
     "export"
    ]
   },
   "outputs": [],
   "source": [
    "@patch(LiteraryBuildApp)\n",
    "@default(\"ignore_patterns\")\n",
    "def _ignore_patterns_default(self):\n",
    "    return list(DEFAULT_IGNORE_PATTERNS)"
   ]
  },
  {
   "cell_type": "markdown",
   "id": "9e414d2e-08f9-40b0-874c-e237931c7c30",
   "metadata": {},
   "source": [
    "We will build the package by recursively visiting all members of the source file system. Once we hit a notebook, we export it, whilst any non-ignored files are copied."
   ]
  },
  {
   "cell_type": "code",
   "execution_count": 7,
   "id": "medium-lebanon",
   "metadata": {
    "execution": {
     "iopub.execute_input": "2022-05-12T11:24:01.951738Z",
     "iopub.status.busy": "2022-05-12T11:24:01.951493Z",
     "iopub.status.idle": "2022-05-12T11:24:01.957847Z",
     "shell.execute_reply": "2022-05-12T11:24:01.957352Z"
    },
    "tags": [
     "export"
    ]
   },
   "outputs": [],
   "source": [
    "@patch(LiteraryBuildApp)\n",
    "def _build_package_component(\n",
    "    self,\n",
    "    source_dir_path: Path,\n",
    "    dest_dir_path: Path,\n",
    "):\n",
    "    \"\"\"Recursively build a pure-Python package from a source tree\n",
    "\n",
    "    :param source_dir_path: path to current source directory\n",
    "    :param dest_dir_path: path to current destination directory\n",
    "    :return:\n",
    "    \"\"\"\n",
    "    # Ensure we have a destination\n",
    "    dest_dir_path.mkdir(parents=True, exist_ok=True)\n",
    "\n",
    "    for path in source_dir_path.iterdir():\n",
    "        # Ignore any unwanted files or directories\n",
    "        if any(path.match(p) for p in self.ignore_patterns):\n",
    "            continue\n",
    "\n",
    "        # Do not visit lib, ever!\n",
    "        if path == self.generated_dir:\n",
    "            continue\n",
    "\n",
    "        # Find equivalent path in generated package\n",
    "        relative_path = path.relative_to(source_dir_path)\n",
    "        mirror_path = dest_dir_path / relative_path\n",
    "\n",
    "        # Rewrite notebook in target directory\n",
    "        if path.match(\"*.ipynb\"):\n",
    "            source, _ = self.exporter.from_notebook_node(\n",
    "                nbformat.read(path, as_version=nbformat.NO_CONVERT)\n",
    "            )\n",
    "            mirror_path.with_suffix(\".py\").write_text(source)\n",
    "\n",
    "        # Recurse into directory\n",
    "        elif path.is_dir():\n",
    "            self._build_package_component(path, mirror_path)\n",
    "\n",
    "        # Copy file directly\n",
    "        else:\n",
    "            mirror_path.write_bytes(path.read_bytes())"
   ]
  },
  {
   "cell_type": "markdown",
   "id": "64c85a35-1609-4d41-bf68-492e77a1bd79",
   "metadata": {},
   "source": [
    "Within the `packages_path`, we look for files and directories which become our generated set of packages. We call `build_package_component` for each found package."
   ]
  },
  {
   "cell_type": "code",
   "execution_count": 8,
   "id": "4671401e-5f73-4b93-b5cf-484099d3628e",
   "metadata": {
    "execution": {
     "iopub.execute_input": "2022-05-12T11:24:01.962460Z",
     "iopub.status.busy": "2022-05-12T11:24:01.962199Z",
     "iopub.status.idle": "2022-05-12T11:24:01.966039Z",
     "shell.execute_reply": "2022-05-12T11:24:01.965398Z"
    },
    "tags": [
     "export"
    ]
   },
   "outputs": [],
   "source": [
    "@patch(LiteraryBuildApp)\n",
    "def _build_packages(self):\n",
    "    \"\"\"Build the packages contained in `packages_path`.\"\"\"\n",
    "    self._build_package_component(self.packages_path, self.generated_path)"
   ]
  },
  {
   "cell_type": "markdown",
   "id": "39e78263-7e98-4b4a-809a-a67232b2a652",
   "metadata": {},
   "source": [
    "Before building, we need to clear the generated packages directory. Otherwise, renamed files would persist in the generation directory."
   ]
  },
  {
   "cell_type": "code",
   "execution_count": 9,
   "id": "fb39ec21-fb7c-4d15-b64e-78326174ff16",
   "metadata": {
    "execution": {
     "iopub.execute_input": "2022-05-12T11:24:01.970702Z",
     "iopub.status.busy": "2022-05-12T11:24:01.970430Z",
     "iopub.status.idle": "2022-05-12T11:24:01.974759Z",
     "shell.execute_reply": "2022-05-12T11:24:01.973982Z"
    },
    "tags": [
     "export"
    ]
   },
   "outputs": [],
   "source": [
    "@patch(LiteraryBuildApp)\n",
    "def _clear_generated_path(self):\n",
    "    \"\"\"Clear the contents of `generated_path`.\"\"\"\n",
    "    for p in self.generated_path.iterdir():\n",
    "        if not self.clear_generated:\n",
    "            raise ValueError(\n",
    "                \"Generated directory is not empty, and `clear_generated` is not set.\"\n",
    "            )\n",
    "\n",
    "        if p.is_file():\n",
    "            p.unlink()\n",
    "\n",
    "        else:\n",
    "            shutil.rmtree(p)"
   ]
  },
  {
   "cell_type": "markdown",
   "id": "52ce9980-780a-48b2-8d7f-efc8b75533c5",
   "metadata": {},
   "source": [
    "To perform a build, we simply call the aforementioned functions to clear the generated directory and build the list of packages."
   ]
  },
  {
   "cell_type": "code",
   "execution_count": 10,
   "id": "rising-pipeline",
   "metadata": {
    "execution": {
     "iopub.execute_input": "2022-05-12T11:24:01.979414Z",
     "iopub.status.busy": "2022-05-12T11:24:01.979127Z",
     "iopub.status.idle": "2022-05-12T11:24:01.983575Z",
     "shell.execute_reply": "2022-05-12T11:24:01.982868Z"
    },
    "tags": [
     "export"
    ]
   },
   "outputs": [],
   "source": [
    "@patch(LiteraryBuildApp)\n",
    "def start(self):\n",
    "    \"\"\"Build a pure-Python package from a literary source tree.\"\"\"\n",
    "    self.generated_path.mkdir(parents=True, exist_ok=True)\n",
    "\n",
    "    # Empty destination contents\n",
    "    self._clear_generated_path()\n",
    "\n",
    "    # We need a source package\n",
    "    if not self.packages_path.exists():\n",
    "        raise FileNotFoundError(f\"Source path {self.packages_path!r} does not exist\")\n",
    "\n",
    "    self._build_packages()"
   ]
  }
 ],
 "metadata": {
  "jupytext": {
   "cell_metadata_filter": "-all",
   "main_language": "python",
   "notebook_metadata_filter": "-all"
  },
  "kernelspec": {
   "display_name": "Python 3 (ipykernel)",
   "language": "python",
   "name": "python3"
  },
  "language_info": {
   "codemirror_mode": {
    "name": "ipython",
    "version": 3
   },
   "file_extension": ".py",
   "mimetype": "text/x-python",
   "name": "python",
   "nbconvert_exporter": "python",
   "pygments_lexer": "ipython3",
   "version": "3.10.4"
  }
 },
 "nbformat": 4,
 "nbformat_minor": 5
}

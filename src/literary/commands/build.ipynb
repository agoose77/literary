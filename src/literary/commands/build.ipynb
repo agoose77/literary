{
 "cells": [
  {
   "cell_type": "markdown",
   "id": "convenient-processor",
   "metadata": {
    "tags": [
     "docstring"
    ]
   },
   "source": [
    "# Build Package Command"
   ]
  },
  {
   "cell_type": "code",
   "execution_count": 1,
   "id": "forward-palestinian",
   "metadata": {
    "execution": {
     "iopub.execute_input": "2021-05-18T21:00:09.117153Z",
     "iopub.status.busy": "2021-05-18T21:00:09.116517Z",
     "iopub.status.idle": "2021-05-18T21:00:09.259881Z",
     "shell.execute_reply": "2021-05-18T21:00:09.258754Z"
    }
   },
   "outputs": [],
   "source": [
    "%load_ext literary.notebook"
   ]
  },
  {
   "cell_type": "code",
   "execution_count": 2,
   "id": "collect-playback",
   "metadata": {
    "execution": {
     "iopub.execute_input": "2021-05-18T21:00:09.269156Z",
     "iopub.status.busy": "2021-05-18T21:00:09.267692Z",
     "iopub.status.idle": "2021-05-18T21:00:09.274681Z",
     "shell.execute_reply": "2021-05-18T21:00:09.275185Z"
    },
    "tags": [
     "export"
    ]
   },
   "outputs": [],
   "source": [
    "from pathlib import Path\n",
    "\n",
    "from traitlets import List, Unicode, default\n",
    "\n",
    "from ..core.package import PackageBuilder\n",
    "from .app import LiteraryApp"
   ]
  },
  {
   "cell_type": "code",
   "execution_count": 3,
   "id": "owned-bleeding",
   "metadata": {
    "execution": {
     "iopub.execute_input": "2021-05-18T21:00:09.280688Z",
     "iopub.status.busy": "2021-05-18T21:00:09.280046Z",
     "iopub.status.idle": "2021-05-18T21:00:09.281744Z",
     "shell.execute_reply": "2021-05-18T21:00:09.282245Z"
    },
    "tags": [
     "export"
    ]
   },
   "outputs": [],
   "source": [
    "class LiteraryBuildApp(LiteraryApp):\n",
    "    description = \"Build a pure-Python package from a set of Jupyter notebooks\"\n",
    "    aliases = {\n",
    "        **LiteraryApp.aliases,\n",
    "        \"ignore\": \"PackageBuilder.ignore_patterns\",\n",
    "        \"output\": \"PackageBuilder.generated_dir\",\n",
    "        \"packages\": \"PackageBuilder.packages_dir\",\n",
    "    }\n",
    "    flags = {\n",
    "        \"clear\": (\n",
    "            {\"PackageBuilder\": {\"clear_generated\": True}},\n",
    "            \"Clear generated directory before building.\",\n",
    "        )\n",
    "    }\n",
    "\n",
    "    def start(self):\n",
    "        builder = PackageBuilder(parent=self)\n",
    "        builder.build()"
   ]
  }
 ],
 "metadata": {
  "jupytext": {
   "cell_metadata_filter": "-all",
   "main_language": "python",
   "notebook_metadata_filter": "-all"
  },
  "kernelspec": {
   "display_name": "Python 3",
   "language": "python",
   "name": "python3"
  },
  "language_info": {
   "codemirror_mode": {
    "name": "ipython",
    "version": 3
   },
   "file_extension": ".py",
   "mimetype": "text/x-python",
   "name": "python",
   "nbconvert_exporter": "python",
   "pygments_lexer": "ipython3",
   "version": "3.9.0"
  }
 },
 "nbformat": 4,
 "nbformat_minor": 5
}

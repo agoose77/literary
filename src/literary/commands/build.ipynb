{
 "cells": [
  {
   "cell_type": "markdown",
   "id": "convenient-processor",
   "metadata": {
    "tags": [
     "docstring"
    ]
   },
   "source": [
    "# Build Package Command"
   ]
  },
  {
   "cell_type": "code",
   "execution_count": 3,
   "id": "forward-palestinian",
   "metadata": {},
   "outputs": [],
   "source": [
    "%load_ext literary.notebook"
   ]
  },
  {
   "cell_type": "code",
   "execution_count": null,
   "id": "collect-playback",
   "metadata": {
    "tags": [
     "export"
    ]
   },
   "outputs": [],
   "source": [
    "import pathlib\n",
    "\n",
    "from jupyter_core.application import JupyterApp\n",
    "from traitlets import default, Unicode, List\n",
    "\n",
    "from ..core.config import CONFIG_FILE_NAME\n",
    "from ..core.package import build_package"
   ]
  },
  {
   "cell_type": "code",
   "execution_count": null,
   "id": "owned-bleeding",
   "metadata": {
    "tags": [
     "export"
    ]
   },
   "outputs": [],
   "source": [
    "class LiteraryBuildApp(JupyterApp):\n",
    "    name = \"literary build\"\n",
    "    description = \"Build a pure-Python package from a set of Jupyter notebooks\"\n",
    "    aliases = {\n",
    "        **JupyterApp.aliases,\n",
    "        \"source\": \"LiteraryBuildApp.source\",\n",
    "        \"package\": \"LiteraryBuildApp.package\",\n",
    "        \"ignore\": \"LiteraryBuildApp.ignore\",\n",
    "    }\n",
    "\n",
    "    source = Unicode(help=\"source directory for notebooks\").tag(config=True)\n",
    "    package = Unicode(help=\"destination path generated package\").tag(config=True)\n",
    "    ignore = List(help=\"glob pattern to ignore during recursion\", trait=Unicode()).tag(\n",
    "        config=True\n",
    "    )\n",
    "\n",
    "    @default(\"config_file_name\")\n",
    "    def _config_file_name_default(self):\n",
    "        return CONFIG_FILE_NAME\n",
    "\n",
    "    def start(self):\n",
    "        if not self.source:\n",
    "            raise ValueError(f\"Missing source path\")\n",
    "\n",
    "        source = pathlib.Path(self.source)\n",
    "        if not self.package:\n",
    "            raise ValueError(f\"Missing package path\")\n",
    "        package = pathlib.Path(self.package)\n",
    "\n",
    "        build_package(source, package, self.ignore)"
   ]
  }
 ],
 "metadata": {
  "jupytext": {
   "cell_metadata_filter": "-all",
   "main_language": "python",
   "notebook_metadata_filter": "-all"
  },
  "kernelspec": {
   "display_name": "Python 3",
   "language": "python",
   "name": "python3"
  },
  "language_info": {
   "codemirror_mode": {
    "name": "ipython",
    "version": 3
   },
   "file_extension": ".py",
   "mimetype": "text/x-python",
   "name": "python",
   "nbconvert_exporter": "python",
   "pygments_lexer": "ipython3",
   "version": "3.9.0"
  }
 },
 "nbformat": 4,
 "nbformat_minor": 5
}

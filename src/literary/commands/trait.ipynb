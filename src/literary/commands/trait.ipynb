{
 "cells": [
  {
   "cell_type": "markdown",
   "id": "b0d942dd-f9f4-4bdc-a942-999365d472e4",
   "metadata": {},
   "source": [
    "# Traits"
   ]
  },
  {
   "cell_type": "code",
   "execution_count": 1,
   "id": "a8dccafa-b3d7-44d0-819a-62424c3080d8",
   "metadata": {
    "execution": {
     "iopub.execute_input": "2021-05-18T21:00:32.797606Z",
     "iopub.status.busy": "2021-05-18T21:00:32.796632Z",
     "iopub.status.idle": "2021-05-18T21:00:32.934708Z",
     "shell.execute_reply": "2021-05-18T21:00:32.934168Z"
    }
   },
   "outputs": [],
   "source": [
    "%load_ext literary.module"
   ]
  },
  {
   "cell_type": "code",
   "execution_count": 2,
   "id": "8f876794-8f60-4f95-b653-cb4cccaed292",
   "metadata": {
    "execution": {
     "iopub.execute_input": "2021-05-18T21:00:32.938393Z",
     "iopub.status.busy": "2021-05-18T21:00:32.937795Z",
     "iopub.status.idle": "2021-05-18T21:00:32.940663Z",
     "shell.execute_reply": "2021-05-18T21:00:32.940054Z"
    },
    "tags": [
     "export"
    ]
   },
   "outputs": [],
   "source": [
    "import traitlets\n",
    "import pathlib"
   ]
  },
  {
   "cell_type": "code",
   "execution_count": 3,
   "id": "0a98271c-60e6-45ab-a136-06301a9b2244",
   "metadata": {
    "execution": {
     "iopub.execute_input": "2021-05-18T21:00:32.946246Z",
     "iopub.status.busy": "2021-05-18T21:00:32.945576Z",
     "iopub.status.idle": "2021-05-18T21:00:32.948816Z",
     "shell.execute_reply": "2021-05-18T21:00:32.948274Z"
    },
    "tags": [
     "export"
    ]
   },
   "outputs": [],
   "source": [
    "class Path(traitlets.TraitType):\n",
    "    \"\"\"A pathlib.Path trait class\"\"\"\n",
    "    def validate(self, obj, value):\n",
    "        try:\n",
    "            return pathlib.Path(value)\n",
    "        except TypeError:\n",
    "            self.error(obj, value)"
   ]
  }
 ],
 "metadata": {
  "kernelspec": {
   "display_name": "Python 3 (ipykernel)",
   "language": "python",
   "name": "python3"
  },
  "language_info": {
   "codemirror_mode": {
    "name": "ipython",
    "version": 3
   },
   "file_extension": ".py",
   "mimetype": "text/x-python",
   "name": "python",
   "nbconvert_exporter": "python",
   "pygments_lexer": "ipython3",
   "version": "3.10.4"
  }
 },
 "nbformat": 4,
 "nbformat_minor": 5
}

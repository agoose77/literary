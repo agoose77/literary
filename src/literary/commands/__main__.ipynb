{
 "cells": [
  {
   "cell_type": "markdown",
   "id": "solar-necessity",
   "metadata": {
    "tags": [
     "docstring"
    ]
   },
   "source": [
    "# Commandline Application"
   ]
  },
  {
   "cell_type": "code",
   "execution_count": 1,
   "id": "charming-harassment",
   "metadata": {
    "execution": {
     "iopub.execute_input": "2021-05-18T21:00:13.513196Z",
     "iopub.status.busy": "2021-05-18T21:00:13.512587Z",
     "iopub.status.idle": "2021-05-18T21:00:13.648972Z",
     "shell.execute_reply": "2021-05-18T21:00:13.649946Z"
    }
   },
   "outputs": [],
   "source": [
    "%load_ext literary.module"
   ]
  },
  {
   "cell_type": "code",
   "execution_count": 2,
   "id": "informed-raise",
   "metadata": {
    "execution": {
     "iopub.execute_input": "2021-05-18T21:00:13.655795Z",
     "iopub.status.busy": "2021-05-18T21:00:13.654549Z",
     "iopub.status.idle": "2021-05-18T21:00:13.662259Z",
     "shell.execute_reply": "2021-05-18T21:00:13.662730Z"
    },
    "tags": [
     "export"
    ]
   },
   "outputs": [],
   "source": [
    "import sys\n",
    "\n",
    "from traitlets import default\n",
    "from traitlets.config import Application\n",
    "\n",
    "from .build import LiteraryBuildApp\n",
    "from .test import LiteraryTestApp"
   ]
  },
  {
   "cell_type": "code",
   "execution_count": 3,
   "id": "imported-thickness",
   "metadata": {
    "execution": {
     "iopub.execute_input": "2021-05-18T21:00:13.669139Z",
     "iopub.status.busy": "2021-05-18T21:00:13.668540Z",
     "iopub.status.idle": "2021-05-18T21:00:13.670479Z",
     "shell.execute_reply": "2021-05-18T21:00:13.671128Z"
    },
    "tags": [
     "export"
    ]
   },
   "outputs": [],
   "source": [
    "class LiteraryLauncher(Application):\n",
    "    description = \"Work with literate notebooks\"\n",
    "    subcommands = {\n",
    "        \"build\": (LiteraryBuildApp, \"Build a package from a series of notebooks\"),\n",
    "        \"test\": (LiteraryTestApp, \"Run a series of notebook tests\"),\n",
    "    }\n",
    "\n",
    "    def start(self):\n",
    "        \"\"\"Perform the App's actions as configured\"\"\"\n",
    "        super().start()\n",
    "        \n",
    "        if self.subapp is None:\n",
    "            sub_commands = \", \".join(sorted(self.subcommands))\n",
    "            sys.exit(\"Please supply at least one subcommand: {}\".format(sub_commands))"
   ]
  },
  {
   "cell_type": "code",
   "execution_count": 4,
   "id": "sustainable-archive",
   "metadata": {
    "execution": {
     "iopub.execute_input": "2021-05-18T21:00:13.676540Z",
     "iopub.status.busy": "2021-05-18T21:00:13.675210Z",
     "iopub.status.idle": "2021-05-18T21:00:13.677853Z",
     "shell.execute_reply": "2021-05-18T21:00:13.678926Z"
    },
    "tags": [
     "export"
    ]
   },
   "outputs": [],
   "source": [
    "launch_new_instance = LiteraryLauncher.launch_instance"
   ]
  },
  {
   "cell_type": "code",
   "execution_count": 3,
   "id": "7cd5310f-b1a4-4926-b909-b736e37d839c",
   "metadata": {
    "execution": {
     "iopub.execute_input": "2021-05-18T21:00:14.973332Z",
     "iopub.status.busy": "2021-05-18T21:00:14.971745Z",
     "iopub.status.idle": "2021-05-18T21:00:14.974742Z",
     "shell.execute_reply": "2021-05-18T21:00:14.975885Z"
    },
    "tags": [
     "export"
    ]
   },
   "outputs": [],
   "source": [
    "if __name__ == \"__main__\" and not LiteraryLauncher.initialized():\n",
    "    launch_new_instance()"
   ]
  }
 ],
 "metadata": {
  "jupytext": {
   "cell_metadata_filter": "-all",
   "main_language": "python",
   "notebook_metadata_filter": "-all"
  },
  "kernelspec": {
   "display_name": "Python 3 (ipykernel)",
   "language": "python",
   "name": "python3"
  },
  "language_info": {
   "codemirror_mode": {
    "name": "ipython",
    "version": 3
   },
   "file_extension": ".py",
   "mimetype": "text/x-python",
   "name": "python",
   "nbconvert_exporter": "python",
   "pygments_lexer": "ipython3",
   "version": "3.10.4"
  }
 },
 "nbformat": 4,
 "nbformat_minor": 5
}

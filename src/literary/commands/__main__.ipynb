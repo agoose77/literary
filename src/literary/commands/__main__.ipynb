{
 "cells": [
  {
   "cell_type": "markdown",
   "id": "mediterranean-ministry",
   "metadata": {
    "tags": [
     "docstring"
    ]
   },
   "source": [
    "# Entrypoint"
   ]
  },
  {
   "cell_type": "code",
   "execution_count": 1,
   "id": "swiss-address",
   "metadata": {
    "execution": {
     "iopub.execute_input": "2021-05-18T15:07:07.845143Z",
     "iopub.status.busy": "2021-05-18T15:07:07.843873Z",
     "iopub.status.idle": "2021-05-18T15:07:07.976394Z",
     "shell.execute_reply": "2021-05-18T15:07:07.975255Z"
    }
   },
   "outputs": [],
   "source": [
    "%load_ext literary.notebook"
   ]
  },
  {
   "cell_type": "code",
   "execution_count": 2,
   "id": "advance-flavor",
   "metadata": {
    "execution": {
     "iopub.execute_input": "2021-05-18T15:07:07.982003Z",
     "iopub.status.busy": "2021-05-18T15:07:07.980815Z",
     "iopub.status.idle": "2021-05-18T15:07:08.652486Z",
     "shell.execute_reply": "2021-05-18T15:07:08.651365Z"
    },
    "tags": [
     "export"
    ]
   },
   "outputs": [],
   "source": [
    "from .launcher import LiteraryLauncher, launch_new_instance"
   ]
  },
  {
   "cell_type": "code",
   "execution_count": 3,
   "id": "binary-economy",
   "metadata": {
    "execution": {
     "iopub.execute_input": "2021-05-18T15:07:08.658123Z",
     "iopub.status.busy": "2021-05-18T15:07:08.656826Z",
     "iopub.status.idle": "2021-05-18T15:07:08.660553Z",
     "shell.execute_reply": "2021-05-18T15:07:08.659525Z"
    },
    "tags": [
     "export"
    ]
   },
   "outputs": [],
   "source": [
    "if __name__ == \"__main__\" and not LiteraryLauncher.initialized():\n",
    "    launch_new_instance()"
   ]
  }
 ],
 "metadata": {
  "jupytext": {
   "cell_metadata_filter": "-all",
   "main_language": "python",
   "notebook_metadata_filter": "-all"
  },
  "kernelspec": {
   "display_name": "Python 3",
   "language": "python",
   "name": "python3"
  },
  "language_info": {
   "codemirror_mode": {
    "name": "ipython",
    "version": 3
   },
   "file_extension": ".py",
   "mimetype": "text/x-python",
   "name": "python",
   "nbconvert_exporter": "python",
   "pygments_lexer": "ipython3",
   "version": "3.9.0"
  }
 },
 "nbformat": 4,
 "nbformat_minor": 5
}

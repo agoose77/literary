{
 "cells": [
  {
   "cell_type": "markdown",
   "id": "mediterranean-ministry",
   "metadata": {
    "tags": [
     "docstring"
    ]
   },
   "source": [
    "# Entrypoint"
   ]
  },
  {
   "cell_type": "code",
   "execution_count": 1,
   "id": "swiss-address",
   "metadata": {
    "execution": {
     "iopub.execute_input": "2021-05-17T16:23:55.162045Z",
     "iopub.status.busy": "2021-05-17T16:23:55.160711Z",
     "iopub.status.idle": "2021-05-17T16:23:55.312870Z",
     "shell.execute_reply": "2021-05-17T16:23:55.313973Z"
    }
   },
   "outputs": [],
   "source": [
    "%load_ext literary.notebook"
   ]
  },
  {
   "cell_type": "code",
   "execution_count": 2,
   "id": "advance-flavor",
   "metadata": {
    "execution": {
     "iopub.execute_input": "2021-05-17T16:23:55.320552Z",
     "iopub.status.busy": "2021-05-17T16:23:55.319925Z",
     "iopub.status.idle": "2021-05-17T16:23:55.893940Z",
     "shell.execute_reply": "2021-05-17T16:23:55.892783Z"
    },
    "tags": [
     "export"
    ]
   },
   "outputs": [],
   "source": [
    "from .launcher import LiteraryLauncherApp, launch_new_instance"
   ]
  },
  {
   "cell_type": "code",
   "execution_count": 3,
   "id": "binary-economy",
   "metadata": {
    "execution": {
     "iopub.execute_input": "2021-05-17T16:23:55.899725Z",
     "iopub.status.busy": "2021-05-17T16:23:55.898450Z",
     "iopub.status.idle": "2021-05-17T16:23:55.900611Z",
     "shell.execute_reply": "2021-05-17T16:23:55.901195Z"
    },
    "tags": [
     "export"
    ]
   },
   "outputs": [],
   "source": [
    "if __name__ == \"__main__\" and not LiteraryLauncherApp.initialized():\n",
    "    launch_new_instance()"
   ]
  }
 ],
 "metadata": {
  "jupytext": {
   "cell_metadata_filter": "-all",
   "main_language": "python",
   "notebook_metadata_filter": "-all"
  },
  "kernelspec": {
   "display_name": "Python 3",
   "language": "python",
   "name": "python3"
  },
  "language_info": {
   "codemirror_mode": {
    "name": "ipython",
    "version": 3
   },
   "file_extension": ".py",
   "mimetype": "text/x-python",
   "name": "python",
   "nbconvert_exporter": "python",
   "pygments_lexer": "ipython3",
   "version": "3.9.0"
  }
 },
 "nbformat": 4,
 "nbformat_minor": 5
}

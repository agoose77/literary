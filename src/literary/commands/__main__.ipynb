{
 "cells": [
  {
   "cell_type": "markdown",
   "id": "mediterranean-ministry",
   "metadata": {
    "tags": [
     "docstring"
    ]
   },
   "source": [
    "# Entrypoint"
   ]
  },
  {
   "cell_type": "code",
   "execution_count": 1,
   "id": "swiss-address",
   "metadata": {
    "execution": {
     "iopub.execute_input": "2021-05-18T21:00:14.796299Z",
     "iopub.status.busy": "2021-05-18T21:00:14.795249Z",
     "iopub.status.idle": "2021-05-18T21:00:14.949840Z",
     "shell.execute_reply": "2021-05-18T21:00:14.948801Z"
    }
   },
   "outputs": [],
   "source": [
    "%load_ext literary.notebook"
   ]
  },
  {
   "cell_type": "code",
   "execution_count": 2,
   "id": "advance-flavor",
   "metadata": {
    "execution": {
     "iopub.execute_input": "2021-05-18T21:00:14.955483Z",
     "iopub.status.busy": "2021-05-18T21:00:14.954285Z",
     "iopub.status.idle": "2021-05-18T21:00:14.966761Z",
     "shell.execute_reply": "2021-05-18T21:00:14.966100Z"
    },
    "tags": [
     "export"
    ]
   },
   "outputs": [],
   "source": [
    "from .launcher import LiteraryLauncher, launch_new_instance"
   ]
  },
  {
   "cell_type": "code",
   "execution_count": 3,
   "id": "binary-economy",
   "metadata": {
    "execution": {
     "iopub.execute_input": "2021-05-18T21:00:14.973332Z",
     "iopub.status.busy": "2021-05-18T21:00:14.971745Z",
     "iopub.status.idle": "2021-05-18T21:00:14.974742Z",
     "shell.execute_reply": "2021-05-18T21:00:14.975885Z"
    },
    "tags": [
     "export"
    ]
   },
   "outputs": [],
   "source": [
    "if __name__ == \"__main__\" and not LiteraryLauncher.initialized():\n",
    "    launch_new_instance()"
   ]
  }
 ],
 "metadata": {
  "jupytext": {
   "cell_metadata_filter": "-all",
   "main_language": "python",
   "notebook_metadata_filter": "-all"
  },
  "kernelspec": {
   "display_name": "Python 3",
   "language": "python",
   "name": "python3"
  },
  "language_info": {
   "codemirror_mode": {
    "name": "ipython",
    "version": 3
   },
   "file_extension": ".py",
   "mimetype": "text/x-python",
   "name": "python",
   "nbconvert_exporter": "python",
   "pygments_lexer": "ipython3",
   "version": "3.9.0"
  }
 },
 "nbformat": 4,
 "nbformat_minor": 5
}

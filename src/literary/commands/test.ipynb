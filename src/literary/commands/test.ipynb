{
 "cells": [
  {
   "cell_type": "markdown",
   "id": "premium-israel",
   "metadata": {
    "tags": [
     "docstring"
    ]
   },
   "source": [
    "# Test Package Command"
   ]
  },
  {
   "cell_type": "code",
   "execution_count": 3,
   "id": "quantitative-association",
   "metadata": {
    "tags": []
   },
   "outputs": [],
   "source": [
    "%load_ext literary.notebook"
   ]
  },
  {
   "cell_type": "code",
   "execution_count": null,
   "id": "christian-pearl",
   "metadata": {
    "tags": [
     "export"
    ]
   },
   "outputs": [],
   "source": [
    "import logging\n",
    "import pathlib\n",
    "from concurrent import futures\n",
    "\n",
    "from jupyter_core.application import JupyterApp\n",
    "from traitlets import Int, List, Unicode, default\n",
    "\n",
    "from .. import testing\n",
    "from ..config import CONFIG_FILE_NAME"
   ]
  },
  {
   "cell_type": "code",
   "execution_count": null,
   "id": "valued-probability",
   "metadata": {
    "tags": [
     "export"
    ]
   },
   "outputs": [],
   "source": [
    "logger = logging.getLogger(__name__)"
   ]
  },
  {
   "cell_type": "code",
   "execution_count": null,
   "id": "fundamental-october",
   "metadata": {
    "tags": [
     "export"
    ]
   },
   "outputs": [],
   "source": [
    "DEFAULT_IGNORE_PATTERNS = (\".ipynb_checkpoints\",)"
   ]
  },
  {
   "cell_type": "code",
   "execution_count": null,
   "id": "western-wyoming",
   "metadata": {
    "tags": [
     "export"
    ]
   },
   "outputs": [],
   "source": [
    "def _patch_nbclient_exceptions():\n",
    "    \"\"\"Shim to patch nbclient exception pickling\"\"\"\n",
    "    import nbclient.exceptions as exc\n",
    "\n",
    "    # Fix https://github.com/jupyter/nbclient/issues/121\n",
    "    def reduce_CellExecutionError(self):\n",
    "        return type(self), (self.traceback, self.ename, self.evalue)\n",
    "\n",
    "    exc.CellExecutionError.__reduce__ = reduce_CellExecutionError"
   ]
  },
  {
   "cell_type": "code",
   "execution_count": null,
   "id": "affected-substance",
   "metadata": {
    "tags": [
     "export"
    ]
   },
   "outputs": [],
   "source": [
    "def find_notebooks(path, ignore_patterns=None):\n",
    "    \"\"\"Find notebooks given by a particular path.\n",
    "\n",
    "    If the path is a directory, yield from the result of calling find_notebooks` with\n",
    "    the directory path.\n",
    "    If the path is a notebook file path, yield the path directly\n",
    "\n",
    "    :param path: path to a file or directory\n",
    "    :param ignore_patterns: set of patterns to ignore during recursion\n",
    "    :return:\n",
    "    \"\"\"\n",
    "    if ignore_patterns is None:\n",
    "        ignore_patterns = DEFAULT_IGNORE_PATTERNS\n",
    "\n",
    "    if path.is_dir():\n",
    "        for p in path.iterdir():\n",
    "            # Ignore certain files and directories e.g. .ipynb_checkpoints\n",
    "            if any(path.match(p) for p in ignore_patterns):\n",
    "                continue\n",
    "\n",
    "            yield from find_notebooks(p, ignore_patterns)\n",
    "\n",
    "    elif path.match(\"*.ipynb\"):\n",
    "        yield path"
   ]
  },
  {
   "cell_type": "code",
   "execution_count": null,
   "id": "handed-invitation",
   "metadata": {
    "tags": [
     "export"
    ]
   },
   "outputs": [],
   "source": [
    "class LiteraryTestApp(JupyterApp):\n",
    "    name = \"literary test\"\n",
    "    description = \"Test literary notebooks in parallel\"\n",
    "    aliases = {\n",
    "        **JupyterApp.aliases,\n",
    "        \"source\": \"LiteraryTestApp.source\",\n",
    "        \"jobs\": \"LiteraryTestApp.jobs\",\n",
    "        \"ignore\": \"LiteraryTestApp.ignore\",\n",
    "    }\n",
    "\n",
    "    source = List(trait=Unicode(help=\"source directory or notebooks to run\")).tag(\n",
    "        config=True\n",
    "    )\n",
    "    jobs = Int(\n",
    "        allow_none=True, default_value=None, help=\"number of parallel jobs to run\"\n",
    "    ).tag(config=True)\n",
    "    ignore = List(help=\"glob pattern to ignore during recursion\", trait=Unicode()).tag(\n",
    "        config=True\n",
    "    )\n",
    "\n",
    "    @default(\"config_file_name\")\n",
    "    def _config_file_name_default(self):\n",
    "        return CONFIG_FILE_NAME\n",
    "\n",
    "    def start(self):\n",
    "        if not self.source:\n",
    "            raise ValueError(f\"Missing source path(s)\")\n",
    "\n",
    "        source = [pathlib.Path(s) for s in self.source]\n",
    "        paths = [p.resolve() for s in source for p in find_notebooks(s, self.ignore)]\n",
    "\n",
    "        with futures.ProcessPoolExecutor(\n",
    "            max_workers=self.jobs, initializer=_patch_nbclient_exceptions\n",
    "        ) as executor:\n",
    "            tasks = [executor.submit(testing.run_notebook, p) for p in paths]\n",
    "            for task in futures.as_completed(tasks):\n",
    "                task.result()"
   ]
  }
 ],
 "metadata": {
  "jupytext": {
   "cell_metadata_filter": "-all",
   "main_language": "python",
   "notebook_metadata_filter": "-all"
  },
  "kernelspec": {
   "display_name": "Python 3",
   "language": "python",
   "name": "python3"
  },
  "language_info": {
   "codemirror_mode": {
    "name": "ipython",
    "version": 3
   },
   "file_extension": ".py",
   "mimetype": "text/x-python",
   "name": "python",
   "nbconvert_exporter": "python",
   "pygments_lexer": "ipython3",
   "version": "3.9.0"
  }
 },
 "nbformat": 4,
 "nbformat_minor": 5
}

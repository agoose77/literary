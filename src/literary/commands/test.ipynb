{
 "cells": [
  {
   "cell_type": "markdown",
   "id": "universal-invite",
   "metadata": {
    "tags": [
     "docstring"
    ]
   },
   "source": [
    "# Test Package Command"
   ]
  },
  {
   "cell_type": "code",
   "execution_count": 1,
   "id": "quick-success",
   "metadata": {
    "execution": {
     "iopub.execute_input": "2021-05-18T21:00:16.096645Z",
     "iopub.status.busy": "2021-05-18T21:00:16.096031Z",
     "iopub.status.idle": "2021-05-18T21:00:16.235876Z",
     "shell.execute_reply": "2021-05-18T21:00:16.236867Z"
    },
    "tags": []
   },
   "outputs": [],
   "source": [
    "%load_ext literary.module"
   ]
  },
  {
   "cell_type": "code",
   "execution_count": 2,
   "id": "cognitive-active",
   "metadata": {
    "execution": {
     "iopub.execute_input": "2021-05-18T21:00:16.242805Z",
     "iopub.status.busy": "2021-05-18T21:00:16.241599Z",
     "iopub.status.idle": "2021-05-18T21:00:16.249456Z",
     "shell.execute_reply": "2021-05-18T21:00:16.250418Z"
    },
    "tags": [
     "export"
    ]
   },
   "outputs": [],
   "source": [
    "import logging\n",
    "from concurrent.futures import ProcessPoolExecutor\n",
    "from pathlib import Path\n",
    "\n",
    "from traitlets import Int, List, Unicode, default\n",
    "\n",
    "from ..core.test import ProjectTester\n",
    "from .app import LiteraryApp"
   ]
  },
  {
   "cell_type": "code",
   "execution_count": 3,
   "id": "welcome-heritage",
   "metadata": {
    "execution": {
     "iopub.execute_input": "2021-05-18T21:00:16.257010Z",
     "iopub.status.busy": "2021-05-18T21:00:16.256413Z",
     "iopub.status.idle": "2021-05-18T21:00:16.258316Z",
     "shell.execute_reply": "2021-05-18T21:00:16.258823Z"
    },
    "tags": [
     "export"
    ]
   },
   "outputs": [],
   "source": [
    "class LiteraryTestApp(LiteraryApp):\n",
    "    description = \"Test literary notebooks in parallel\"\n",
    "    aliases = {\n",
    "        **LiteraryApp.aliases,\n",
    "        \"ignore\": \"ProjectTester.ignore_patterns\",\n",
    "        \"jobs\": \"ProjectTester.jobs\",\n",
    "        \"packages\": \"ProjectTester.packages_dir\",\n",
    "        \"extras\": \"ProjectTester.extra_sources\"\n",
    "    }\n",
    "\n",
    "    source = List(trait=Unicode(help=\"source directory or notebooks to run\")).tag(\n",
    "        config=True\n",
    "    )\n",
    "    jobs = Int(\n",
    "        allow_none=True, default_value=None, help=\"number of parallel jobs to run\"\n",
    "    ).tag(config=True)\n",
    "    ignore = List(help=\"glob pattern to ignore during recursion\", trait=Unicode()).tag(\n",
    "        config=True\n",
    "    )\n",
    "\n",
    "    def start(self):\n",
    "        tester = ProjectTester(parent=self)\n",
    "        tester.run()"
   ]
  }
 ],
 "metadata": {
  "jupytext": {
   "cell_metadata_filter": "-all",
   "main_language": "python",
   "notebook_metadata_filter": "-all"
  },
  "kernelspec": {
   "display_name": "Python 3",
   "language": "python",
   "name": "python3"
  },
  "language_info": {
   "codemirror_mode": {
    "name": "ipython",
    "version": 3
   },
   "file_extension": ".py",
   "mimetype": "text/x-python",
   "name": "python",
   "nbconvert_exporter": "python",
   "pygments_lexer": "ipython3",
   "version": "3.9.0"
  }
 },
 "nbformat": 4,
 "nbformat_minor": 5
}

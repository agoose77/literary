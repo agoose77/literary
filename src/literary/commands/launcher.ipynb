{
 "cells": [
  {
   "cell_type": "markdown",
   "id": "solar-necessity",
   "metadata": {
    "tags": [
     "docstring"
    ]
   },
   "source": [
    "# Commandline Application"
   ]
  },
  {
   "cell_type": "code",
   "execution_count": 1,
   "id": "charming-harassment",
   "metadata": {
    "execution": {
     "iopub.execute_input": "2021-05-18T15:07:05.870083Z",
     "iopub.status.busy": "2021-05-18T15:07:05.869450Z",
     "iopub.status.idle": "2021-05-18T15:07:06.003451Z",
     "shell.execute_reply": "2021-05-18T15:07:06.002413Z"
    }
   },
   "outputs": [],
   "source": [
    "%load_ext literary.notebook"
   ]
  },
  {
   "cell_type": "code",
   "execution_count": 2,
   "id": "informed-raise",
   "metadata": {
    "execution": {
     "iopub.execute_input": "2021-05-18T15:07:06.009941Z",
     "iopub.status.busy": "2021-05-18T15:07:06.008653Z",
     "iopub.status.idle": "2021-05-18T15:07:06.635430Z",
     "shell.execute_reply": "2021-05-18T15:07:06.634419Z"
    },
    "tags": [
     "export"
    ]
   },
   "outputs": [],
   "source": [
    "import sys\n",
    "\n",
    "from traitlets import default\n",
    "from traitlets.config import Application\n",
    "\n",
    "from .build import LiteraryBuildApp\n",
    "from .test import LiteraryTestApp"
   ]
  },
  {
   "cell_type": "code",
   "execution_count": 3,
   "id": "imported-thickness",
   "metadata": {
    "execution": {
     "iopub.execute_input": "2021-05-18T15:07:06.643444Z",
     "iopub.status.busy": "2021-05-18T15:07:06.642026Z",
     "iopub.status.idle": "2021-05-18T15:07:06.644695Z",
     "shell.execute_reply": "2021-05-18T15:07:06.645223Z"
    },
    "tags": [
     "export"
    ]
   },
   "outputs": [],
   "source": [
    "class LiteraryLauncher(Application):\n",
    "    description = \"Work with literate notebooks\"\n",
    "    subcommands = {\n",
    "        \"build\": (LiteraryBuildApp, \"Build a package from a series of notebooks\"),\n",
    "        \"test\": (LiteraryTestApp, \"Run a series of notebook tests\"),\n",
    "    }\n",
    "\n",
    "    def start(self):\n",
    "        \"\"\"Perform the App's actions as configured\"\"\"\n",
    "        super().start()\n",
    "        \n",
    "        if self.subapp is None:\n",
    "            sub_commands = \", \".join(sorted(self.subcommands))\n",
    "            sys.exit(\"Please supply at least one subcommand: {}\".format(sub_commands))"
   ]
  },
  {
   "cell_type": "code",
   "execution_count": 4,
   "id": "sustainable-archive",
   "metadata": {
    "execution": {
     "iopub.execute_input": "2021-05-18T15:07:06.649146Z",
     "iopub.status.busy": "2021-05-18T15:07:06.648545Z",
     "iopub.status.idle": "2021-05-18T15:07:06.651558Z",
     "shell.execute_reply": "2021-05-18T15:07:06.650952Z"
    },
    "tags": [
     "export"
    ]
   },
   "outputs": [],
   "source": [
    "launch_new_instance = LiteraryLauncher.launch_instance"
   ]
  }
 ],
 "metadata": {
  "jupytext": {
   "cell_metadata_filter": "-all",
   "main_language": "python",
   "notebook_metadata_filter": "-all"
  },
  "kernelspec": {
   "display_name": "Python 3",
   "language": "python",
   "name": "python3"
  },
  "language_info": {
   "codemirror_mode": {
    "name": "ipython",
    "version": 3
   },
   "file_extension": ".py",
   "mimetype": "text/x-python",
   "name": "python",
   "nbconvert_exporter": "python",
   "pygments_lexer": "ipython3",
   "version": "3.9.0"
  }
 },
 "nbformat": 4,
 "nbformat_minor": 5
}

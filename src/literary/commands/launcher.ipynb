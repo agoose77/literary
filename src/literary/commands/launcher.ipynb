{
 "cells": [
  {
   "cell_type": "markdown",
   "id": "solar-necessity",
   "metadata": {
    "tags": [
     "docstring"
    ]
   },
   "source": [
    "# Commandline Application"
   ]
  },
  {
   "cell_type": "code",
   "execution_count": 1,
   "id": "charming-harassment",
   "metadata": {},
   "outputs": [],
   "source": [
    "%load_ext literary.notebook"
   ]
  },
  {
   "cell_type": "code",
   "execution_count": 2,
   "id": "informed-raise",
   "metadata": {
    "tags": [
     "export"
    ]
   },
   "outputs": [],
   "source": [
    "import sys\n",
    "\n",
    "from traitlets import default\n",
    "from traitlets.config import Application\n",
    "\n",
    "from .build import LiteraryBuildApp\n",
    "from .test import LiteraryTestApp"
   ]
  },
  {
   "cell_type": "code",
   "execution_count": 3,
   "id": "imported-thickness",
   "metadata": {
    "tags": [
     "export"
    ]
   },
   "outputs": [],
   "source": [
    "class LiteraryLauncher(Application):\n",
    "    description = \"Work with literate notebooks\"\n",
    "    subcommands = {\n",
    "        \"build\": (LiteraryBuildApp, \"Build a package from a series of notebooks\"),\n",
    "        \"test\": (LiteraryTestApp, \"Run a series of notebook tests\"),\n",
    "    }\n",
    "\n",
    "    def start(self):\n",
    "        \"\"\"Perform the App's actions as configured\"\"\"\n",
    "        super().start()\n",
    "\n",
    "        # The above should have called a subcommand and raised NoStart; if we\n",
    "        # get here, it didn't, so we should self.log.info a message.\n",
    "        sub_commands = \", \".join(sorted(self.subcommands))\n",
    "        sys.exit(\"Please supply at least one subcommand: {}\".format(sub_commands))"
   ]
  },
  {
   "cell_type": "code",
   "execution_count": 4,
   "id": "sustainable-archive",
   "metadata": {
    "tags": [
     "export"
    ]
   },
   "outputs": [],
   "source": [
    "launch_new_instance = LiteraryLauncher.launch_instance"
   ]
  }
 ],
 "metadata": {
  "jupytext": {
   "cell_metadata_filter": "-all",
   "main_language": "python",
   "notebook_metadata_filter": "-all"
  },
  "kernelspec": {
   "display_name": "Python 3",
   "language": "python",
   "name": "python3"
  },
  "language_info": {
   "codemirror_mode": {
    "name": "ipython",
    "version": 3
   },
   "file_extension": ".py",
   "mimetype": "text/x-python",
   "name": "python",
   "nbconvert_exporter": "python",
   "pygments_lexer": "ipython3",
   "version": "3.9.0"
  }
 },
 "nbformat": 4,
 "nbformat_minor": 5
}

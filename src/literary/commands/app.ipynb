{
 "cells": [
  {
   "cell_type": "code",
   "execution_count": 1,
   "id": "spontaneous-llama",
   "metadata": {},
   "outputs": [],
   "source": [
    "%load_ext literary.module"
   ]
  },
  {
   "cell_type": "markdown",
   "id": "solar-necessity",
   "metadata": {
    "tags": [
     "docstring"
    ]
   },
   "source": [
    "# Literary Application"
   ]
  },
  {
   "cell_type": "code",
   "execution_count": 1,
   "id": "informed-raise",
   "metadata": {
    "execution": {
     "iopub.execute_input": "2022-05-12T11:23:59.952283Z",
     "iopub.status.busy": "2022-05-12T11:23:59.951856Z",
     "iopub.status.idle": "2022-05-12T11:24:00.061456Z",
     "shell.execute_reply": "2022-05-12T11:24:00.060887Z"
    },
    "tags": [
     "export"
    ]
   },
   "outputs": [],
   "source": [
    "from copy import deepcopy\n",
    "from importlib import import_module\n",
    "from inspect import getmembers\n",
    "from pathlib import Path\n",
    "\n",
    "from traitlets import List, Unicode, default, observe, validate\n",
    "from traitlets.config import Application, Configurable, catch_config_error\n",
    "\n",
    "from ..config import find_literary_config, load_literary_config\n",
    "from .trait import Path as PathTrait"
   ]
  },
  {
   "cell_type": "code",
   "execution_count": 2,
   "id": "74c77e66-da39-4d89-a52f-8491361d0bcf",
   "metadata": {
    "execution": {
     "iopub.execute_input": "2022-05-12T11:24:00.064247Z",
     "iopub.status.busy": "2022-05-12T11:24:00.063842Z",
     "iopub.status.idle": "2022-05-12T11:24:00.069852Z",
     "shell.execute_reply": "2022-05-12T11:24:00.069311Z"
    },
    "tags": [
     "export"
    ]
   },
   "outputs": [],
   "source": [
    "class LiteraryApp(Application):\n",
    "    name = \"literary\"\n",
    "    description = \"A Literary application\"\n",
    "    aliases = {**Application.aliases, \"config-file\": \"LiteraryApp.config_file\"}\n",
    "\n",
    "    config_file = PathTrait(help=\"Literary project configuration file\").tag(config=True)\n",
    "\n",
    "    project_path = PathTrait(help=\"Path to Literary project top-level directory\").tag(\n",
    "        config=True\n",
    "    )\n",
    "\n",
    "    packages_dir = Unicode(\n",
    "        \"src\", help=\"Path to Literary packages top-level directory\"\n",
    "    ).tag(config=True)\n",
    "\n",
    "    # Fix https://github.com/agoose77/literary/issues/31\n",
    "    classes = List()\n",
    "\n",
    "    @default(\"classes\")\n",
    "    def _classes_default(self):\n",
    "        modules = [\n",
    "            import_module(f\"..transpile.{n}\", __package__)\n",
    "            for n in (\n",
    "                \"exporter\",\n",
    "                \"preprocessor\",\n",
    "                \"syntax\",\n",
    "            )\n",
    "        ]\n",
    "\n",
    "        return [\n",
    "            cls\n",
    "            for m in modules\n",
    "            for _, cls in getmembers(m)\n",
    "            if isinstance(cls, type) and issubclass(cls, Configurable)\n",
    "        ]\n",
    "\n",
    "    @catch_config_error\n",
    "    def initialize(self, argv=None):\n",
    "        # Apply config file then reconfigure with commandline\n",
    "        # The following ordering ensures that traits are updated by both configuration\n",
    "        self.parse_command_line(argv)\n",
    "        argv_config = deepcopy(self.config)\n",
    "        self.load_app_config_file()\n",
    "        self.update_config(argv_config)\n",
    "\n",
    "    def load_app_config_file(self):\n",
    "        # Load configuration file\n",
    "        config = load_literary_config(self.config_file)\n",
    "        self.update_config(config)"
   ]
  },
  {
   "cell_type": "markdown",
   "id": "ad83924f-5e69-460b-8c9a-8d602abf939f",
   "metadata": {},
   "source": [
    "The `project_config_file` trait is an optional path that points to the configuration file"
   ]
  },
  {
   "cell_type": "code",
   "execution_count": 3,
   "id": "5b160148-86a4-4828-a616-3a6146a77e29",
   "metadata": {
    "execution": {
     "iopub.execute_input": "2022-05-12T11:24:00.072517Z",
     "iopub.status.busy": "2022-05-12T11:24:00.072205Z",
     "iopub.status.idle": "2022-05-12T11:24:00.076011Z",
     "shell.execute_reply": "2022-05-12T11:24:00.075470Z"
    },
    "tags": [
     "export"
    ]
   },
   "outputs": [],
   "source": [
    "@patch(LiteraryApp)\n",
    "@default(\"config_file\")\n",
    "def _config_file_default(self):\n",
    "    return find_literary_config(Path.cwd())"
   ]
  },
  {
   "cell_type": "markdown",
   "id": "aff8584e-6b90-4ac1-bae3-2f404b56d6ac",
   "metadata": {},
   "source": [
    "The `project_path` should point to the directory containing the Literary configuration file. We need this directory to exist for subsequent path resolution."
   ]
  },
  {
   "cell_type": "code",
   "execution_count": 4,
   "id": "0809aef0-26b0-4c62-963d-65a802bf5bb1",
   "metadata": {
    "execution": {
     "iopub.execute_input": "2022-05-12T11:24:00.078568Z",
     "iopub.status.busy": "2022-05-12T11:24:00.078266Z",
     "iopub.status.idle": "2022-05-12T11:24:00.082703Z",
     "shell.execute_reply": "2022-05-12T11:24:00.081921Z"
    },
    "tags": [
     "export"
    ]
   },
   "outputs": [],
   "source": [
    "@patch(LiteraryApp)\n",
    "@default(\"project_path\")\n",
    "def _project_path_default(self):\n",
    "    return self.config_file.parent"
   ]
  },
  {
   "cell_type": "markdown",
   "id": "22edb604-b3d5-4374-9b0d-f833c8f98ac9",
   "metadata": {},
   "source": [
    "Here we define the function to resolve a path against the project."
   ]
  },
  {
   "cell_type": "code",
   "execution_count": 5,
   "id": "1a9baca9-a61e-440f-9997-5a720fcc2990",
   "metadata": {
    "execution": {
     "iopub.execute_input": "2022-05-12T11:24:00.085113Z",
     "iopub.status.busy": "2022-05-12T11:24:00.084845Z",
     "iopub.status.idle": "2022-05-12T11:24:00.088353Z",
     "shell.execute_reply": "2022-05-12T11:24:00.087681Z"
    },
    "tags": [
     "export"
    ]
   },
   "outputs": [],
   "source": [
    "@patch(LiteraryApp)\n",
    "def resolve_path(self, path):\n",
    "    return self.project_path / path"
   ]
  },
  {
   "cell_type": "markdown",
   "id": "989b914b-dbaf-436b-aecc-fc9df6f5f3ce",
   "metadata": {},
   "source": [
    "The `packages_dir` should always be used after it has been resolved, so let's define a getter."
   ]
  },
  {
   "cell_type": "code",
   "execution_count": 6,
   "id": "663b69e3-8787-4fd7-a9bb-ec57797dc274",
   "metadata": {
    "execution": {
     "iopub.execute_input": "2022-05-12T11:24:00.090885Z",
     "iopub.status.busy": "2022-05-12T11:24:00.090613Z",
     "iopub.status.idle": "2022-05-12T11:24:00.094473Z",
     "shell.execute_reply": "2022-05-12T11:24:00.093790Z"
    },
    "tags": [
     "export"
    ]
   },
   "outputs": [],
   "source": [
    "@patch(LiteraryApp)\n",
    "@property\n",
    "def packages_path(self) -> Path:\n",
    "    return self.resolve_path(self.packages_dir)"
   ]
  }
 ],
 "metadata": {
  "jupytext": {
   "cell_metadata_filter": "-all",
   "main_language": "python",
   "notebook_metadata_filter": "-all"
  },
  "kernelspec": {
   "display_name": "Python 3 (ipykernel)",
   "language": "python",
   "name": "python3"
  },
  "language_info": {
   "codemirror_mode": {
    "name": "ipython",
    "version": 3
   },
   "file_extension": ".py",
   "mimetype": "text/x-python",
   "name": "python",
   "nbconvert_exporter": "python",
   "pygments_lexer": "ipython3",
   "version": "3.10.4"
  }
 },
 "nbformat": 4,
 "nbformat_minor": 5
}

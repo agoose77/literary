{
 "cells": [
  {
   "cell_type": "markdown",
   "id": "solar-necessity",
   "metadata": {
    "tags": [
     "docstring"
    ]
   },
   "source": [
    "# Literary Application"
   ]
  },
  {
   "cell_type": "code",
   "execution_count": 3,
   "id": "charming-harassment",
   "metadata": {
    "tags": []
   },
   "outputs": [],
   "source": [
    "%load_ext literary.notebook"
   ]
  },
  {
   "cell_type": "code",
   "execution_count": 4,
   "id": "informed-raise",
   "metadata": {
    "tags": [
     "export"
    ]
   },
   "outputs": [],
   "source": [
    "from pathlib import Path\n",
    "\n",
    "from traitlets import Unicode\n",
    "from traitlets.config import Application, catch_config_error\n",
    "\n",
    "from ..core.config import find_config_file"
   ]
  },
  {
   "cell_type": "code",
   "execution_count": 3,
   "id": "imported-thickness",
   "metadata": {
    "execution": {
     "iopub.execute_input": "2021-05-17T16:23:51.254569Z",
     "iopub.status.busy": "2021-05-17T16:23:51.253294Z",
     "iopub.status.idle": "2021-05-17T16:23:51.257241Z",
     "shell.execute_reply": "2021-05-17T16:23:51.256658Z"
    },
    "tags": [
     "export"
    ]
   },
   "outputs": [],
   "source": [
    "class LiteraryApp(Application):\n",
    "    name = \"literary\"\n",
    "    description = \"A Literary application\"\n",
    "    \n",
    "    def load_app_config_file():\n",
    "        file_path = find_config_file(Path.cwd())\n",
    "        self.load_config_file(file_path.name, str(file_path))\n",
    "    \n",
    "    @catch_config_error\n",
    "    def initialize(self, argv=None):\n",
    "        self.load_app_config_file()\n",
    "        self.parse_command_line(argv)"
   ]
  }
 ],
 "metadata": {
  "jupytext": {
   "cell_metadata_filter": "-all",
   "main_language": "python",
   "notebook_metadata_filter": "-all"
  },
  "kernelspec": {
   "display_name": "Python 3",
   "language": "python",
   "name": "python3"
  },
  "language_info": {
   "codemirror_mode": {
    "name": "ipython",
    "version": 3
   },
   "file_extension": ".py",
   "mimetype": "text/x-python",
   "name": "python",
   "nbconvert_exporter": "python",
   "pygments_lexer": "ipython3",
   "version": "3.9.0"
  }
 },
 "nbformat": 4,
 "nbformat_minor": 5
}

{
 "cells": [
  {
   "cell_type": "markdown",
   "id": "solar-necessity",
   "metadata": {
    "tags": [
     "docstring"
    ]
   },
   "source": [
    "# Literary Application"
   ]
  },
  {
   "cell_type": "code",
   "execution_count": 1,
   "id": "charming-harassment",
   "metadata": {
    "execution": {
     "iopub.execute_input": "2021-05-17T16:23:50.540467Z",
     "iopub.status.busy": "2021-05-17T16:23:50.539825Z",
     "iopub.status.idle": "2021-05-17T16:23:50.698448Z",
     "shell.execute_reply": "2021-05-17T16:23:50.696715Z"
    }
   },
   "outputs": [],
   "source": [
    "%load_ext literary.notebook"
   ]
  },
  {
   "cell_type": "code",
   "execution_count": 1,
   "id": "informed-raise",
   "metadata": {
    "tags": [
     "export"
    ]
   },
   "outputs": [],
   "source": [
    "from jupyter_core.application import JupyterApp"
   ]
  },
  {
   "cell_type": "code",
   "execution_count": 3,
   "id": "imported-thickness",
   "metadata": {
    "execution": {
     "iopub.execute_input": "2021-05-17T16:23:51.254569Z",
     "iopub.status.busy": "2021-05-17T16:23:51.253294Z",
     "iopub.status.idle": "2021-05-17T16:23:51.257241Z",
     "shell.execute_reply": "2021-05-17T16:23:51.256658Z"
    },
    "tags": [
     "export"
    ]
   },
   "outputs": [],
   "source": [
    "class LiteraryApp(JupyterApp):\n",
    "    name = \"literary\"\n",
    "    description = \"A Literary application\""
   ]
  }
 ],
 "metadata": {
  "jupytext": {
   "cell_metadata_filter": "-all",
   "main_language": "python",
   "notebook_metadata_filter": "-all"
  },
  "kernelspec": {
   "display_name": "Python 3",
   "language": "python",
   "name": "python3"
  },
  "language_info": {
   "codemirror_mode": {
    "name": "ipython",
    "version": 3
   },
   "file_extension": ".py",
   "mimetype": "text/x-python",
   "name": "python",
   "nbconvert_exporter": "python",
   "pygments_lexer": "ipython3",
   "version": "3.9.0"
  }
 },
 "nbformat": 4,
 "nbformat_minor": 5
}

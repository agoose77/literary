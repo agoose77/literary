{
 "cells": [
  {
   "cell_type": "markdown",
   "id": "solar-necessity",
   "metadata": {
    "tags": [
     "docstring"
    ]
   },
   "source": [
    "# Literary Application"
   ]
  },
  {
   "cell_type": "code",
   "execution_count": 1,
   "id": "charming-harassment",
   "metadata": {
    "execution": {
     "iopub.execute_input": "2021-05-18T21:00:07.853310Z",
     "iopub.status.busy": "2021-05-18T21:00:07.852533Z",
     "iopub.status.idle": "2021-05-18T21:00:07.991109Z",
     "shell.execute_reply": "2021-05-18T21:00:07.989952Z"
    },
    "tags": []
   },
   "outputs": [],
   "source": [
    "%load_ext literary.module"
   ]
  },
  {
   "cell_type": "code",
   "execution_count": 2,
   "id": "informed-raise",
   "metadata": {
    "execution": {
     "iopub.execute_input": "2021-05-18T21:00:07.997672Z",
     "iopub.status.busy": "2021-05-18T21:00:07.996449Z",
     "iopub.status.idle": "2021-05-18T21:00:08.000077Z",
     "shell.execute_reply": "2021-05-18T21:00:07.999029Z"
    },
    "tags": [
     "export"
    ]
   },
   "outputs": [],
   "source": [
    "from copy import deepcopy\n",
    "from importlib import import_module\n",
    "from inspect import getmembers\n",
    "from pathlib import Path\n",
    "\n",
    "from traitlets import List, Unicode, default\n",
    "from traitlets.config import Application, Configurable, catch_config_error\n",
    "\n",
    "from ..core.config import find_project_config, load_project_config\n",
    "from ..core.trait import Path as PathTrait"
   ]
  },
  {
   "cell_type": "code",
   "execution_count": 3,
   "id": "74c77e66-da39-4d89-a52f-8491361d0bcf",
   "metadata": {
    "execution": {
     "iopub.execute_input": "2021-05-18T21:00:08.014076Z",
     "iopub.status.busy": "2021-05-18T21:00:08.013127Z",
     "iopub.status.idle": "2021-05-18T21:00:08.017282Z",
     "shell.execute_reply": "2021-05-18T21:00:08.016046Z"
    },
    "tags": [
     "export"
    ]
   },
   "outputs": [],
   "source": [
    "class LiteraryApp(Application):\n",
    "    name = \"literary\"\n",
    "    description = \"A Literary application\"\n",
    "    aliases = {**Application.aliases, \"config-file\": \"LiteraryApp.project_config_file\"}\n",
    "\n",
    "    project_config_file = PathTrait(help=\"Literary project configuration file\").tag(\n",
    "        config=True\n",
    "    )\n",
    "\n",
    "    # Fix https://github.com/agoose77/literary/issues/31\n",
    "    classes = List()\n",
    "\n",
    "    @default(\"classes\")\n",
    "    def _classes_default(self):\n",
    "        modules = [\n",
    "            import_module(f\"..core.{n}\", __package__)\n",
    "            for n in (\n",
    "                \"exporter\",\n",
    "                \"package\",\n",
    "                \"preprocessor\",\n",
    "                \"project\",\n",
    "                \"test\",\n",
    "                \"transformers\",\n",
    "            )\n",
    "        ]\n",
    "\n",
    "        return [\n",
    "            cls\n",
    "            for m in modules\n",
    "            for _, cls in getmembers(m)\n",
    "            if isinstance(cls, type) and issubclass(cls, Configurable)\n",
    "        ]\n",
    "\n",
    "    @default(\"project_config_file\")\n",
    "    def _project_config_file_default(self):\n",
    "        return find_project_config(Path.cwd())\n",
    "\n",
    "    @catch_config_error\n",
    "    def initialize(self, argv=None):\n",
    "        # Apply config file then reconfigure with commandline\n",
    "        # The following ordering ensures that traits are updated by both configuration\n",
    "        self.parse_command_line(argv)\n",
    "        argv_config = deepcopy(self.config)\n",
    "        self.load_app_config_file()\n",
    "        self.update_config(argv_config)\n",
    "\n",
    "    def load_app_config_file(self):\n",
    "        # Load configuration file\n",
    "        config = load_project_config(self.project_config_file)\n",
    "        self.update_config(config)"
   ]
  }
 ],
 "metadata": {
  "jupytext": {
   "cell_metadata_filter": "-all",
   "main_language": "python",
   "notebook_metadata_filter": "-all"
  },
  "kernelspec": {
   "display_name": "Python 3",
   "language": "python",
   "name": "python3"
  },
  "language_info": {
   "codemirror_mode": {
    "name": "ipython",
    "version": 3
   },
   "file_extension": ".py",
   "mimetype": "text/x-python",
   "name": "python",
   "nbconvert_exporter": "python",
   "pygments_lexer": "ipython3",
   "version": "3.9.0"
  }
 },
 "nbformat": 4,
 "nbformat_minor": 5
}

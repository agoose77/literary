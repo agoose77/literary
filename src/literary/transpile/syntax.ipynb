{
 "cells": [
  {
   "cell_type": "markdown",
   "id": "ruled-spread",
   "metadata": {
    "tags": [
     "docstring"
    ]
   },
   "source": [
    "# AST Transform Routines"
   ]
  },
  {
   "cell_type": "code",
   "execution_count": 3,
   "id": "eaa04dfe-1007-44a8-ad14-28f16f82f5c5",
   "metadata": {
    "tags": []
   },
   "outputs": [
    {
     "name": "stdout",
     "output_type": "stream",
     "text": [
      "The literary.module extension is already loaded. To reload it, use:\n",
      "  %reload_ext literary.module\n"
     ]
    }
   ],
   "source": [
    "%load_ext literary.module\n",
    "\n",
    "import pytest"
   ]
  },
  {
   "cell_type": "code",
   "execution_count": 8,
   "id": "extended-national",
   "metadata": {
    "tags": [
     "export"
    ]
   },
   "outputs": [],
   "source": [
    "import ast\n",
    "import logging\n",
    "import typing as tp\n",
    "import sys\n",
    "\n",
    "from traitlets import Bool, Unicode\n",
    "from traitlets.config import Configurable"
   ]
  },
  {
   "cell_type": "code",
   "execution_count": 9,
   "id": "elect-event",
   "metadata": {
    "tags": [
     "export"
    ]
   },
   "outputs": [],
   "source": [
    "logger = logging.getLogger(__name__)"
   ]
  },
  {
   "cell_type": "code",
   "execution_count": 10,
   "id": "opponent-bottle",
   "metadata": {
    "tags": [
     "export"
    ]
   },
   "outputs": [],
   "source": [
    "T = tp.TypeVar(\"T\")"
   ]
  },
  {
   "cell_type": "markdown",
   "id": "b0b7a285-2f9e-4289-866f-9ac753db0a8e",
   "metadata": {},
   "source": [
    "## AST Roundtrip\n",
    "\n",
    "It's useful to be able to round-trip Python source via an AST transformer. Python versions older than 3.9.0 do not implement such a feature, requiring a third-party library."
   ]
  },
  {
   "cell_type": "code",
   "execution_count": 11,
   "id": "1b9efeab-cf2b-4f7a-942f-4bf1b98e2609",
   "metadata": {
    "tags": [
     "export"
    ]
   },
   "outputs": [],
   "source": [
    "# Backwards compatibility\n",
    "if sys.version_info < (3, 9, 0):\n",
    "    import astunparse\n",
    "    import astunparse.unparser\n",
    "\n",
    "    class ASTUnparser(astunparse.unparser.Unparser):\n",
    "        \"\"\"AST unparser with additional preference for triple-quoted multi-line strings\"\"\"\n",
    "\n",
    "        def _Constant(self, tree):\n",
    "            if isinstance(tree.value, str) and \"\\n\" in tree.value:\n",
    "                self.write(f'\"\"\"{escape_triple_quotes(tree.value)}\"\"\"')\n",
    "                return\n",
    "\n",
    "            super()._Constant(tree)\n",
    "\n",
    "    # Monkey patch to ensure correctness\n",
    "    astunparse.Unparser = ASTUnparser\n",
    "    astunparse.unparser.Unparser = ASTUnparser\n",
    "\n",
    "    from astunparse import unparse as unparse_ast\n",
    "else:\n",
    "    from ast import unparse as unparse_ast"
   ]
  },
  {
   "cell_type": "markdown",
   "id": "b72b8cb6-831e-449a-9c4b-02bfe55f4d95",
   "metadata": {},
   "source": [
    "Let's generate a test AST node"
   ]
  },
  {
   "cell_type": "code",
   "execution_count": 12,
   "id": "18f5f1ef-d08c-48b4-af2b-5a91cef05882",
   "metadata": {
    "tags": []
   },
   "outputs": [],
   "source": [
    "node = ast.parse(\"x = y = f'hello {__name__}'\")"
   ]
  },
  {
   "cell_type": "markdown",
   "id": "988230dd-52b8-484d-a075-a857298d0e72",
   "metadata": {},
   "source": [
    "We won't assert that the result is equal, because the `unparse_ast` method is allowed to apply optimisations to the generated source code. Let's look at the result visually, though:"
   ]
  },
  {
   "cell_type": "code",
   "execution_count": 13,
   "id": "e0aa5f2b-20e4-4ac3-ab6c-f9321315d9d3",
   "metadata": {
    "tags": []
   },
   "outputs": [
    {
     "data": {
      "text/plain": [
       "\"x = y = f'hello {__name__}'\""
      ]
     },
     "execution_count": 13,
     "metadata": {},
     "output_type": "execute_result"
    }
   ],
   "source": [
    "unparse_ast(node)"
   ]
  },
  {
   "cell_type": "markdown",
   "id": "driven-sucking",
   "metadata": {},
   "source": [
    "## IPython Magic Transformer"
   ]
  },
  {
   "cell_type": "markdown",
   "id": "civil-gamma",
   "metadata": {},
   "source": [
    "Many notebooks will contain IPython magics. It is important that generated modules do not contain these magics unless they are explicitly permitted with the `literary.IPythonTransformer.error_if_python` option is disabled."
   ]
  },
  {
   "cell_type": "code",
   "execution_count": 14,
   "id": "swedish-denial",
   "metadata": {
    "tags": [
     "export"
    ]
   },
   "outputs": [],
   "source": [
    "class IPythonTransformer(Configurable):\n",
    "    \"\"\"Node transformer which operates upon ast.Module nodes to check for IPython\n",
    "    statements.\n",
    "    \"\"\"\n",
    "\n",
    "    error_if_ipython = Bool(default_value=True).tag(config=True)\n",
    "\n",
    "    def visit(self, node: ast.Module) -> ast.Module:\n",
    "        \"\"\"Transform a Python module AST node\n",
    "\n",
    "        :param node: ast.Module object\n",
    "        :return: ast.Module object\n",
    "        \"\"\"\n",
    "        for descendant in ast.walk(node):\n",
    "            if not isinstance(descendant, ast.Call):\n",
    "                continue\n",
    "\n",
    "            if not isinstance(descendant.func, ast.Name):\n",
    "                continue\n",
    "\n",
    "            if descendant.func.id == \"get_ipython\":\n",
    "                msg = (\n",
    "                    \"`get_ipython` cannot be transpiled to pure-Python. \"\n",
    "                    \"Check for magics in exported code cells\"\n",
    "                )\n",
    "                if self.error_if_ipython:\n",
    "                    raise ValueError(msg)\n",
    "                else:\n",
    "                    logger.warning(msg)\n",
    "\n",
    "        return node"
   ]
  },
  {
   "cell_type": "markdown",
   "id": "fuzzy-august",
   "metadata": {},
   "source": [
    "Let's create a demo transformer:"
   ]
  },
  {
   "cell_type": "code",
   "execution_count": 15,
   "id": "imperial-character",
   "metadata": {
    "tags": []
   },
   "outputs": [],
   "source": [
    "ipython_transformer = IPythonTransformer(error_if_ipython=True)"
   ]
  },
  {
   "cell_type": "markdown",
   "id": "heated-castle",
   "metadata": {},
   "source": [
    "Generate an AST node that should fail upon visitation"
   ]
  },
  {
   "cell_type": "code",
   "execution_count": 16,
   "id": "transsexual-chart",
   "metadata": {
    "tags": []
   },
   "outputs": [],
   "source": [
    "node = ast.parse(\"get_ipython().magic('matplotlib inline')\")"
   ]
  },
  {
   "cell_type": "markdown",
   "id": "greek-cowboy",
   "metadata": {},
   "source": [
    "Now we run the test and raise an exception if it doesn't fail with a `ValueError`"
   ]
  },
  {
   "cell_type": "code",
   "execution_count": 17,
   "id": "guided-planning",
   "metadata": {
    "tags": []
   },
   "outputs": [
    {
     "ename": "NameError",
     "evalue": "name 'pytest' is not defined",
     "output_type": "error",
     "traceback": [
      "\u001b[0;31m---------------------------------------------------------------------------\u001b[0m",
      "\u001b[0;31mNameError\u001b[0m                                 Traceback (most recent call last)",
      "\u001b[0;32m/tmp/ipykernel_2975113/3262995093.py\u001b[0m in \u001b[0;36m<cell line: 1>\u001b[0;34m()\u001b[0m\n\u001b[0;32m----> 1\u001b[0;31m \u001b[0;32mwith\u001b[0m \u001b[0mpytest\u001b[0m\u001b[0;34m.\u001b[0m\u001b[0mraises\u001b[0m\u001b[0;34m(\u001b[0m\u001b[0mValueError\u001b[0m\u001b[0;34m)\u001b[0m\u001b[0;34m:\u001b[0m\u001b[0;34m\u001b[0m\u001b[0;34m\u001b[0m\u001b[0m\n\u001b[0m\u001b[1;32m      2\u001b[0m     \u001b[0mipython_transformer\u001b[0m\u001b[0;34m.\u001b[0m\u001b[0mvisit\u001b[0m\u001b[0;34m(\u001b[0m\u001b[0mnode\u001b[0m\u001b[0;34m)\u001b[0m\u001b[0;34m\u001b[0m\u001b[0;34m\u001b[0m\u001b[0m\n",
      "\u001b[0;31mNameError\u001b[0m: name 'pytest' is not defined"
     ]
    }
   ],
   "source": [
    "with pytest.raises(ValueError):\n",
    "    ipython_transformer.visit(node)"
   ]
  },
  {
   "cell_type": "markdown",
   "id": "technological-crown",
   "metadata": {},
   "source": [
    "## Class Monkeypatch Transformer\n",
    "In Jupyter notebooks it is not always convenient to write long definitions; e.g. class definitions can be composed of several nontrivial member functions and attributes. Here we define a transformer to rejoin disparate definitions such that the generated AST tree is performant, and will generate code that lives under a single class statement."
   ]
  },
  {
   "cell_type": "code",
   "execution_count": 18,
   "id": "indonesian-prior",
   "metadata": {
    "tags": [
     "export"
    ]
   },
   "outputs": [],
   "source": [
    "class PatchTransformer(Configurable):\n",
    "    \"\"\"Node transformer which operates upon ast.Module nodes to handle patches.\"\"\"\n",
    "\n",
    "    patch_decorator_id = Unicode(\"patch\").tag(config=True)\n",
    "\n",
    "    def _is_patch_decorator(self, node) -> bool:\n",
    "        \"\"\"Return True if the given ast node is a patch() decorator\n",
    "\n",
    "        :param node: ast node\n",
    "        :return:\n",
    "        \"\"\"\n",
    "        return (\n",
    "            isinstance(node, ast.Call)\n",
    "            and isinstance(node.func, ast.Name)\n",
    "            and node.func.id == self.patch_decorator_id\n",
    "        )\n",
    "\n",
    "    def _apply_patches_to_node(self, decorated, classes: tp.Dict[str, tp.Any]):\n",
    "        \"\"\"Append patch functions to body of patched class.\n",
    "\n",
    "        :param decorated: decorated function node\n",
    "        :param classes: mapping of name to class node\n",
    "        :return: whether node should be removed from original AST location\n",
    "        \"\"\"\n",
    "        patch_decorators = []\n",
    "        other_decorators = []\n",
    "\n",
    "        for node in decorated.decorator_list:\n",
    "            if self._is_patch_decorator(node):\n",
    "                if other_decorators:\n",
    "                    raise ValueError(\n",
    "                        \"Applying decorators to a patched function is not \"\n",
    "                        \"safe at runtime, and is hence prohibited.\"\n",
    "                    )\n",
    "                patch_decorators.append(node)\n",
    "            else:\n",
    "                other_decorators.append(node)\n",
    "\n",
    "        if not patch_decorators:\n",
    "            return False\n",
    "\n",
    "        logger.info(f\"Found patch function {ast.dump(decorated)}\")\n",
    "        decorated.decorator_list = other_decorators\n",
    "\n",
    "        # Copy decorated node to destination body\n",
    "        for node in reversed(patch_decorators):\n",
    "            (patched_name_node,) = node.args\n",
    "            patched_node = classes[patched_name_node.id]\n",
    "            patched_node.body.append(decorated)\n",
    "            logger.debug(f\"Patching {patched_node.name} with {ast.dump(decorated)}\")\n",
    "\n",
    "        return True\n",
    "\n",
    "    def _transform_module_body(self, nodes: tp.Iterable[T]) -> tp.Iterable[T]:\n",
    "        \"\"\"Transform the nodes of an ast.Module to handle patches.\n",
    "\n",
    "        :param nodes: iterable of ast nodes\n",
    "        :return:\n",
    "        \"\"\"\n",
    "        classes = {}\n",
    "        for child in nodes:\n",
    "            if isinstance(child, ast.ClassDef):\n",
    "                classes[child.name] = child\n",
    "\n",
    "            # If there were patch decorators, don't keep this node\n",
    "            if hasattr(child, \"decorator_list\") and self._apply_patches_to_node(\n",
    "                child, classes\n",
    "            ):\n",
    "                continue\n",
    "\n",
    "            yield child\n",
    "\n",
    "    def visit(self, node: ast.Module) -> ast.Module:\n",
    "        \"\"\"Transform a Python module AST node.\n",
    "\n",
    "        :param node: ast.Module object\n",
    "        :return: ast.Module object\n",
    "        \"\"\"\n",
    "        node.body = [*self._transform_module_body(node.body)]\n",
    "        ast.fix_missing_locations(node)\n",
    "        return node"
   ]
  },
  {
   "cell_type": "markdown",
   "id": "stable-techno",
   "metadata": {},
   "source": [
    "We can demonstrate this on an example class"
   ]
  },
  {
   "cell_type": "code",
   "execution_count": 19,
   "id": "rental-ladder",
   "metadata": {
    "tags": []
   },
   "outputs": [],
   "source": [
    "transformer = PatchTransformer(patch_decorator_id=\"patch\")"
   ]
  },
  {
   "cell_type": "code",
   "execution_count": 20,
   "id": "speaking-yellow",
   "metadata": {
    "tags": []
   },
   "outputs": [],
   "source": [
    "node = ast.parse(\n",
    "    \"\"\"\n",
    "class TestClass:\n",
    "    pass\n",
    "\n",
    "@patch(TestClass)\n",
    "def method_a(self):\n",
    "    pass\n",
    "\n",
    "@patch(TestClass)\n",
    "def method_b(self):\n",
    "    pass\n",
    "\"\"\"\n",
    ")"
   ]
  },
  {
   "cell_type": "code",
   "execution_count": 21,
   "id": "polyphonic-airfare",
   "metadata": {
    "tags": []
   },
   "outputs": [],
   "source": [
    "new_node = transformer.visit(node)"
   ]
  },
  {
   "cell_type": "code",
   "execution_count": 22,
   "id": "charitable-regular",
   "metadata": {
    "tags": []
   },
   "outputs": [
    {
     "name": "stdout",
     "output_type": "stream",
     "text": [
      "class TestClass:\n",
      "    pass\n",
      "\n",
      "    def method_a(self):\n",
      "        pass\n",
      "\n",
      "    def method_b(self):\n",
      "        pass\n"
     ]
    }
   ],
   "source": [
    "print(unparse_ast(new_node))"
   ]
  }
 ],
 "metadata": {
  "jupytext": {
   "cell_metadata_filter": "-all",
   "main_language": "python",
   "notebook_metadata_filter": "-all"
  },
  "kernelspec": {
   "display_name": "Python 3 (ipykernel)",
   "language": "python",
   "name": "python3"
  },
  "language_info": {
   "codemirror_mode": {
    "name": "ipython",
    "version": 3
   },
   "file_extension": ".py",
   "mimetype": "text/x-python",
   "name": "python",
   "nbconvert_exporter": "python",
   "pygments_lexer": "ipython3",
   "version": "3.10.4"
  }
 },
 "nbformat": 4,
 "nbformat_minor": 5
}

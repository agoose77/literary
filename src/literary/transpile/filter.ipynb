{
 "cells": [
  {
   "cell_type": "markdown",
   "id": "lonely-region",
   "metadata": {
    "tags": [
     "docstring"
    ]
   },
   "source": [
    "# Jinja Filters"
   ]
  },
  {
   "cell_type": "code",
   "execution_count": 1,
   "id": "pursuant-sperm",
   "metadata": {
    "tags": []
   },
   "outputs": [],
   "source": [
    "%load_ext literary.module"
   ]
  },
  {
   "cell_type": "code",
   "execution_count": 2,
   "id": "liberal-weekend",
   "metadata": {
    "execution": {
     "iopub.execute_input": "2021-05-18T21:00:37.599010Z",
     "iopub.status.busy": "2021-05-18T21:00:37.597842Z",
     "iopub.status.idle": "2021-05-18T21:00:37.601461Z",
     "shell.execute_reply": "2021-05-18T21:00:37.600272Z"
    },
    "tags": [
     "export"
    ]
   },
   "outputs": [],
   "source": [
    "from typing_extensions import Literal"
   ]
  },
  {
   "cell_type": "markdown",
   "id": "polished-seeker",
   "metadata": {},
   "source": [
    "## Quoting"
   ]
  },
  {
   "cell_type": "markdown",
   "id": "heard-present",
   "metadata": {},
   "source": [
    "In rendering the docstring for the generated Python module source, it is necessary to escape triple quoted strings. Here we implement such a function:"
   ]
  },
  {
   "cell_type": "code",
   "execution_count": 3,
   "id": "mediterranean-conflict",
   "metadata": {
    "execution": {
     "iopub.execute_input": "2021-05-18T21:00:37.610300Z",
     "iopub.status.busy": "2021-05-18T21:00:37.609804Z",
     "iopub.status.idle": "2021-05-18T21:00:37.613656Z",
     "shell.execute_reply": "2021-05-18T21:00:37.612418Z"
    },
    "tags": [
     "export"
    ]
   },
   "outputs": [],
   "source": [
    "def escape_triple_quotes(string: str, single_quote: Literal[\"'\", '\"'] = '\"') -> str:\n",
    "    \"\"\"Escape triple quotes inside a string\n",
    "\n",
    "    :param string: string to escape\n",
    "    :param single_quote: single-quote character\n",
    "    :return: escaped string\n",
    "    \"\"\"\n",
    "    assert len(single_quote) == 1\n",
    "    quote = single_quote * 3\n",
    "    escaped_single_quote = rf\"\\{single_quote}\"\n",
    "    escaped_quote = escaped_single_quote * 3\n",
    "    return string.replace(quote, escaped_quote)"
   ]
  },
  {
   "cell_type": "markdown",
   "id": "stone-precipitation",
   "metadata": {},
   "source": [
    "Let's ensure that this function behaves as expected for the `\"` quote"
   ]
  },
  {
   "cell_type": "code",
   "execution_count": 4,
   "id": "vocational-catalog",
   "metadata": {
    "execution": {
     "iopub.execute_input": "2021-05-18T21:00:37.620434Z",
     "iopub.status.busy": "2021-05-18T21:00:37.619236Z",
     "iopub.status.idle": "2021-05-18T21:00:37.622281Z",
     "shell.execute_reply": "2021-05-18T21:00:37.621662Z"
    }
   },
   "outputs": [],
   "source": [
    "assert (\n",
    "    escape_triple_quotes('''\"\"\"Hello, I'm a triple quoted string\"\"\"''')\n",
    "    == r'''\\\"\\\"\\\"Hello, I'm a triple quoted string\\\"\\\"\\\"'''\n",
    ")"
   ]
  },
  {
   "cell_type": "markdown",
   "id": "other-notification",
   "metadata": {},
   "source": [
    "and for the `'` quote"
   ]
  },
  {
   "cell_type": "code",
   "execution_count": 5,
   "id": "respective-greene",
   "metadata": {
    "execution": {
     "iopub.execute_input": "2021-05-18T21:00:37.627047Z",
     "iopub.status.busy": "2021-05-18T21:00:37.626462Z",
     "iopub.status.idle": "2021-05-18T21:00:37.629522Z",
     "shell.execute_reply": "2021-05-18T21:00:37.628922Z"
    }
   },
   "outputs": [],
   "source": [
    "assert (\n",
    "    escape_triple_quotes(\"\"\"'''Hello, I'm a triple quoted string'''\"\"\", \"'\")\n",
    "    == r\"\\'\\'\\'Hello, I'm a triple quoted string\\'\\'\\'\"\n",
    ")"
   ]
  }
 ],
 "metadata": {
  "jupytext": {
   "cell_metadata_filter": "-all",
   "main_language": "python",
   "notebook_metadata_filter": "-all"
  },
  "kernelspec": {
   "display_name": "Python 3 (ipykernel)",
   "language": "python",
   "name": "python3"
  },
  "language_info": {
   "codemirror_mode": {
    "name": "ipython",
    "version": 3
   },
   "file_extension": ".py",
   "mimetype": "text/x-python",
   "name": "python",
   "nbconvert_exporter": "python",
   "pygments_lexer": "ipython3",
   "version": "3.10.4"
  }
 },
 "nbformat": 4,
 "nbformat_minor": 5
}

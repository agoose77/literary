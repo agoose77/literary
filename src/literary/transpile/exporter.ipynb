{
 "cells": [
  {
   "cell_type": "markdown",
   "id": "apart-routine",
   "metadata": {
    "tags": [
     "docstring"
    ]
   },
   "source": [
    "# Exporter"
   ]
  },
  {
   "cell_type": "code",
   "execution_count": 1,
   "id": "amino-timer",
   "metadata": {
    "execution": {
     "iopub.execute_input": "2021-05-18T21:00:20.356597Z",
     "iopub.status.busy": "2021-05-18T21:00:20.355821Z",
     "iopub.status.idle": "2021-05-18T21:00:20.495442Z",
     "shell.execute_reply": "2021-05-18T21:00:20.494199Z"
    }
   },
   "outputs": [],
   "source": [
    "%load_ext literary.module"
   ]
  },
  {
   "cell_type": "code",
   "execution_count": 2,
   "id": "congressional-sacrifice",
   "metadata": {
    "execution": {
     "iopub.execute_input": "2021-05-18T21:00:20.504388Z",
     "iopub.status.busy": "2021-05-18T21:00:20.503141Z",
     "iopub.status.idle": "2021-05-18T21:00:20.506583Z",
     "shell.execute_reply": "2021-05-18T21:00:20.507551Z"
    },
    "tags": [
     "export"
    ]
   },
   "outputs": [],
   "source": [
    "import ast\n",
    "import sys\n",
    "\n",
    "from nbconvert.exporters import PythonExporter\n",
    "from traitlets import List, default, import_item\n",
    "from traitlets.config import Config\n",
    "\n",
    "from .preprocessor import TagAllowListPreprocessor\n",
    "from .filter import escape_triple_quotes\n",
    "from .syntax import unparse_ast"
   ]
  },
  {
   "cell_type": "code",
   "execution_count": 3,
   "id": "deadly-gross",
   "metadata": {
    "execution": {
     "iopub.execute_input": "2021-05-18T21:00:20.521232Z",
     "iopub.status.busy": "2021-05-18T21:00:20.519982Z",
     "iopub.status.idle": "2021-05-18T21:00:20.522516Z",
     "shell.execute_reply": "2021-05-18T21:00:20.523504Z"
    },
    "tags": [
     "export"
    ]
   },
   "outputs": [],
   "source": [
    "class LiteraryExporter(PythonExporter):\n",
    "    def __init__(self, *args, **kwargs):\n",
    "        \"\"\"\n",
    "        Public constructor\n",
    "\n",
    "        Parameters\n",
    "        ----------\n",
    "        config : ``traitlets.config.Config``\n",
    "            User configuration instance.\n",
    "        `**kw`\n",
    "            Additional keyword arguments passed to parent __init__\n",
    "\n",
    "        \"\"\"\n",
    "\n",
    "        super().__init__(*args, **kwargs)\n",
    "\n",
    "        self._init_transformers()\n",
    "\n",
    "    transformers = List(\n",
    "        default_value=[\n",
    "            \"literary.transpile.syntax.PatchTransformer\",\n",
    "            \"literary.transpile.syntax.IPythonTransformer\",\n",
    "        ]\n",
    "    ).tag(config=True)\n",
    "\n",
    "    def _init_transformers(self):\n",
    "        self._transformers = []\n",
    "\n",
    "        for value in self.transformers:\n",
    "            if isinstance(value, str):\n",
    "                value = import_item(value)\n",
    "            self._transformers.append(value(parent=self.parent))\n",
    "\n",
    "    @default(\"template_name\")\n",
    "    def _template_name_default(self):\n",
    "        return \"literary\"\n",
    "\n",
    "    @default(\"default_preprocessors\")\n",
    "    def _default_preprocessors_default(self):\n",
    "        return [TagAllowListPreprocessor]\n",
    "\n",
    "    @default(\"exclude_input_prompt\")\n",
    "    def _exclude_input_prompt_default(self):\n",
    "        return True\n",
    "\n",
    "    @property\n",
    "    def default_config(self):\n",
    "        c = Config(\n",
    "            {\n",
    "                \"TagAllowListPreprocessor\": {\"enabled\": True},\n",
    "            }\n",
    "        )\n",
    "        c.merge(super().default_config)\n",
    "        return c\n",
    "\n",
    "    def default_filters(self):\n",
    "        yield from super().default_filters()\n",
    "        yield \"escape_triple_quotes\", escape_triple_quotes\n",
    "\n",
    "    def from_notebook_node(self, nb, resources=None, **kwargs):\n",
    "        body, resources = super().from_notebook_node(nb, resources, **kwargs)\n",
    "        node = ast.parse(body)\n",
    "\n",
    "        try:\n",
    "            # Support ast.NodeTransformer and custom transformers using\n",
    "            # `visit()` API\n",
    "            for transformer in self._transformers:\n",
    "                node = transformer.visit(node)\n",
    "        except Exception as err:\n",
    "            raise RuntimeError(\n",
    "                f\"An error occurred during AST transforming: {body}\"\n",
    "            ) from err\n",
    "\n",
    "        return unparse_ast(node), resources"
   ]
  }
 ],
 "metadata": {
  "jupytext": {
   "cell_metadata_filter": "-all",
   "main_language": "python",
   "notebook_metadata_filter": "-all"
  },
  "kernelspec": {
   "display_name": "Python 3 (ipykernel)",
   "language": "python",
   "name": "python3"
  },
  "language_info": {
   "codemirror_mode": {
    "name": "ipython",
    "version": 3
   },
   "file_extension": ".py",
   "mimetype": "text/x-python",
   "name": "python",
   "nbconvert_exporter": "python",
   "pygments_lexer": "ipython3",
   "version": "3.10.4"
  }
 },
 "nbformat": 4,
 "nbformat_minor": 5
}
